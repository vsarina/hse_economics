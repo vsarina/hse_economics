{
 "cells": [
  {
   "cell_type": "code",
   "execution_count": 1,
   "id": "855fd859",
   "metadata": {},
   "outputs": [
    {
     "name": "stdout",
     "output_type": "stream",
     "text": [
      "Collecting gekko\n",
      "  Downloading gekko-1.0.6-py3-none-any.whl (12.2 MB)\n",
      "\u001b[K     |████████████████████████████████| 12.2 MB 4.7 MB/s eta 0:00:01    |█████████████████▋              | 6.7 MB 5.3 MB/s eta 0:00:02\n",
      "\u001b[?25hRequirement already satisfied: numpy>=1.8 in /Users/Arina/opt/anaconda3/lib/python3.9/site-packages (from gekko) (1.20.0)\n",
      "Installing collected packages: gekko\n",
      "Successfully installed gekko-1.0.6\n"
     ]
    }
   ],
   "source": [
    "!pip install gekko\n",
    "from gekko import GEKKO\n",
    "import numpy as np\n",
    "import matplotlib.pyplot as plt\n",
    "import math\n",
    "import os"
   ]
  },
  {
   "cell_type": "code",
   "execution_count": 2,
   "id": "b1659354",
   "metadata": {},
   "outputs": [],
   "source": [
    "a1 = 3\n",
    "a2 = 6\n",
    "a3 = 19\n",
    "b1 = 1\n",
    "b2 = 18\n",
    "b3 = 10\n",
    "c1 = 16\n",
    "c2 = 13\n",
    "c3 = 6"
   ]
  },
  {
   "cell_type": "markdown",
   "id": "3c521199",
   "metadata": {},
   "source": [
    "# Задача 7\n",
    "\n",
    "а)"
   ]
  },
  {
   "cell_type": "code",
   "execution_count": 18,
   "id": "9810e66a",
   "metadata": {},
   "outputs": [
    {
     "name": "stdout",
     "output_type": "stream",
     "text": [
      " ----------------------------------------------------------------\n",
      " APMonitor, Version 1.0.1\n",
      " APMonitor Optimization Suite\n",
      " ----------------------------------------------------------------\n",
      " \n",
      " \n",
      " --------- APM Model Size ------------\n",
      " Each time step contains\n",
      "   Objects      :            0\n",
      "   Constants    :            0\n",
      "   Variables    :            5\n",
      "   Intermediates:            0\n",
      "   Connections  :            0\n",
      "   Equations    :            4\n",
      "   Residuals    :            4\n",
      " \n",
      " Number of state variables:           7000\n",
      " Number of total equations: -         6000\n",
      " Number of slack variables: -            0\n",
      " ---------------------------------------\n",
      " Degrees of freedom       :           1000\n",
      " \n",
      " solver            3  not supported\n",
      " using default solver: APOPT\n",
      " ----------------------------------------------\n",
      " Dynamic Control with APOPT Solver\n",
      " ----------------------------------------------\n",
      " \n",
      " Iter    Objective  Convergence\n",
      "    0  9.93961E+03  1.00000E+00\n",
      "    1  5.55705E+00  6.45430E-01\n",
      "    2  5.52484E+00  6.48305E-05\n",
      "    3  5.54735E+00  7.03124E-02\n",
      "    4  5.53959E+00  6.23235E-02\n",
      "    5  5.53959E+00  8.30942E-08\n",
      "    6  5.53959E+00  8.32519E-10\n",
      "    7  5.53959E+00  8.32519E-10\n",
      " Successful solution\n",
      " \n",
      " ---------------------------------------------------\n",
      " Solver         :  IPOPT (v3.12)\n",
      " Solution time  :    3.95969999999988      sec\n",
      " Objective      :    5.53958587614761     \n",
      " Successful solution\n",
      " ---------------------------------------------------\n",
      " \n",
      "\n"
     ]
    },
    {
     "data": {
      "image/png": "[encoded data removed]",
      "text/plain": [
       "<Figure size 432x288 with 1 Axes>"
      ]
     },
     "metadata": {
      "needs_background": "light"
     },
     "output_type": "display_data"
    }
   ],
   "source": [
    "# Инициализируем модель\n",
    "m = GEKKO(remote=False)\n",
    "nt = 1001\n",
    "m.time = np.linspace(0, 2, nt) # Задаем отрезок времени\n",
    "\n",
    "# Задаём переменные со всеми ограничениями\n",
    "y = m.Var(value=0)\n",
    "z = m.Var(value=5)\n",
    "u = m.Var(value=0,lb=-3/8, ub=3/8)\n",
    "t = m.Var(value=0)\n",
    "\n",
    "# Отмечаем последнюю точку\n",
    "p = np.zeros(nt)\n",
    "p[-1] = 1.0\n",
    "final = m.Param(value=p)\n",
    "\n",
    "\n",
    "# Задаём уравнения\n",
    "m.Equation(y.dt() == u - t)\n",
    "m.Equation(t.dt() == 1)\n",
    "m.Equation(z.dt() == (u**2)/2 - t*y + y) # Задаем функционал\n",
    "m.Obj(z * final)  # Целевая функция\n",
    "m.options.IMODE = 6 # 6 -- задача оптимального управления/динамического программирования\n",
    "m.solve(disp=True) # Находим решение\n",
    "\n",
    "\n",
    "# График решения\n",
    "plt.plot(m.time[1:], y.value[1:], 'k-', label=r'$y$')\n",
    "plt.plot(m.time[1:],u.value[1:],'r--',label=r'$u$')\n",
    "plt.legend(loc='best')\n",
    "plt.xlabel('Time')\n",
    "plt.ylabel('Value')\n",
    "plt.show()"
   ]
  },
  {
   "cell_type": "markdown",
   "id": "f72fafbd",
   "metadata": {},
   "source": [
    "b)"
   ]
  },
  {
   "cell_type": "code",
   "execution_count": 19,
   "id": "4e830f10",
   "metadata": {},
   "outputs": [
    {
     "name": "stdout",
     "output_type": "stream",
     "text": [
      " ----------------------------------------------------------------\n",
      " APMonitor, Version 1.0.1\n",
      " APMonitor Optimization Suite\n",
      " ----------------------------------------------------------------\n",
      " \n",
      " \n",
      " --------- APM Model Size ------------\n",
      " Each time step contains\n",
      "   Objects      :            0\n",
      "   Constants    :            0\n",
      "   Variables    :            5\n",
      "   Intermediates:            0\n",
      "   Connections  :            0\n",
      "   Equations    :            4\n",
      "   Residuals    :            4\n",
      " \n",
      " Number of state variables:           7000\n",
      " Number of total equations: -         6000\n",
      " Number of slack variables: -            0\n",
      " ---------------------------------------\n",
      " Degrees of freedom       :           1000\n",
      " \n",
      " solver            3  not supported\n",
      " using default solver: APOPT\n",
      " ----------------------------------------------\n",
      " Dynamic Control with APOPT Solver\n",
      " ----------------------------------------------\n",
      " \n",
      " Iter    Objective  Convergence\n",
      "    0  1.23428E+04  1.00000E+00\n",
      "    1  5.49061E+00  6.45430E-01\n",
      "    2  5.45698E+00  1.86843E-03\n",
      "    3  5.45293E+00  6.49366E-02\n",
      "    4  5.45473E+00  1.42224E-02\n",
      "    5  5.45246E+00  1.38331E-04\n",
      "    6  5.45390E+00  1.26754E-02\n",
      "    7  5.45342E+00  9.33835E-04\n",
      "    8  5.45321E+00  4.38767E-04\n",
      "    9  5.45321E+00  1.17612E-05\n",
      " \n",
      " Iter    Objective  Convergence\n",
      "   10  5.45321E+00  2.80135E-07\n",
      "   11  5.45321E+00  2.80135E-07\n",
      " Successful solution\n",
      " \n",
      " ---------------------------------------------------\n",
      " Solver         :  IPOPT (v3.12)\n",
      " Solution time  :    5.25829999999996      sec\n",
      " Objective      :    5.45320849343063     \n",
      " Successful solution\n",
      " ---------------------------------------------------\n",
      " \n",
      "\n"
     ]
    },
    {
     "data": {
      "image/png": "[encoded data removed]",
      "text/plain": [
       "<Figure size 432x288 with 1 Axes>"
      ]
     },
     "metadata": {
      "needs_background": "light"
     },
     "output_type": "display_data"
    }
   ],
   "source": [
    "# Инициализируем модель\n",
    "m = GEKKO(remote=False)\n",
    "nt = 1001\n",
    "m.time = np.linspace(0, 2, nt) # Задаем отрезок времени\n",
    "\n",
    "# Задаём переменные со всеми ограничениями\n",
    "y = m.Var(value=0)\n",
    "z = m.Var(value=5)\n",
    "u = m.Var(value=0,lb=-3/8, ub=3/8)\n",
    "t = m.Var(value=0)\n",
    "\n",
    "# Отмечаем последнюю точку\n",
    "p = np.zeros(nt)\n",
    "p[-1] = 1.0\n",
    "final = m.Param(value=p)\n",
    "\n",
    "\n",
    "# Задаём уравнения\n",
    "m.Equation(y.dt() == u + u**2 - t)\n",
    "m.Equation(t.dt() == 1)\n",
    "m.Equation(z.dt() == (u**2)/2 - t*y + y) # Задаем функционал\n",
    "m.Obj(z * final)  # Целевая функция\n",
    "m.options.IMODE = 6 # 6 -- задача оптимального управления/динамического программирования\n",
    "m.solve(disp=True) # Находим решение\n",
    "\n",
    "\n",
    "# График решения\n",
    "plt.plot(m.time[1:], y.value[1:], 'k-', label=r'$y$')\n",
    "plt.plot(m.time[1:],u.value[1:],'r--',label=r'$u$')\n",
    "plt.legend(loc='best')\n",
    "plt.xlabel('Time')\n",
    "plt.ylabel('Value')\n",
    "plt.show()"
   ]
  },
  {
   "cell_type": "code",
   "execution_count": null,
   "id": "91efb319",
   "metadata": {},
   "outputs": [],
   "source": []
  }
 ],
 "metadata": {
  "kernelspec": {
   "display_name": "Python 3 (ipykernel)",
   "language": "python",
   "name": "python3"
  },
  "language_info": {
   "codemirror_mode": {
    "name": "ipython",
    "version": 3
   },
   "file_extension": ".py",
   "mimetype": "text/x-python",
   "name": "python",
   "nbconvert_exporter": "python",
   "pygments_lexer": "ipython3",
   "version": "3.9.12"
  }
 },
 "nbformat": 4,
 "nbformat_minor": 5
}
