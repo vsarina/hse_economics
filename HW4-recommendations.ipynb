{
 "cells": [
  {
   "cell_type": "markdown",
   "id": "ee35127e",
   "metadata": {
    "id": "ee35127e"
   },
   "source": [
    "# Прикладные задачи анализа данных\n",
    "\n",
    "## Домашнее задание 4\n",
    "\n",
    "В этой работе мы будем решать задачу рекомендаций музыки. Для этого мы реализуем метод коллаборативной фильтрации и модель со скрытыми переменными, сравним их между собой и попытаемся сделать выводы. Во всех заданиях разрешается переписывать код по своему усмотрению, предложенные шаблоны несут лишь рекомендательный характер. За дополнительные эксперименты с методами и их анализ можно получить бонусные баллы."
   ]
  },
  {
   "cell_type": "code",
   "execution_count": 68,
   "id": "75f6503b",
   "metadata": {
    "id": "75f6503b"
   },
   "outputs": [],
   "source": [
    "from sklearn.preprocessing import LabelEncoder\n",
    "\n",
    "import pandas as pd\n",
    "import numpy as np\n",
    "from tqdm.notebook import tqdm\n",
    "from typing import Callable, List\n",
    "\n",
    "import matplotlib.pyplot as plt\n",
    "import seaborn as sns\n",
    "import scipy.sparse as scs"
   ]
  },
  {
   "cell_type": "code",
   "execution_count": 69,
   "id": "q39kPlJ6jsQc",
   "metadata": {
    "colab": {
     "base_uri": "https://localhost:8080/",
     "height": 204
    },
    "id": "q39kPlJ6jsQc",
    "outputId": "67fc7d37-90b0-4c9a-fb3d-f75ad031ed81"
   },
   "outputs": [
    {
     "data": {
      "text/html": [
       "<div>\n",
       "<style scoped>\n",
       "    .dataframe tbody tr th:only-of-type {\n",
       "        vertical-align: middle;\n",
       "    }\n",
       "\n",
       "    .dataframe tbody tr th {\n",
       "        vertical-align: top;\n",
       "    }\n",
       "\n",
       "    .dataframe thead th {\n",
       "        text-align: right;\n",
       "    }\n",
       "</style>\n",
       "<table border=\"1\" class=\"dataframe\">\n",
       "  <thead>\n",
       "    <tr style=\"text-align: right;\">\n",
       "      <th></th>\n",
       "      <th>userId</th>\n",
       "      <th>trackId</th>\n",
       "    </tr>\n",
       "  </thead>\n",
       "  <tbody>\n",
       "    <tr>\n",
       "      <th>0</th>\n",
       "      <td>0</td>\n",
       "      <td>14</td>\n",
       "    </tr>\n",
       "    <tr>\n",
       "      <th>1</th>\n",
       "      <td>0</td>\n",
       "      <td>95</td>\n",
       "    </tr>\n",
       "    <tr>\n",
       "      <th>2</th>\n",
       "      <td>0</td>\n",
       "      <td>219</td>\n",
       "    </tr>\n",
       "    <tr>\n",
       "      <th>3</th>\n",
       "      <td>0</td>\n",
       "      <td>220</td>\n",
       "    </tr>\n",
       "    <tr>\n",
       "      <th>4</th>\n",
       "      <td>0</td>\n",
       "      <td>404</td>\n",
       "    </tr>\n",
       "  </tbody>\n",
       "</table>\n",
       "</div>"
      ],
      "text/plain": [
       "   userId  trackId\n",
       "0       0       14\n",
       "1       0       95\n",
       "2       0      219\n",
       "3       0      220\n",
       "4       0      404"
      ]
     },
     "execution_count": 69,
     "metadata": {},
     "output_type": "execute_result"
    }
   ],
   "source": [
    "ratings = pd.read_csv('music_dataset.csv')\n",
    "ratings.head()"
   ]
  },
  {
   "cell_type": "code",
   "execution_count": 70,
   "id": "PgGrUf6TSvHC",
   "metadata": {
    "colab": {
     "base_uri": "https://localhost:8080/",
     "height": 204
    },
    "id": "PgGrUf6TSvHC",
    "outputId": "2bdd725a-c737-4f08-f520-4fcd94dca36b"
   },
   "outputs": [
    {
     "data": {
      "text/html": [
       "<div>\n",
       "<style scoped>\n",
       "    .dataframe tbody tr th:only-of-type {\n",
       "        vertical-align: middle;\n",
       "    }\n",
       "\n",
       "    .dataframe tbody tr th {\n",
       "        vertical-align: top;\n",
       "    }\n",
       "\n",
       "    .dataframe thead th {\n",
       "        text-align: right;\n",
       "    }\n",
       "</style>\n",
       "<table border=\"1\" class=\"dataframe\">\n",
       "  <thead>\n",
       "    <tr style=\"text-align: right;\">\n",
       "      <th></th>\n",
       "      <th>id</th>\n",
       "      <th>name</th>\n",
       "      <th>artists</th>\n",
       "    </tr>\n",
       "  </thead>\n",
       "  <tbody>\n",
       "    <tr>\n",
       "      <th>0</th>\n",
       "      <td>0</td>\n",
       "      <td>What There Is</td>\n",
       "      <td>['a-ha']</td>\n",
       "    </tr>\n",
       "    <tr>\n",
       "      <th>1</th>\n",
       "      <td>1</td>\n",
       "      <td>I'll Play The Blues For You</td>\n",
       "      <td>['Albert King']</td>\n",
       "    </tr>\n",
       "    <tr>\n",
       "      <th>2</th>\n",
       "      <td>2</td>\n",
       "      <td>Breaking Up Somebody's Home</td>\n",
       "      <td>['Albert King']</td>\n",
       "    </tr>\n",
       "    <tr>\n",
       "      <th>3</th>\n",
       "      <td>3</td>\n",
       "      <td>Imma Be</td>\n",
       "      <td>['Black Eyed Peas']</td>\n",
       "    </tr>\n",
       "    <tr>\n",
       "      <th>4</th>\n",
       "      <td>4</td>\n",
       "      <td>Boom Boom Pow</td>\n",
       "      <td>['Black Eyed Peas']</td>\n",
       "    </tr>\n",
       "  </tbody>\n",
       "</table>\n",
       "</div>"
      ],
      "text/plain": [
       "   id                         name              artists\n",
       "0   0                What There Is             ['a-ha']\n",
       "1   1  I'll Play The Blues For You      ['Albert King']\n",
       "2   2  Breaking Up Somebody's Home      ['Albert King']\n",
       "3   3                      Imma Be  ['Black Eyed Peas']\n",
       "4   4                Boom Boom Pow  ['Black Eyed Peas']"
      ]
     },
     "execution_count": 70,
     "metadata": {},
     "output_type": "execute_result"
    }
   ],
   "source": [
    "tracks_info = pd.read_csv('tracks_info.csv')\n",
    "tracks_info.head()"
   ]
  },
  {
   "cell_type": "markdown",
   "id": "SSvgStZZIEdz",
   "metadata": {
    "id": "SSvgStZZIEdz"
   },
   "source": [
    "Для оценки качества рекомендаций мы будем использовать метрику $MAP@k$.\n",
    "\n",
    "$$\n",
    "MAP@k = \\frac{1}{N} \\sum_{u = 1}^N AP_u@k\n",
    "$$\n",
    "$$\n",
    "AP_u@k = \\frac{1}{\\min(k, n_u)} \\sum_{i=1}^k r_u(i) p_u@i\n",
    "$$\n",
    "$$p_u@k = \\dfrac{1}{k}\\sum_{j=1}^k r_u(j)$$\n",
    "\n",
    "\n",
    "*   $N$ - количество пользователей.\n",
    "*   $n_u$ - число релевантных треков пользователя $u$ на тестовом промежутке.\n",
    "*   $r_u(i)$ - бинарная величина: относится ли трек на позиции $i$ к релевантным."
   ]
  },
  {
   "cell_type": "markdown",
   "id": "UDTWQLoKS3nA",
   "metadata": {
    "id": "UDTWQLoKS3nA"
   },
   "source": [
    "**Задание 1 (0.5 балла).** Реализуйте метрику $MAP@k$."
   ]
  },
  {
   "cell_type": "code",
   "execution_count": 71,
   "id": "8YW8fMfnQY08",
   "metadata": {
    "id": "8YW8fMfnQY08",
    "scrolled": true
   },
   "outputs": [],
   "source": [
    "def mapk(relevant: List[List[int]], predicted: List[List[int]], k: int = 20):\n",
    "    # your code here: (￣▽￣)/♫•*¨*•.¸¸♪\n",
    "    aps = []\n",
    "    for index_user, user in enumerate(predicted):\n",
    "        p_i = 0\n",
    "\n",
    "        for i_k in range(k):\n",
    "            if user[i_k] in relevant[index_user]:\n",
    "                p_i += np.isin(user[:i_k+1], relevant[index_user]).sum()/(i_k+1)\n",
    "        aps.append(p_i/min(k, len(relevant[index_user])))\n",
    "\n",
    "    MAP = sum(aps)/len(predicted)\n",
    "    return MAP"
   ]
  },
  {
   "cell_type": "code",
   "execution_count": 72,
   "id": "JbKyNPk8TaIG",
   "metadata": {
    "id": "JbKyNPk8TaIG"
   },
   "outputs": [],
   "source": [
    "relevant = [\n",
    "    [1, 7, 6, 2, 8],\n",
    "    [1, 5, 4, 8],\n",
    "    [8, 2, 5]\n",
    "]\n",
    "\n",
    "pred = [\n",
    "    [8, 1, 5, 0, 7, 2, 9, 4],\n",
    "    [0, 1, 8, 5, 3, 4, 7, 9],\n",
    "    [9, 2, 0, 6, 8, 5, 3, 7]\n",
    "]\n",
    "\n",
    "assert round(mapk(relevant, pred, k=5), 4) == 0.4331"
   ]
  },
  {
   "cell_type": "markdown",
   "id": "WFYR-X49HlMl",
   "metadata": {
    "id": "WFYR-X49HlMl"
   },
   "source": [
    "Разделим данные на тренировочные и тестовые так, чтобы в теcтовый датасет попали 50 последних треков каждого пользователя."
   ]
  },
  {
   "cell_type": "code",
   "execution_count": 73,
   "id": "TEzz_ym8Go_L",
   "metadata": {
    "id": "TEzz_ym8Go_L"
   },
   "outputs": [],
   "source": [
    "def train_test_split(ratings):\n",
    "    train_ratings, test_ratings = [], []\n",
    "    num_test_samples = 50\n",
    "\n",
    "    # getting train samples\n",
    "    for userId, user_data in tqdm(ratings.groupby('userId')):\n",
    "        train_ratings += [user_data[:-num_test_samples]]\n",
    "\n",
    "    train_ratings = pd.concat(train_ratings).reset_index(drop=True)\n",
    "    all_train_items = train_ratings['trackId'].unique()\n",
    "\n",
    "    # getting train samples\n",
    "    # we drop all tracks that are not presented it the training samples,\n",
    "    # because we won't be able to learn representations for them\n",
    "    for userId, user_data in tqdm(ratings.groupby('userId')):\n",
    "        test_items = user_data[-num_test_samples:]\n",
    "        test_items = test_items[np.isin(test_items['trackId'], all_train_items)]\n",
    "        test_ratings += [test_items]\n",
    "\n",
    "    test_ratings = pd.concat(test_ratings).reset_index(drop=True)\n",
    "\n",
    "    return train_ratings, test_ratings"
   ]
  },
  {
   "cell_type": "code",
   "execution_count": 74,
   "id": "vuyiM1Lk4L-e",
   "metadata": {
    "colab": {
     "base_uri": "https://localhost:8080/",
     "height": 81,
     "referenced_widgets": [
      "1b31eda686b54f7ca8c66aef18c987f3",
      "c8a26ff7a9504ca7b9982a1fdc958364",
      "55a177c209e6414d8daae0aae25ab569",
      "5696660af0a04fbbb0743796bdd5f9b3",
      "35c5904b82544e9cac71cf7b0b67cc1e",
      "eac1572340b3491b987713ddf4fef228",
      "bc2f4104184749dbb7dcd2b5c6235238",
      "2943eba3c235416b809e23186d5625ef",
      "2ded17a125a44376abbe87ef29f2aa17",
      "0b2d687ab70343a999f3a37dfe030a9c",
      "2571c66c254d4a6c9ae5a20812e41641",
      "b1c919ee0c85468a89413d98d9926b50",
      "09367b7a291f4c81a93f79ac3bf09e9b",
      "3339a154ce00450b8d07b45eda2e887c",
      "41b564f7d67b4422abcd5ac9925eb1f2",
      "bfd4906b7ffc4ade9650aa96d140860a",
      "57bc2e2902994e799d4378888bdb342a",
      "4631243cc4dd4d1a8e3ffe3a8da29cf7",
      "a0cfdce0ec8544c49332cc831f67e777",
      "c5b91a082e7d40879f66b6685fdfcfe0",
      "f0fbd1b9ea074c1b9969417c02b32348",
      "7935cc6e74c14372a82276f0a28e4559"
     ]
    },
    "id": "vuyiM1Lk4L-e",
    "outputId": "5e4220b9-9c9e-4dba-b85d-c12ebb3a2f7a"
   },
   "outputs": [
    {
     "data": {
      "application/vnd.jupyter.widget-view+json": {
       "model_id": "05673fcc3786491786c034dc6ea08333",
       "version_major": 2,
       "version_minor": 0
      },
      "text/plain": [
       "  0%|          | 0/241 [00:00<?, ?it/s]"
      ]
     },
     "metadata": {},
     "output_type": "display_data"
    },
    {
     "data": {
      "application/vnd.jupyter.widget-view+json": {
       "model_id": "96f32d1fd54142a4b33bcb83629aa53d",
       "version_major": 2,
       "version_minor": 0
      },
      "text/plain": [
       "  0%|          | 0/241 [00:00<?, ?it/s]"
      ]
     },
     "metadata": {},
     "output_type": "display_data"
    }
   ],
   "source": [
    "train_ratings, test_ratings = train_test_split(ratings)"
   ]
  },
  {
   "cell_type": "markdown",
   "id": "P3ZVqBMjBqfe",
   "metadata": {
    "id": "P3ZVqBMjBqfe"
   },
   "source": [
    "Почистим табличку с информацией о треках и закодируем id треков так, чтобы они соответствовали их порядковому номеру."
   ]
  },
  {
   "cell_type": "code",
   "execution_count": 75,
   "id": "-SCTsxeYwCO-",
   "metadata": {
    "id": "-SCTsxeYwCO-"
   },
   "outputs": [],
   "source": [
    "redundant_rows = np.where(~np.isin(tracks_info['id'], train_ratings['trackId'].unique()))[0]\n",
    "tracks_info.drop(redundant_rows, inplace=True)\n",
    "tracks_info = tracks_info.reset_index(drop=True)"
   ]
  },
  {
   "cell_type": "code",
   "execution_count": 76,
   "id": "cVfC-rfU3J49",
   "metadata": {
    "id": "cVfC-rfU3J49"
   },
   "outputs": [],
   "source": [
    "def ids_encoder(ratings):\n",
    "    users = sorted(ratings['userId'].unique())\n",
    "    items = sorted(ratings['trackId'].unique())\n",
    "\n",
    "    # create users and items encoders\n",
    "    uencoder = LabelEncoder()\n",
    "    iencoder = LabelEncoder()\n",
    "\n",
    "    # fit users and items ids to the corresponding encoder\n",
    "    uencoder.fit(users)\n",
    "    iencoder.fit(items)\n",
    "\n",
    "    return uencoder, iencoder"
   ]
  },
  {
   "cell_type": "code",
   "execution_count": 77,
   "id": "xw2VDBz9v6LT",
   "metadata": {
    "id": "xw2VDBz9v6LT"
   },
   "outputs": [],
   "source": [
    "uencoder, iencoder = ids_encoder(train_ratings)\n",
    "train_ratings['trackId'] = iencoder.transform(train_ratings['trackId'].tolist())\n",
    "test_ratings['trackId'] = iencoder.transform(test_ratings['trackId'].tolist())\n",
    "tracks_info['id'] = iencoder.transform(tracks_info['id'].tolist())"
   ]
  },
  {
   "cell_type": "code",
   "execution_count": 78,
   "id": "GfjwnUWTuhRD",
   "metadata": {
    "colab": {
     "base_uri": "https://localhost:8080/",
     "height": 204
    },
    "id": "GfjwnUWTuhRD",
    "outputId": "a68791ba-ee61-4485-f6d6-d38bf7671393"
   },
   "outputs": [
    {
     "data": {
      "text/html": [
       "<div>\n",
       "<style scoped>\n",
       "    .dataframe tbody tr th:only-of-type {\n",
       "        vertical-align: middle;\n",
       "    }\n",
       "\n",
       "    .dataframe tbody tr th {\n",
       "        vertical-align: top;\n",
       "    }\n",
       "\n",
       "    .dataframe thead th {\n",
       "        text-align: right;\n",
       "    }\n",
       "</style>\n",
       "<table border=\"1\" class=\"dataframe\">\n",
       "  <thead>\n",
       "    <tr style=\"text-align: right;\">\n",
       "      <th></th>\n",
       "      <th>userId</th>\n",
       "      <th>trackId</th>\n",
       "    </tr>\n",
       "  </thead>\n",
       "  <tbody>\n",
       "    <tr>\n",
       "      <th>0</th>\n",
       "      <td>0</td>\n",
       "      <td>14</td>\n",
       "    </tr>\n",
       "    <tr>\n",
       "      <th>1</th>\n",
       "      <td>0</td>\n",
       "      <td>95</td>\n",
       "    </tr>\n",
       "    <tr>\n",
       "      <th>2</th>\n",
       "      <td>0</td>\n",
       "      <td>219</td>\n",
       "    </tr>\n",
       "    <tr>\n",
       "      <th>3</th>\n",
       "      <td>0</td>\n",
       "      <td>220</td>\n",
       "    </tr>\n",
       "    <tr>\n",
       "      <th>4</th>\n",
       "      <td>0</td>\n",
       "      <td>404</td>\n",
       "    </tr>\n",
       "  </tbody>\n",
       "</table>\n",
       "</div>"
      ],
      "text/plain": [
       "   userId  trackId\n",
       "0       0       14\n",
       "1       0       95\n",
       "2       0      219\n",
       "3       0      220\n",
       "4       0      404"
      ]
     },
     "execution_count": 78,
     "metadata": {},
     "output_type": "execute_result"
    }
   ],
   "source": [
    "train_ratings.head()"
   ]
  },
  {
   "cell_type": "code",
   "execution_count": 79,
   "id": "rtV91NkmuizE",
   "metadata": {
    "colab": {
     "base_uri": "https://localhost:8080/",
     "height": 204
    },
    "id": "rtV91NkmuizE",
    "outputId": "4de6e82c-4ab0-43ff-c70a-dcabe5c9bd74"
   },
   "outputs": [
    {
     "data": {
      "text/html": [
       "<div>\n",
       "<style scoped>\n",
       "    .dataframe tbody tr th:only-of-type {\n",
       "        vertical-align: middle;\n",
       "    }\n",
       "\n",
       "    .dataframe tbody tr th {\n",
       "        vertical-align: top;\n",
       "    }\n",
       "\n",
       "    .dataframe thead th {\n",
       "        text-align: right;\n",
       "    }\n",
       "</style>\n",
       "<table border=\"1\" class=\"dataframe\">\n",
       "  <thead>\n",
       "    <tr style=\"text-align: right;\">\n",
       "      <th></th>\n",
       "      <th>userId</th>\n",
       "      <th>trackId</th>\n",
       "    </tr>\n",
       "  </thead>\n",
       "  <tbody>\n",
       "    <tr>\n",
       "      <th>0</th>\n",
       "      <td>0</td>\n",
       "      <td>57582</td>\n",
       "    </tr>\n",
       "    <tr>\n",
       "      <th>1</th>\n",
       "      <td>0</td>\n",
       "      <td>57802</td>\n",
       "    </tr>\n",
       "    <tr>\n",
       "      <th>2</th>\n",
       "      <td>0</td>\n",
       "      <td>57957</td>\n",
       "    </tr>\n",
       "    <tr>\n",
       "      <th>3</th>\n",
       "      <td>0</td>\n",
       "      <td>58174</td>\n",
       "    </tr>\n",
       "    <tr>\n",
       "      <th>4</th>\n",
       "      <td>0</td>\n",
       "      <td>59168</td>\n",
       "    </tr>\n",
       "  </tbody>\n",
       "</table>\n",
       "</div>"
      ],
      "text/plain": [
       "   userId  trackId\n",
       "0       0    57582\n",
       "1       0    57802\n",
       "2       0    57957\n",
       "3       0    58174\n",
       "4       0    59168"
      ]
     },
     "execution_count": 79,
     "metadata": {},
     "output_type": "execute_result"
    }
   ],
   "source": [
    "test_ratings.head()"
   ]
  },
  {
   "cell_type": "markdown",
   "id": "COtKDquLRrVV",
   "metadata": {
    "id": "COtKDquLRrVV"
   },
   "source": [
    "Соберем все релевантные треки для каждого пользователя в список."
   ]
  },
  {
   "cell_type": "code",
   "execution_count": 80,
   "id": "UOCGl5rpPrDn",
   "metadata": {
    "id": "UOCGl5rpPrDn"
   },
   "outputs": [],
   "source": [
    "test_relevant = []\n",
    "test_users = []\n",
    "for user_id, user_data in test_ratings.groupby('userId'):\n",
    "    test_relevant += [user_data['trackId'].tolist()]\n",
    "    test_users.append(user_id)"
   ]
  },
  {
   "cell_type": "markdown",
   "id": "3UyBjs1SULH9",
   "metadata": {
    "id": "3UyBjs1SULH9"
   },
   "source": [
    "**Задание 2 (0.5 балла).** Реализуйте метод `get_test_recommendations` в классе `BaseModel`. Он принимает на вход параметр `k` и возвращает массив из `k` наиболее подходящих треков для каждого пользователя. Не забывайте удалять уже прослушанные треки из рекомендуемых."
   ]
  },
  {
   "cell_type": "code",
   "execution_count": 81,
   "id": "sXnUGtM3XOp7",
   "metadata": {
    "id": "sXnUGtM3XOp7"
   },
   "outputs": [],
   "source": [
    "class BaseModel:\n",
    "    def __init__(self, ratings: pd.DataFrame):\n",
    "        self.ratings = ratings\n",
    "        self.n_users = len(np.unique(self.ratings['userId']))\n",
    "        self.n_items = len(np.unique(self.ratings['trackId']))\n",
    "\n",
    "        self.R = np.zeros((self.n_users, self.n_items))\n",
    "        self.R[self.ratings['userId'], self.ratings['trackId']] = 1.\n",
    "        \n",
    "    def recommend(self, uid: int):\n",
    "        \"\"\"\n",
    "        param uid: int - user's id\n",
    "        return: [n_items] - vector of recommended items sorted by their scores in descending order\n",
    "        \"\"\"\n",
    "        raise NotImplementedError\n",
    "\n",
    "    def remove_train_items(self, preds: List[List[int]], k: int):\n",
    "        \"\"\"\n",
    "        param preds: [n_users, n_items] - recommended items for each user\n",
    "        param k: int\n",
    "        return: np.array [n_users, k] - recommended items without training examples\n",
    "        \"\"\"\n",
    "        new_preds = np.zeros((len(preds), k), dtype=int)\n",
    "        for user_id, user_data in self.ratings.groupby('userId'):\n",
    "            user_preds = preds[user_id]\n",
    "            new_preds[user_id] = user_preds[~np.in1d(user_preds, user_data['trackId'])][:k]\n",
    "\n",
    "        return new_preds\n",
    "\n",
    "    def get_test_recommendations(self, k: int):\n",
    "        test_preds = []\n",
    "        \n",
    "        # your code here: (￣▽￣)/♫•*¨*•.¸¸♪\n",
    "        for uid in range(self.n_users):\n",
    "            test_preds += [self.recommend(uid)]\n",
    "        test_preds = self.remove_train_items(test_preds, k)\n",
    "\n",
    "        return test_preds[test_users]"
   ]
  },
  {
   "cell_type": "markdown",
   "id": "jMdKX1DZ-o4V",
   "metadata": {
    "id": "jMdKX1DZ-o4V"
   },
   "source": [
    "## Часть 1. Коллаборативная фильтрация (User2User)"
   ]
  },
  {
   "cell_type": "markdown",
   "id": "t_ZLzg_0XxVf",
   "metadata": {
    "id": "t_ZLzg_0XxVf"
   },
   "source": [
    "Идея: чтобы выбрать треки, которые понравятся пользователю, можно набрать несколько похожих на него пользователей (соседей) и посмотреть, какие треки они слушают. После этого остается агрегировать треки этих пользователей и выбрать самые популярные. Соответственно, задача состоит из двух частей: выбора функции похожести двух пользователей и способа агрегации.\n",
    "\n",
    "В качестве функции похожести мы будем использовать две метрики:\n",
    "\n",
    "1. Корреляция Пирсона $$s(u, v) = \\frac{\\sum_{i \\in I_u \\cap I_v} r_{ui}r_{vi}}{\\sqrt{\\sum_{i \\in I_u} r_{ui} ^2}\\sqrt{\\sum_{i \\in I_v} r_{vi}^2}} $$\n",
    "\n",
    "2. Мера Жаккара\n",
    "\n",
    "$$ s(u, v) = \\frac{|I_u \\cap I_v|}{|I_u \\cup I_v|} $$\n",
    "\n",
    "\n",
    "Корреляция Пирсона немного видоизменена, чтобы подходить под нашу задачу.\n",
    "\n",
    "\n",
    "Во всех формулах \n",
    "* $I_u$ - множество треков, прослушанных пользователем $u$.\n",
    "* $r_{ui}$ - прослушал ли пользователь $u$ трек $i$ (0 или 1).\n",
    "\n",
    "Множество соседей определим как $$N(u) = \\{ v \\in U \\setminus \\{u\\} \\mid s(u, v) > \\alpha\\},$$ где $\\alpha \\, - $ гиперпараметр.\n",
    "\n",
    "\n",
    "\n",
    "Для агрегации мы будем пользоваться следующей формулой.\n",
    "$$\n",
    "\\hat{r}_{ui} = \\frac{\\sum_{v \\in N(u)} s(u, v) r_{vi}}{\\sum_{v \\in N(u)} |s(u, v)|}\n",
    "$$"
   ]
  },
  {
   "cell_type": "markdown",
   "id": "YJyD1LVTKK9A",
   "metadata": {
    "id": "YJyD1LVTKK9A"
   },
   "source": [
    "**Задание 3.1 (0.5 балла).** Реализуйте функцию подсчета корреляции Пирсона.\n",
    "\n",
    "**Задание 3.2 (0.5 балла).** Реализуйте функцию подсчета меры Жаккара.\n",
    "\n",
    "Функции принимают матрицу оценок и вектор оценок пользователя $u$ и возвращают вектор со значениями похожести пользователя $u$ на всех пользователей. Старайтесь писать оптимизированный код, за неэффективную реализацию оценка может быть снижена."
   ]
  },
  {
   "cell_type": "code",
   "execution_count": 82,
   "id": "rRvSRm_aWZMR",
   "metadata": {
    "id": "rRvSRm_aWZMR"
   },
   "outputs": [],
   "source": [
    "def s_p(user_vector, v):\n",
    "    return v @ user_vector / (np.sqrt(v @ v * user_vector @ user_vector)) \n",
    "\n",
    "def pearson(ratings: np.array, user_vector: np.array) -> np.array:\n",
    "    return np.apply_along_axis(s_p, 1, ratings, user_vector)\n",
    "\n",
    "def s(user_vector, v):\n",
    "    return len(np.where((v > 0) & (user_vector > 0))[0])/len(np.where((v > 0) | (user_vector > 0))[0])\n",
    "\n",
    "def jaccard(ratings: np.array, user_vector: np.array) -> np.array:\n",
    "    return np.apply_along_axis(s, 1, ratings, user_vector)"
   ]
  },
  {
   "cell_type": "markdown",
   "id": "WMLtM7ffNWdx",
   "metadata": {
    "id": "WMLtM7ffNWdx"
   },
   "source": [
    "**Задание 4 (1 балл).** Реализуйте методы `similarity` и `recommend` класса `User2User`. `recommend` возвращает индексы треков, отсортированные в порядке убывания предсказанных оценок.\n"
   ]
  },
  {
   "cell_type": "code",
   "execution_count": 83,
   "id": "5ZIz0G1RJbXl",
   "metadata": {
    "id": "5ZIz0G1RJbXl"
   },
   "outputs": [],
   "source": [
    "class User2User(BaseModel):\n",
    "    def __init__(self, ratings, similarity_func):\n",
    "        super().__init__(ratings)\n",
    "\n",
    "        assert similarity_func in [pearson, jaccard]\n",
    "\n",
    "        self.similarity_func = similarity_func\n",
    "        self.alpha = 0.02\n",
    "\n",
    "    def similarity(self, user_vector: np.array):\n",
    "        \"\"\"\n",
    "        user_vector: [n_items]\n",
    "        \"\"\"\n",
    "        # your code here: (￣▽￣)/♫•*¨*•.¸¸♪\n",
    "        return self.similarity_func(self.R, user_vector)\n",
    "\n",
    "    def recommend(self, uid: int):\n",
    "        # your code here: (￣▽￣)/♫•*¨*•.¸¸♪\n",
    "        simil = self.similarity(self.R[uid])\n",
    "        n = np.where(simil > self.alpha)[0][np.where(simil > self.alpha)[0] != uid]\n",
    "        res = simil[n] @ self.R[n]\n",
    "        return np.argsort(-res)"
   ]
  },
  {
   "cell_type": "markdown",
   "id": "kqEwJiFOSs2r",
   "metadata": {
    "id": "kqEwJiFOSs2r"
   },
   "source": [
    "**Задание 5 (1 балл).** Постройте графики зависимости значений $MAP@k$ от разных $k$ для обоих функций похожести, сравните их между собой, а также с предсказаниями случайного алгоритма и сделайте выводы."
   ]
  },
  {
   "cell_type": "code",
   "execution_count": 84,
   "id": "8319a331",
   "metadata": {},
   "outputs": [],
   "source": [
    "# your code here: (￣▽￣)/♫•*¨*•.¸¸♪"
   ]
  },
  {
   "cell_type": "code",
   "execution_count": 85,
   "id": "4d97678b",
   "metadata": {},
   "outputs": [],
   "source": [
    "import time "
   ]
  },
  {
   "cell_type": "code",
   "execution_count": 86,
   "id": "tyswL-dlNpy7",
   "metadata": {
    "id": "tyswL-dlNpy7"
   },
   "outputs": [
    {
     "name": "stdout",
     "output_type": "stream",
     "text": [
      "36.51175403594971\n"
     ]
    }
   ],
   "source": [
    "start = time.time()\n",
    "user2user_pearson = User2User(train_ratings, pearson)\n",
    "rec_pearson = user2user_pearson.get_test_recommendations(50)\n",
    "end = time.time() - start\n",
    "print(end)"
   ]
  },
  {
   "cell_type": "code",
   "execution_count": 94,
   "id": "af04f587",
   "metadata": {},
   "outputs": [
    {
     "name": "stdout",
     "output_type": "stream",
     "text": [
      "7.683927059173584\n"
     ]
    }
   ],
   "source": [
    "start = time.time()\n",
    "user2user_jaccard = User2User(train_ratings, jaccard)\n",
    "rec_jaccard = user2user_jaccard.get_test_recommendations(50)\n",
    "end = time.time() - start\n",
    "print(end)"
   ]
  },
  {
   "cell_type": "code",
   "execution_count": 95,
   "id": "84b38c33",
   "metadata": {},
   "outputs": [],
   "source": [
    "rec_random = np.array(list(np.random.choice(ratings['trackId'].unique(), 50) for _ in test_users))"
   ]
  },
  {
   "cell_type": "code",
   "execution_count": 96,
   "id": "d3076e16",
   "metadata": {},
   "outputs": [
    {
     "data": {
      "image/png": "[encoded data removed]",
      "text/plain": [
       "<Figure size 432x288 with 1 Axes>"
      ]
     },
     "metadata": {
      "needs_background": "light"
     },
     "output_type": "display_data"
    }
   ],
   "source": [
    "range_k = range(1, 50 + 1)\n",
    "plt.plot(range_k, list(mapk(test_relevant, rec_jaccard, k) for k in range_k), label='Jaccard')\n",
    "plt.plot(range_k, list(mapk(test_relevant, rec_pearson, k) for k in range_k), label='Pearson')\n",
    "plt.plot(range_k, list(mapk(test_relevant, rec_random, k) for k in range_k), label='Random')\n",
    "plt.ylabel('Map@k')\n",
    "plt.xlabel('k')\n",
    "plt.legend()\n",
    "plt.title('User 2 user recomendations')\n",
    "plt.show()"
   ]
  },
  {
   "cell_type": "markdown",
   "id": "18086b62",
   "metadata": {},
   "source": [
    "Как видим, рандомный способ имеет гораздо худшее качество, чем два других метода. Так, на небольших k (до примерно 5) лучше работает Пирсон, после k=5 лучшие результаты дает мера Жаккара, лучшее MAP на k от 10 до 20. "
   ]
  },
  {
   "cell_type": "markdown",
   "id": "0Fy7v-b-WDQE",
   "metadata": {
    "id": "0Fy7v-b-WDQE"
   },
   "source": [
    "**Задание 6 (1.5 балла).** Как вы могли заметить, матрица оценок получается очень разреженной, но мы работаем с ней как с обычной, это не дело. Перепишите код так, чтобы все методы могли работать с разреженными матрицами и сравните скорость работы такого подхода с оригинальным."
   ]
  },
  {
   "cell_type": "code",
   "execution_count": 99,
   "id": "4jQiwrTbW_DL",
   "metadata": {
    "id": "4jQiwrTbW_DL"
   },
   "outputs": [],
   "source": [
    "# your code here: ‿︵‿︵ヽ(°□° )ノ︵‿︵‿\n",
    "from scipy.sparse import csr_matrix, find\n",
    "\n",
    "def pearson_vector(v, user_vector):\n",
    "    return (v @ user_vector.reshape(-1, 1) / (np.sqrt((v @ v.reshape(-1, 1)) * (user_vector @ user_vector.reshape(-1, 1))))).sum()\n",
    "\n",
    "def pearson_sparse(ratings: csr_matrix, user_vector: csr_matrix):\n",
    "    return np.apply_along_axis(pearson_vector, 1, ratings, user_vector)\n",
    "\n",
    "def jaccard_vector(v, user_vector):\n",
    "    return len(np.intersect1d(find(v)[1], find(user_vector)[1]))/len(find(v + user_vector > 0)[0])\n",
    "\n",
    "def jaccard_sparse(ratings: csr_matrix, user_vector: csr_matrix):\n",
    "    return np.apply_along_axis(jaccard_vector, 1, ratings, user_vector)\n",
    "\n",
    "\n",
    "class User2User(BaseModel):\n",
    "    def __init__(self, ratings, similarity_func):\n",
    "        super().__init__(ratings)\n",
    "\n",
    "        self.similarity_func = similarity_func\n",
    "        self.alpha = 0.02\n",
    "\n",
    "    def similarity(self, user_vector: np.array):\n",
    "        \"\"\"\n",
    "        user_vector: [n_items]\n",
    "        \"\"\"\n",
    "        # your code here: (￣▽￣)/♫•*¨*•.¸¸♪\n",
    "        return self.similarity_func(self.R, user_vector)\n",
    "\n",
    "    def recommend(self, uid: int):\n",
    "        # your code here: (￣▽￣)/♫•*¨*•.¸¸♪\n",
    "        simil = self.similarity(self.R[uid])\n",
    "        n = np.where(simil > self.alpha)[0][np.where(simil > self.alpha)[0] != uid]\n",
    "        res = simil[n] @ self.R[n]\n",
    "        return np.argsort(-res)\n",
    "\n",
    "class User2UserSparse(User2User):\n",
    "    def __init__(self, ratings, similarity_func):\n",
    "        super().__init__(ratings, similarity_func)\n",
    "        self.R = csr_matrix(self.R)"
   ]
  },
  {
   "cell_type": "code",
   "execution_count": 100,
   "id": "651c5cb2",
   "metadata": {},
   "outputs": [
    {
     "name": "stdout",
     "output_type": "stream",
     "text": [
      "26.16072392463684\n"
     ]
    }
   ],
   "source": [
    "start = time.time()\n",
    "user2user_jaccard_sparse = User2UserSparse(train_ratings, jaccard_sparse)\n",
    "rec_sparse_jaccard = user2user_jaccard_sparse.get_test_recommendations(50)\n",
    "end = time.time() - start\n",
    "print(end)"
   ]
  },
  {
   "cell_type": "code",
   "execution_count": 101,
   "id": "742b0299",
   "metadata": {},
   "outputs": [
    {
     "name": "stdout",
     "output_type": "stream",
     "text": [
      "63.57770109176636\n"
     ]
    }
   ],
   "source": [
    "start = time.time()\n",
    "user2user_pearson_sparse = User2UserSparse(train_ratings, pearson_sparse)\n",
    "rec_sparse_pearson = user2user_pearson_sparse.get_test_recommendations(50)\n",
    "end = time.time() - start\n",
    "print(end)"
   ]
  },
  {
   "cell_type": "markdown",
   "id": "3e97f036",
   "metadata": {},
   "source": [
    "Таким образом, время либо осталось тем же, либо увеличилось. "
   ]
  },
  {
   "cell_type": "markdown",
   "id": "DmuMhWS4CEFe",
   "metadata": {
    "id": "DmuMhWS4CEFe"
   },
   "source": [
    "Мы можем посмотреть глазами, насколько хорошо модель рекомендует треки. Для этого сравним уже прослушанные треки с рекомендованными и релевантными для случайного пользователя. Хорошо ли у вас получилось?"
   ]
  },
  {
   "cell_type": "code",
   "execution_count": 102,
   "id": "38cae448",
   "metadata": {},
   "outputs": [],
   "source": [
    "model = User2User(train_ratings, pearson)"
   ]
  },
  {
   "cell_type": "code",
   "execution_count": 103,
   "id": "QAHDWgHfkCQh",
   "metadata": {
    "id": "QAHDWgHfkCQh"
   },
   "outputs": [],
   "source": [
    "user_id = np.random.randint(0, model.n_users)"
   ]
  },
  {
   "cell_type": "code",
   "execution_count": 104,
   "id": "_d3tafMuko5O",
   "metadata": {
    "colab": {
     "base_uri": "https://localhost:8080/",
     "height": 531
    },
    "id": "_d3tafMuko5O",
    "outputId": "6c6c53ab-8329-4747-9015-9105a113d7ca"
   },
   "outputs": [
    {
     "name": "stdout",
     "output_type": "stream",
     "text": [
      "Already listened tracks:\n"
     ]
    },
    {
     "data": {
      "text/html": [
       "<div>\n",
       "<style scoped>\n",
       "    .dataframe tbody tr th:only-of-type {\n",
       "        vertical-align: middle;\n",
       "    }\n",
       "\n",
       "    .dataframe tbody tr th {\n",
       "        vertical-align: top;\n",
       "    }\n",
       "\n",
       "    .dataframe thead th {\n",
       "        text-align: right;\n",
       "    }\n",
       "</style>\n",
       "<table border=\"1\" class=\"dataframe\">\n",
       "  <thead>\n",
       "    <tr style=\"text-align: right;\">\n",
       "      <th></th>\n",
       "      <th>name</th>\n",
       "      <th>artists</th>\n",
       "    </tr>\n",
       "  </thead>\n",
       "  <tbody>\n",
       "    <tr>\n",
       "      <th>1360</th>\n",
       "      <td>Apologize</td>\n",
       "      <td>['OneRepublic']</td>\n",
       "    </tr>\n",
       "    <tr>\n",
       "      <th>2463</th>\n",
       "      <td>I'm Yours</td>\n",
       "      <td>['Jason Mraz']</td>\n",
       "    </tr>\n",
       "    <tr>\n",
       "      <th>2662</th>\n",
       "      <td>I Say a Little Prayer</td>\n",
       "      <td>['Aretha Franklin']</td>\n",
       "    </tr>\n",
       "    <tr>\n",
       "      <th>6034</th>\n",
       "      <td>Boogie Wonderland</td>\n",
       "      <td>['Earth, Wind &amp; Fire']</td>\n",
       "    </tr>\n",
       "    <tr>\n",
       "      <th>6203</th>\n",
       "      <td>I Have Nothing</td>\n",
       "      <td>['Whitney Houston']</td>\n",
       "    </tr>\n",
       "    <tr>\n",
       "      <th>6262</th>\n",
       "      <td>Because of You</td>\n",
       "      <td>['Kelly Clarkson']</td>\n",
       "    </tr>\n",
       "    <tr>\n",
       "      <th>9834</th>\n",
       "      <td>Just One Last Dance</td>\n",
       "      <td>['Sarah Connor', 'Natural']</td>\n",
       "    </tr>\n",
       "    <tr>\n",
       "      <th>10016</th>\n",
       "      <td>Talking to the Moon</td>\n",
       "      <td>['Bruno Mars']</td>\n",
       "    </tr>\n",
       "    <tr>\n",
       "      <th>10893</th>\n",
       "      <td>La Seine</td>\n",
       "      <td>['Vanessa Paradis', '-M-']</td>\n",
       "    </tr>\n",
       "    <tr>\n",
       "      <th>13251</th>\n",
       "      <td>Tonight (Best You Ever Had)</td>\n",
       "      <td>['John Legend', 'Ludacris']</td>\n",
       "    </tr>\n",
       "    <tr>\n",
       "      <th>14320</th>\n",
       "      <td>A Thousand Years</td>\n",
       "      <td>['Christina Perri', 'Steve Kazee']</td>\n",
       "    </tr>\n",
       "    <tr>\n",
       "      <th>14807</th>\n",
       "      <td>Impossible</td>\n",
       "      <td>['James Arthur']</td>\n",
       "    </tr>\n",
       "    <tr>\n",
       "      <th>15486</th>\n",
       "      <td>Can't Pretend</td>\n",
       "      <td>['Tom Odell']</td>\n",
       "    </tr>\n",
       "    <tr>\n",
       "      <th>15906</th>\n",
       "      <td>A Little Party Never Killed Nobody (All We Got)</td>\n",
       "      <td>['Fergie', 'Q-Tip', 'GoonRock']</td>\n",
       "    </tr>\n",
       "    <tr>\n",
       "      <th>18019</th>\n",
       "      <td>Made to Love</td>\n",
       "      <td>['John Legend']</td>\n",
       "    </tr>\n",
       "  </tbody>\n",
       "</table>\n",
       "</div>"
      ],
      "text/plain": [
       "                                                  name  \\\n",
       "1360                                         Apologize   \n",
       "2463                                         I'm Yours   \n",
       "2662                             I Say a Little Prayer   \n",
       "6034                                 Boogie Wonderland   \n",
       "6203                                    I Have Nothing   \n",
       "6262                                    Because of You   \n",
       "9834                               Just One Last Dance   \n",
       "10016                              Talking to the Moon   \n",
       "10893                                         La Seine   \n",
       "13251                      Tonight (Best You Ever Had)   \n",
       "14320                                 A Thousand Years   \n",
       "14807                                       Impossible   \n",
       "15486                                    Can't Pretend   \n",
       "15906  A Little Party Never Killed Nobody (All We Got)   \n",
       "18019                                     Made to Love   \n",
       "\n",
       "                                  artists  \n",
       "1360                      ['OneRepublic']  \n",
       "2463                       ['Jason Mraz']  \n",
       "2662                  ['Aretha Franklin']  \n",
       "6034               ['Earth, Wind & Fire']  \n",
       "6203                  ['Whitney Houston']  \n",
       "6262                   ['Kelly Clarkson']  \n",
       "9834          ['Sarah Connor', 'Natural']  \n",
       "10016                      ['Bruno Mars']  \n",
       "10893          ['Vanessa Paradis', '-M-']  \n",
       "13251         ['John Legend', 'Ludacris']  \n",
       "14320  ['Christina Perri', 'Steve Kazee']  \n",
       "14807                    ['James Arthur']  \n",
       "15486                       ['Tom Odell']  \n",
       "15906     ['Fergie', 'Q-Tip', 'GoonRock']  \n",
       "18019                     ['John Legend']  "
      ]
     },
     "execution_count": 104,
     "metadata": {},
     "output_type": "execute_result"
    }
   ],
   "source": [
    "listened_tracks = train_ratings[train_ratings.userId == user_id].trackId[:15]\n",
    "\n",
    "print('Already listened tracks:')\n",
    "\n",
    "tracks_info.loc[listened_tracks][['name', 'artists']]"
   ]
  },
  {
   "cell_type": "code",
   "execution_count": 105,
   "id": "t0jACzw6ko5P",
   "metadata": {
    "colab": {
     "base_uri": "https://localhost:8080/",
     "height": 563,
     "referenced_widgets": [
      "352dc0a1aa2049da8389d238673e0d74",
      "a1fff232a45c47b4a472b376f4bb786b",
      "cdda2f364c4b4873ba46321cd0980ab2",
      "56340e3947544c43afda403ff222f5a3",
      "05d9c5e3f43f4b7f8b85ed1e3d5a74a3",
      "359731880a5947499c9a5e4be6e91c89",
      "7fd233ee0bf54983acb61485fe779111",
      "927ea86a465d45ae873fc8ae164a9f72",
      "e5fdb05a8acb41368703134ed69d7875",
      "ec6478706bb140c08b20f2ba05a17205",
      "940629cc1c16475cbd2858e55f2f881f"
     ]
    },
    "id": "t0jACzw6ko5P",
    "outputId": "c04b5613-5f4d-4e7a-a502-22aebc7c0637"
   },
   "outputs": [
    {
     "name": "stdout",
     "output_type": "stream",
     "text": [
      "Predicted tracks:\n"
     ]
    },
    {
     "data": {
      "text/html": [
       "<div>\n",
       "<style scoped>\n",
       "    .dataframe tbody tr th:only-of-type {\n",
       "        vertical-align: middle;\n",
       "    }\n",
       "\n",
       "    .dataframe tbody tr th {\n",
       "        vertical-align: top;\n",
       "    }\n",
       "\n",
       "    .dataframe thead th {\n",
       "        text-align: right;\n",
       "    }\n",
       "</style>\n",
       "<table border=\"1\" class=\"dataframe\">\n",
       "  <thead>\n",
       "    <tr style=\"text-align: right;\">\n",
       "      <th></th>\n",
       "      <th>name</th>\n",
       "      <th>artists</th>\n",
       "    </tr>\n",
       "  </thead>\n",
       "  <tbody>\n",
       "    <tr>\n",
       "      <th>18459</th>\n",
       "      <td>Take Me To Church</td>\n",
       "      <td>['Hozier']</td>\n",
       "    </tr>\n",
       "    <tr>\n",
       "      <th>35656</th>\n",
       "      <td>I Got Love</td>\n",
       "      <td>['Miyagi &amp; Эндшпиль', 'Рем Дигга']</td>\n",
       "    </tr>\n",
       "    <tr>\n",
       "      <th>2481</th>\n",
       "      <td>Gangsta's Paradise</td>\n",
       "      <td>['Coolio', 'L.V.']</td>\n",
       "    </tr>\n",
       "    <tr>\n",
       "      <th>2814</th>\n",
       "      <td>Numb</td>\n",
       "      <td>['Linkin Park']</td>\n",
       "    </tr>\n",
       "    <tr>\n",
       "      <th>33436</th>\n",
       "      <td>Believer</td>\n",
       "      <td>['Imagine Dragons']</td>\n",
       "    </tr>\n",
       "    <tr>\n",
       "      <th>11950</th>\n",
       "      <td>Somebody That I Used To Know</td>\n",
       "      <td>['Gotye', 'Kimbra']</td>\n",
       "    </tr>\n",
       "    <tr>\n",
       "      <th>18914</th>\n",
       "      <td>Chandelier</td>\n",
       "      <td>['Sia']</td>\n",
       "    </tr>\n",
       "    <tr>\n",
       "      <th>39265</th>\n",
       "      <td>Beggin'</td>\n",
       "      <td>['Måneskin']</td>\n",
       "    </tr>\n",
       "    <tr>\n",
       "      <th>35064</th>\n",
       "      <td>Thunder</td>\n",
       "      <td>['Imagine Dragons']</td>\n",
       "    </tr>\n",
       "    <tr>\n",
       "      <th>17240</th>\n",
       "      <td>The Monster</td>\n",
       "      <td>['Eminem', 'Rihanna']</td>\n",
       "    </tr>\n",
       "    <tr>\n",
       "      <th>29105</th>\n",
       "      <td>Human</td>\n",
       "      <td>[\"Rag'n'Bone Man\"]</td>\n",
       "    </tr>\n",
       "    <tr>\n",
       "      <th>8263</th>\n",
       "      <td>Shape Of My Heart</td>\n",
       "      <td>['Sting']</td>\n",
       "    </tr>\n",
       "    <tr>\n",
       "      <th>805</th>\n",
       "      <td>Zombie</td>\n",
       "      <td>['The Cranberries']</td>\n",
       "    </tr>\n",
       "    <tr>\n",
       "      <th>59484</th>\n",
       "      <td>Юность</td>\n",
       "      <td>['Dabro']</td>\n",
       "    </tr>\n",
       "    <tr>\n",
       "      <th>48182</th>\n",
       "      <td>Сансара</td>\n",
       "      <td>['Баста', 'Скриптонит', 'Диана Арбенина', 'Сер...</td>\n",
       "    </tr>\n",
       "  </tbody>\n",
       "</table>\n",
       "</div>"
      ],
      "text/plain": [
       "                               name  \\\n",
       "18459             Take Me To Church   \n",
       "35656                    I Got Love   \n",
       "2481             Gangsta's Paradise   \n",
       "2814                           Numb   \n",
       "33436                      Believer   \n",
       "11950  Somebody That I Used To Know   \n",
       "18914                    Chandelier   \n",
       "39265                       Beggin'   \n",
       "35064                       Thunder   \n",
       "17240                   The Monster   \n",
       "29105                         Human   \n",
       "8263              Shape Of My Heart   \n",
       "805                          Zombie   \n",
       "59484                        Юность   \n",
       "48182                       Сансара   \n",
       "\n",
       "                                                 artists  \n",
       "18459                                         ['Hozier']  \n",
       "35656                 ['Miyagi & Эндшпиль', 'Рем Дигга']  \n",
       "2481                                  ['Coolio', 'L.V.']  \n",
       "2814                                     ['Linkin Park']  \n",
       "33436                                ['Imagine Dragons']  \n",
       "11950                                ['Gotye', 'Kimbra']  \n",
       "18914                                            ['Sia']  \n",
       "39265                                       ['Måneskin']  \n",
       "35064                                ['Imagine Dragons']  \n",
       "17240                              ['Eminem', 'Rihanna']  \n",
       "29105                                 [\"Rag'n'Bone Man\"]  \n",
       "8263                                           ['Sting']  \n",
       "805                                  ['The Cranberries']  \n",
       "59484                                          ['Dabro']  \n",
       "48182  ['Баста', 'Скриптонит', 'Диана Арбенина', 'Сер...  "
      ]
     },
     "execution_count": 105,
     "metadata": {},
     "output_type": "execute_result"
    }
   ],
   "source": [
    "preds = model.get_test_recommendations(15)\n",
    "\n",
    "print('Predicted tracks:')\n",
    "\n",
    "tracks_info.loc[preds[user_id]][['name', 'artists']]"
   ]
  },
  {
   "cell_type": "code",
   "execution_count": 106,
   "id": "8_UZCIxrko5Q",
   "metadata": {
    "colab": {
     "base_uri": "https://localhost:8080/",
     "height": 531
    },
    "id": "8_UZCIxrko5Q",
    "outputId": "1442d3b3-a4a8-42a7-eef6-9ce6cef7aad5"
   },
   "outputs": [
    {
     "name": "stdout",
     "output_type": "stream",
     "text": [
      "Test-time tracks:\n"
     ]
    },
    {
     "data": {
      "text/html": [
       "<div>\n",
       "<style scoped>\n",
       "    .dataframe tbody tr th:only-of-type {\n",
       "        vertical-align: middle;\n",
       "    }\n",
       "\n",
       "    .dataframe tbody tr th {\n",
       "        vertical-align: top;\n",
       "    }\n",
       "\n",
       "    .dataframe thead th {\n",
       "        text-align: right;\n",
       "    }\n",
       "</style>\n",
       "<table border=\"1\" class=\"dataframe\">\n",
       "  <thead>\n",
       "    <tr style=\"text-align: right;\">\n",
       "      <th></th>\n",
       "      <th>name</th>\n",
       "      <th>artists</th>\n",
       "    </tr>\n",
       "  </thead>\n",
       "  <tbody>\n",
       "    <tr>\n",
       "      <th>61394</th>\n",
       "      <td>Мир сошёл с ума</td>\n",
       "      <td>['JONY']</td>\n",
       "    </tr>\n",
       "    <tr>\n",
       "      <th>61530</th>\n",
       "      <td>Твой поцелуй</td>\n",
       "      <td>['Асия', 'NЮ']</td>\n",
       "    </tr>\n",
       "    <tr>\n",
       "      <th>61560</th>\n",
       "      <td>Втюрилась</td>\n",
       "      <td>['Дора']</td>\n",
       "    </tr>\n",
       "    <tr>\n",
       "      <th>61584</th>\n",
       "      <td>Dynamite</td>\n",
       "      <td>['BTS']</td>\n",
       "    </tr>\n",
       "    <tr>\n",
       "      <th>61677</th>\n",
       "      <td>Если тебе будет грустно</td>\n",
       "      <td>['Rauf &amp; Faik', 'NILETTO']</td>\n",
       "    </tr>\n",
       "    <tr>\n",
       "      <th>61820</th>\n",
       "      <td>Let's Love</td>\n",
       "      <td>['David Guetta', 'Sia']</td>\n",
       "    </tr>\n",
       "    <tr>\n",
       "      <th>61945</th>\n",
       "      <td>Diamonds</td>\n",
       "      <td>['Sam Smith']</td>\n",
       "    </tr>\n",
       "    <tr>\n",
       "      <th>62177</th>\n",
       "      <td>Courage to Change</td>\n",
       "      <td>['Sia']</td>\n",
       "    </tr>\n",
       "    <tr>\n",
       "      <th>62285</th>\n",
       "      <td>Coeur de pierre</td>\n",
       "      <td>['Slimane']</td>\n",
       "    </tr>\n",
       "    <tr>\n",
       "      <th>62348</th>\n",
       "      <td>Savage Love (Laxed - Siren Beat)</td>\n",
       "      <td>['Jawsh 685', 'Jason Derulo', 'BTS']</td>\n",
       "    </tr>\n",
       "    <tr>\n",
       "      <th>62574</th>\n",
       "      <td>You Broke Me First</td>\n",
       "      <td>['Conor Maynard']</td>\n",
       "    </tr>\n",
       "    <tr>\n",
       "      <th>62616</th>\n",
       "      <td>Рикошет</td>\n",
       "      <td>['ВИА ГРА']</td>\n",
       "    </tr>\n",
       "    <tr>\n",
       "      <th>62623</th>\n",
       "      <td>Се ля ви</td>\n",
       "      <td>[\"A'Studio\"]</td>\n",
       "    </tr>\n",
       "    <tr>\n",
       "      <th>62640</th>\n",
       "      <td>Lonely</td>\n",
       "      <td>['Justin Bieber', 'Benny Blanco']</td>\n",
       "    </tr>\n",
       "    <tr>\n",
       "      <th>63039</th>\n",
       "      <td>Minefields</td>\n",
       "      <td>['John Legend', 'Faouzia']</td>\n",
       "    </tr>\n",
       "  </tbody>\n",
       "</table>\n",
       "</div>"
      ],
      "text/plain": [
       "                                   name                               artists\n",
       "61394                   Мир сошёл с ума                              ['JONY']\n",
       "61530                      Твой поцелуй                        ['Асия', 'NЮ']\n",
       "61560                         Втюрилась                              ['Дора']\n",
       "61584                          Dynamite                               ['BTS']\n",
       "61677           Если тебе будет грустно            ['Rauf & Faik', 'NILETTO']\n",
       "61820                        Let's Love               ['David Guetta', 'Sia']\n",
       "61945                          Diamonds                         ['Sam Smith']\n",
       "62177                 Courage to Change                               ['Sia']\n",
       "62285                   Coeur de pierre                           ['Slimane']\n",
       "62348  Savage Love (Laxed - Siren Beat)  ['Jawsh 685', 'Jason Derulo', 'BTS']\n",
       "62574                You Broke Me First                     ['Conor Maynard']\n",
       "62616                           Рикошет                           ['ВИА ГРА']\n",
       "62623                          Се ля ви                          [\"A'Studio\"]\n",
       "62640                            Lonely     ['Justin Bieber', 'Benny Blanco']\n",
       "63039                        Minefields            ['John Legend', 'Faouzia']"
      ]
     },
     "execution_count": 106,
     "metadata": {},
     "output_type": "execute_result"
    }
   ],
   "source": [
    "test_tracks = test_ratings[test_ratings.userId == user_id].trackId[:15]\n",
    "\n",
    "print('Test-time tracks:')\n",
    "\n",
    "tracks_info.loc[test_tracks][['name', 'artists']]"
   ]
  },
  {
   "cell_type": "markdown",
   "id": "b93595bc",
   "metadata": {},
   "source": [
    "Видно, что предсказания с переменным успехом соответсвуют предыдущим прослушанным трекам, стоит доработать модель. "
   ]
  },
  {
   "cell_type": "markdown",
   "id": "3laWojtltEz1",
   "metadata": {
    "id": "3laWojtltEz1"
   },
   "source": [
    "### Часть 2. Модель со скрытыми переменными"
   ]
  },
  {
   "cell_type": "markdown",
   "id": "W63eIwPEYuYG",
   "metadata": {
    "id": "W63eIwPEYuYG"
   },
   "source": [
    "В этой части мы пощупаем метод рекомендаций со скрытыми переменными.\n",
    "Идея: будем предсказывать оценки по формуле\n",
    "$$\n",
    "\\hat{r}_{ui} = \\langle p_u, q_u \\rangle,\n",
    "$$\n",
    "$p_u \\in \\mathbb{R}^d$ и $q_i \\in \\mathbb{R}^d$ - латентные векторы пользователя $u$ и объекта $i$ соответственно. \n",
    "\n",
    "Оптимизировать мы будем MSE между истинной оценкой пользователя и предсказанной с регуляризацией\n",
    "$$\n",
    "L = \\sum_{(u, i) \\in R} (\\hat{r}_{ui} - r_{ui})^2 + \\lambda \\left(\\sum_{u \\in U} \\|p_u\\|^2 + \\sum_{i \\in I} \\|q_i\\|^2\\right)\n",
    "$$"
   ]
  },
  {
   "cell_type": "markdown",
   "id": "jrZjfGb0iLk6",
   "metadata": {
    "id": "jrZjfGb0iLk6"
   },
   "source": [
    "**Задание 7 (1.5 балла).** На лекции рассматривались два подхода к оптимизации параметров. Можно это делать обычным стохастческим градинтным спуском, а можно по очереди обновлять матрицы $P, Q$, и тогда получится метод Alternating Least Squares (ALS). Выведите формулы обновления параметров для обоих методов."
   ]
  },
  {
   "cell_type": "markdown",
   "id": "knT2htHnkTPT",
   "metadata": {
    "id": "knT2htHnkTPT"
   },
   "source": [
    "**LFM:**\n",
    "\n",
    "$$L = \\sum_{(u, i) \\in R} (\\langle p_u, q_i \\rangle - r_{ui})^2 + \\lambda \\left(\\sum_{u \\in U} \\|p_u\\|^2 + \\sum_{i \\in I} \\|q_i\\|^2\\right)$$\n",
    "\n",
    "$$ \\nabla_{p_u} L = 2\\sum\\limits_i q_i (\\langle p_u, q_i \\rangle - r_{ui}) + \\lambda 2p_u = 2\\sum\\limits_i (q_i q_i^{T} p_u - r_{ui}q_i) + 2\\lambda p_u $$\n",
    "\n",
    "$$ \\nabla_{q_i} L = 2\\sum\\limits_u p_u (\\langle p_u, q_i \\rangle - r_{ui}) + \\lambda 2q_i = 2\\sum\\limits_u (p_u p_u^{T} q_i - r_{ui}p_u) + 2\\lambda q_i $$\n",
    "\n",
    "$$ p_{u new} = p_u + learning rate * \\nabla_{p_u} L  = p_u + 2learning rate * (q_i q_i^{T} p_u - r_{ui}q_i + \\lambda p_u)$$\n",
    "\n",
    "$$ q_{i new} = q_i + learning rate * \\nabla_{q_i} L  = q_i + 2learning rate * (p_u p_u^{T} q_i - r_{ui}p_u + \\lambda q_i)$$\n",
    "\n",
    "**ALS:**\n",
    "\n",
    "Ответ\n",
    "\n",
    "$$ \\nabla_{p_u} L = 2\\sum\\limits_i (q_i q_i^{T} p_u - r_{ui}q_i) + 2\\lambda p_u  = 0$$\n",
    "\n",
    "$$\\sum\\limits_i (q_i q_i^{T} p_u - r_{ui}q_i) + \\lambda p_u  = 0$$\n",
    "\n",
    "$$\\sum\\limits_i (q_i q_i^{T}  + \\lambda) p_u  = \\sum\\limits_i r_{ui}q_i$$\n",
    "\n",
    "$$p_u = (\\sum\\limits_i q_i q_i^{T}  + \\lambda)^{-1} \\sum\\limits_i r_{ui}q_i \\forall u$$\n",
    "\n",
    "$$P = (QQ^T + \\lambda)^{-1}QR^T$$\n",
    "\n",
    "\n",
    "\n",
    "$$ \\nabla_{q_i} L = 2\\sum\\limits_u (p_u p_u^{T} q_i - r_{ui}p_u) + 2\\lambda q_i = 0$$\n",
    "\n",
    "$$\\sum\\limits_u (p_u p_u^{T} q_i - r_{ui}p_u) + \\lambda q_i  = 0$$\n",
    "\n",
    "$$\\sum\\limits_u (p_u p_u^{T}  + \\lambda) q_i   = \\sum\\limits_u r_{ui}p_u$$\n",
    "\n",
    "$$q_i  = (\\sum\\limits_u p_u p_u^{T}  + \\lambda)^{-1} \\sum\\limits_u r_{ui}p_u \\forall i$$\n",
    "\n",
    "$$Q = (PP^T + \\lambda)^{-1}PR$$\n",
    "\n"
   ]
  },
  {
   "cell_type": "markdown",
   "id": "T5PXIItDkiDc",
   "metadata": {
    "id": "T5PXIItDkiDc"
   },
   "source": [
    "**Задание 8 (2 балла).** Реализуйте методы оптимизации параметров для обоих алгоритмов."
   ]
  },
  {
   "cell_type": "code",
   "execution_count": 107,
   "id": "vTui-yTptFIo",
   "metadata": {
    "id": "vTui-yTptFIo"
   },
   "outputs": [],
   "source": [
    "class HiddenVars(BaseModel):\n",
    "    def __init__(self, ratings, dim=128, mode='sgd'):\n",
    "        super().__init__(ratings)\n",
    "        self.dim = dim\n",
    "        \n",
    "        assert mode in ['sgd', 'als']\n",
    "        self.mode = mode\n",
    "\n",
    "        self.P = np.random.normal(size=(dim, self.n_users))\n",
    "        self.Q = np.random.normal(size=(dim, self.n_items))\n",
    "\n",
    "        self.lr = 0.0003\n",
    "        self.lamb = 0.01\n",
    "\n",
    "    def fit(self, num_iters=5):\n",
    "        for epoch in tqdm(range(num_iters)):\n",
    "\n",
    "            if self.mode == 'sgd':\n",
    "                u = np.random.randint(0, self.n_users)\n",
    "                i = np.random.randint(0, self.n_items)\n",
    "                p = self.P[:, u]\n",
    "                q = self.Q[:, i]\n",
    "                self.P[:, u] = p - 2 * self.lr * (p @ q * q - self.R[u][i] * q + self.lamb * p)\n",
    "                self.Q[:, i] = q - 2 * self.lr * (p @ q * p - self.R[u][i] * p + self.lamb * q)\n",
    "\n",
    "            elif self.mode == 'als':\n",
    "                # your code here: (￣▽￣)/♫•*¨*•.¸¸♪\n",
    "                self.P = np.linalg.inv(self.Q @ self.Q.T + self.lamb * np.eye(self.dim)) @ self.Q @ self.R.T\n",
    "                self.Q = np.linalg.inv(self.P @ self.P.T + self.lamb * np.eye(self.dim)) @ self.P @ self.R\n",
    "\n",
    "    def recommend(self, uid):\n",
    "        pred_rating = self.Q.T @ self.P[:, uid]\n",
    "\n",
    "        return np.argsort(pred_rating)[::-1]"
   ]
  },
  {
   "cell_type": "markdown",
   "id": "N0P3-ZcYuY3t",
   "metadata": {
    "id": "N0P3-ZcYuY3t"
   },
   "source": [
    "**Задание 9 (1 балл).** Для обоих алгоритмов подберите оптимальные значения размерности скрытого пространства $d$ и размера предсказания $k$. Как изменяется качество предсказаний с числом итераций обучения? Постройте соответствующие графики, сравните со случайным подхом и User2User, сделайте выводы. Какой алгоритм вам кажется более подходящим для данной задачи и почему?\n",
    "\n",
    "P.S. Хотя бы один из методов обучения должен приводить к лучшим результатам в сравнении с User2User подходом.\n",
    "\n",
    "P.P.S. Методу LFM свойственно переобучаться, поэтому при подборе параметров полезно смотреть на значения ошибки и оптимизируемой метрики на тренировочном датасете. Вы также можете менять начальную инициализацию и прочие параметры, за исключением архитектуры, на ваш вкус."
   ]
  },
  {
   "cell_type": "code",
   "execution_count": null,
   "id": "0D62IgV2OjDF",
   "metadata": {
    "id": "0D62IgV2OjDF"
   },
   "outputs": [],
   "source": [
    "# your code here: (￣▽￣)/♫•*¨*•.¸¸♪"
   ]
  },
  {
   "cell_type": "code",
   "execution_count": 130,
   "id": "a235afac",
   "metadata": {
    "scrolled": true
   },
   "outputs": [
    {
     "data": {
      "application/vnd.jupyter.widget-view+json": {
       "model_id": "f43fd2f574494232bc7b008ef3f460a8",
       "version_major": 2,
       "version_minor": 0
      },
      "text/plain": [
       "  0%|          | 0/100 [00:00<?, ?it/s]"
      ]
     },
     "metadata": {},
     "output_type": "display_data"
    },
    {
     "data": {
      "application/vnd.jupyter.widget-view+json": {
       "model_id": "44db8fb767c74a6bbeaf5592ebb4e142",
       "version_major": 2,
       "version_minor": 0
      },
      "text/plain": [
       "  0%|          | 0/100 [00:00<?, ?it/s]"
      ]
     },
     "metadata": {},
     "output_type": "display_data"
    },
    {
     "data": {
      "application/vnd.jupyter.widget-view+json": {
       "model_id": "74cfa5f0f4514eeeb31360b88ddbdfd5",
       "version_major": 2,
       "version_minor": 0
      },
      "text/plain": [
       "  0%|          | 0/100 [00:00<?, ?it/s]"
      ]
     },
     "metadata": {},
     "output_type": "display_data"
    },
    {
     "data": {
      "application/vnd.jupyter.widget-view+json": {
       "model_id": "6976f8ad3ef14d83b19b9ff1397035e1",
       "version_major": 2,
       "version_minor": 0
      },
      "text/plain": [
       "  0%|          | 0/100 [00:00<?, ?it/s]"
      ]
     },
     "metadata": {},
     "output_type": "display_data"
    },
    {
     "data": {
      "application/vnd.jupyter.widget-view+json": {
       "model_id": "535eadce0dc647dc954fcef858e2e568",
       "version_major": 2,
       "version_minor": 0
      },
      "text/plain": [
       "  0%|          | 0/100 [00:00<?, ?it/s]"
      ]
     },
     "metadata": {},
     "output_type": "display_data"
    },
    {
     "data": {
      "application/vnd.jupyter.widget-view+json": {
       "model_id": "9f70605f85d442e086f36e7093e23a56",
       "version_major": 2,
       "version_minor": 0
      },
      "text/plain": [
       "  0%|          | 0/500 [00:00<?, ?it/s]"
      ]
     },
     "metadata": {},
     "output_type": "display_data"
    },
    {
     "data": {
      "application/vnd.jupyter.widget-view+json": {
       "model_id": "b9f4f26b1970432fb3cd607ef8890adf",
       "version_major": 2,
       "version_minor": 0
      },
      "text/plain": [
       "  0%|          | 0/500 [00:00<?, ?it/s]"
      ]
     },
     "metadata": {},
     "output_type": "display_data"
    },
    {
     "data": {
      "application/vnd.jupyter.widget-view+json": {
       "model_id": "c505bd2e1f934f8fa6aa00faaec27629",
       "version_major": 2,
       "version_minor": 0
      },
      "text/plain": [
       "  0%|          | 0/500 [00:00<?, ?it/s]"
      ]
     },
     "metadata": {},
     "output_type": "display_data"
    },
    {
     "data": {
      "application/vnd.jupyter.widget-view+json": {
       "model_id": "28cc2ceaa0fd45dcb7b7cdcdd18723f5",
       "version_major": 2,
       "version_minor": 0
      },
      "text/plain": [
       "  0%|          | 0/500 [00:00<?, ?it/s]"
      ]
     },
     "metadata": {},
     "output_type": "display_data"
    },
    {
     "data": {
      "application/vnd.jupyter.widget-view+json": {
       "model_id": "1d2feb5d312a46389d724f1097138977",
       "version_major": 2,
       "version_minor": 0
      },
      "text/plain": [
       "  0%|          | 0/500 [00:00<?, ?it/s]"
      ]
     },
     "metadata": {},
     "output_type": "display_data"
    },
    {
     "data": {
      "application/vnd.jupyter.widget-view+json": {
       "model_id": "edc13300c3344107ac376d705c6de192",
       "version_major": 2,
       "version_minor": 0
      },
      "text/plain": [
       "  0%|          | 0/1000 [00:00<?, ?it/s]"
      ]
     },
     "metadata": {},
     "output_type": "display_data"
    },
    {
     "data": {
      "application/vnd.jupyter.widget-view+json": {
       "model_id": "149caad0380d4730adc88254cd0da150",
       "version_major": 2,
       "version_minor": 0
      },
      "text/plain": [
       "  0%|          | 0/1000 [00:00<?, ?it/s]"
      ]
     },
     "metadata": {},
     "output_type": "display_data"
    },
    {
     "data": {
      "application/vnd.jupyter.widget-view+json": {
       "model_id": "5baac0c6da954ab6b33580bf16b7cc5e",
       "version_major": 2,
       "version_minor": 0
      },
      "text/plain": [
       "  0%|          | 0/1000 [00:00<?, ?it/s]"
      ]
     },
     "metadata": {},
     "output_type": "display_data"
    },
    {
     "data": {
      "application/vnd.jupyter.widget-view+json": {
       "model_id": "5a7a0d0eb12c4131bdc0b659c385575a",
       "version_major": 2,
       "version_minor": 0
      },
      "text/plain": [
       "  0%|          | 0/1000 [00:00<?, ?it/s]"
      ]
     },
     "metadata": {},
     "output_type": "display_data"
    },
    {
     "data": {
      "application/vnd.jupyter.widget-view+json": {
       "model_id": "5c1d5478227240469e29b5f698f936c9",
       "version_major": 2,
       "version_minor": 0
      },
      "text/plain": [
       "  0%|          | 0/1000 [00:00<?, ?it/s]"
      ]
     },
     "metadata": {},
     "output_type": "display_data"
    },
    {
     "data": {
      "application/vnd.jupyter.widget-view+json": {
       "model_id": "f303654523b64d1f8008691c5285125c",
       "version_major": 2,
       "version_minor": 0
      },
      "text/plain": [
       "  0%|          | 0/1500 [00:00<?, ?it/s]"
      ]
     },
     "metadata": {},
     "output_type": "display_data"
    },
    {
     "data": {
      "application/vnd.jupyter.widget-view+json": {
       "model_id": "2b8ecdf3132f40e19e55c214cb2d7a55",
       "version_major": 2,
       "version_minor": 0
      },
      "text/plain": [
       "  0%|          | 0/1500 [00:00<?, ?it/s]"
      ]
     },
     "metadata": {},
     "output_type": "display_data"
    },
    {
     "data": {
      "application/vnd.jupyter.widget-view+json": {
       "model_id": "02f6090d05c84dc1b76c2d59a406c567",
       "version_major": 2,
       "version_minor": 0
      },
      "text/plain": [
       "  0%|          | 0/1500 [00:00<?, ?it/s]"
      ]
     },
     "metadata": {},
     "output_type": "display_data"
    },
    {
     "data": {
      "application/vnd.jupyter.widget-view+json": {
       "model_id": "b382fce75504466683ab3ee029c8c234",
       "version_major": 2,
       "version_minor": 0
      },
      "text/plain": [
       "  0%|          | 0/1500 [00:00<?, ?it/s]"
      ]
     },
     "metadata": {},
     "output_type": "display_data"
    },
    {
     "data": {
      "application/vnd.jupyter.widget-view+json": {
       "model_id": "4ce8d39d69f44e9e87300662377558e1",
       "version_major": 2,
       "version_minor": 0
      },
      "text/plain": [
       "  0%|          | 0/1500 [00:00<?, ?it/s]"
      ]
     },
     "metadata": {},
     "output_type": "display_data"
    },
    {
     "data": {
      "application/vnd.jupyter.widget-view+json": {
       "model_id": "e13b361bbda54c889e49621e5fa034f1",
       "version_major": 2,
       "version_minor": 0
      },
      "text/plain": [
       "  0%|          | 0/100 [00:00<?, ?it/s]"
      ]
     },
     "metadata": {},
     "output_type": "display_data"
    },
    {
     "data": {
      "application/vnd.jupyter.widget-view+json": {
       "model_id": "b9acf4942bea4903bdcef48b4ad67618",
       "version_major": 2,
       "version_minor": 0
      },
      "text/plain": [
       "  0%|          | 0/100 [00:00<?, ?it/s]"
      ]
     },
     "metadata": {},
     "output_type": "display_data"
    },
    {
     "data": {
      "application/vnd.jupyter.widget-view+json": {
       "model_id": "7d680e08fc474ed2be5c6d5146a1e07f",
       "version_major": 2,
       "version_minor": 0
      },
      "text/plain": [
       "  0%|          | 0/100 [00:00<?, ?it/s]"
      ]
     },
     "metadata": {},
     "output_type": "display_data"
    },
    {
     "data": {
      "application/vnd.jupyter.widget-view+json": {
       "model_id": "66796616b1524b45adaec793bbd884a2",
       "version_major": 2,
       "version_minor": 0
      },
      "text/plain": [
       "  0%|          | 0/100 [00:00<?, ?it/s]"
      ]
     },
     "metadata": {},
     "output_type": "display_data"
    },
    {
     "data": {
      "application/vnd.jupyter.widget-view+json": {
       "model_id": "81720f203a164fe8aa22df262bbf185f",
       "version_major": 2,
       "version_minor": 0
      },
      "text/plain": [
       "  0%|          | 0/100 [00:00<?, ?it/s]"
      ]
     },
     "metadata": {},
     "output_type": "display_data"
    },
    {
     "data": {
      "application/vnd.jupyter.widget-view+json": {
       "model_id": "a8a087ddcaca4851bc9862486c45cade",
       "version_major": 2,
       "version_minor": 0
      },
      "text/plain": [
       "  0%|          | 0/500 [00:00<?, ?it/s]"
      ]
     },
     "metadata": {},
     "output_type": "display_data"
    },
    {
     "data": {
      "application/vnd.jupyter.widget-view+json": {
       "model_id": "e5576a8641814ca1948538997f4fdef3",
       "version_major": 2,
       "version_minor": 0
      },
      "text/plain": [
       "  0%|          | 0/500 [00:00<?, ?it/s]"
      ]
     },
     "metadata": {},
     "output_type": "display_data"
    },
    {
     "data": {
      "application/vnd.jupyter.widget-view+json": {
       "model_id": "3a51fad8c423475394bb38ef30602952",
       "version_major": 2,
       "version_minor": 0
      },
      "text/plain": [
       "  0%|          | 0/500 [00:00<?, ?it/s]"
      ]
     },
     "metadata": {},
     "output_type": "display_data"
    },
    {
     "data": {
      "application/vnd.jupyter.widget-view+json": {
       "model_id": "9203e2499d77443885be0a791c928984",
       "version_major": 2,
       "version_minor": 0
      },
      "text/plain": [
       "  0%|          | 0/500 [00:00<?, ?it/s]"
      ]
     },
     "metadata": {},
     "output_type": "display_data"
    },
    {
     "data": {
      "application/vnd.jupyter.widget-view+json": {
       "model_id": "e03aa2411dd341fe9cbd3bf58375e967",
       "version_major": 2,
       "version_minor": 0
      },
      "text/plain": [
       "  0%|          | 0/500 [00:00<?, ?it/s]"
      ]
     },
     "metadata": {},
     "output_type": "display_data"
    },
    {
     "data": {
      "application/vnd.jupyter.widget-view+json": {
       "model_id": "ba8d3c2efac14dc28fa110caedba80ad",
       "version_major": 2,
       "version_minor": 0
      },
      "text/plain": [
       "  0%|          | 0/1000 [00:00<?, ?it/s]"
      ]
     },
     "metadata": {},
     "output_type": "display_data"
    },
    {
     "data": {
      "application/vnd.jupyter.widget-view+json": {
       "model_id": "b960657b433c4049a1b431ed3cb35c45",
       "version_major": 2,
       "version_minor": 0
      },
      "text/plain": [
       "  0%|          | 0/1000 [00:00<?, ?it/s]"
      ]
     },
     "metadata": {},
     "output_type": "display_data"
    },
    {
     "data": {
      "application/vnd.jupyter.widget-view+json": {
       "model_id": "ccc74ee9a7854144ba44fc7d32ffd7e4",
       "version_major": 2,
       "version_minor": 0
      },
      "text/plain": [
       "  0%|          | 0/1000 [00:00<?, ?it/s]"
      ]
     },
     "metadata": {},
     "output_type": "display_data"
    },
    {
     "data": {
      "application/vnd.jupyter.widget-view+json": {
       "model_id": "b605fc45696541a4b521fab8d044578e",
       "version_major": 2,
       "version_minor": 0
      },
      "text/plain": [
       "  0%|          | 0/1000 [00:00<?, ?it/s]"
      ]
     },
     "metadata": {},
     "output_type": "display_data"
    },
    {
     "data": {
      "application/vnd.jupyter.widget-view+json": {
       "model_id": "aca9472f3de3489aa698c4de2b5af226",
       "version_major": 2,
       "version_minor": 0
      },
      "text/plain": [
       "  0%|          | 0/1000 [00:00<?, ?it/s]"
      ]
     },
     "metadata": {},
     "output_type": "display_data"
    },
    {
     "data": {
      "application/vnd.jupyter.widget-view+json": {
       "model_id": "51f22781e2db4d40900c06a850d8e4da",
       "version_major": 2,
       "version_minor": 0
      },
      "text/plain": [
       "  0%|          | 0/1500 [00:00<?, ?it/s]"
      ]
     },
     "metadata": {},
     "output_type": "display_data"
    },
    {
     "data": {
      "application/vnd.jupyter.widget-view+json": {
       "model_id": "391d92b3ddb1403cba34dd33e8bfce2b",
       "version_major": 2,
       "version_minor": 0
      },
      "text/plain": [
       "  0%|          | 0/1500 [00:00<?, ?it/s]"
      ]
     },
     "metadata": {},
     "output_type": "display_data"
    },
    {
     "data": {
      "application/vnd.jupyter.widget-view+json": {
       "model_id": "c6ad80e79ee5414493f792146d7fb4f7",
       "version_major": 2,
       "version_minor": 0
      },
      "text/plain": [
       "  0%|          | 0/1500 [00:00<?, ?it/s]"
      ]
     },
     "metadata": {},
     "output_type": "display_data"
    },
    {
     "data": {
      "application/vnd.jupyter.widget-view+json": {
       "model_id": "9f447a7146bc49259d446f120c225718",
       "version_major": 2,
       "version_minor": 0
      },
      "text/plain": [
       "  0%|          | 0/1500 [00:00<?, ?it/s]"
      ]
     },
     "metadata": {},
     "output_type": "display_data"
    },
    {
     "data": {
      "application/vnd.jupyter.widget-view+json": {
       "model_id": "ad3e87ca23284013997389dcc3b23ba5",
       "version_major": 2,
       "version_minor": 0
      },
      "text/plain": [
       "  0%|          | 0/1500 [00:00<?, ?it/s]"
      ]
     },
     "metadata": {},
     "output_type": "display_data"
    },
    {
     "data": {
      "application/vnd.jupyter.widget-view+json": {
       "model_id": "49c568c1a74c41eb93b0d52eb4cdc171",
       "version_major": 2,
       "version_minor": 0
      },
      "text/plain": [
       "  0%|          | 0/100 [00:00<?, ?it/s]"
      ]
     },
     "metadata": {},
     "output_type": "display_data"
    },
    {
     "data": {
      "application/vnd.jupyter.widget-view+json": {
       "model_id": "c34c2f877d0e4dfab33509cda36debf1",
       "version_major": 2,
       "version_minor": 0
      },
      "text/plain": [
       "  0%|          | 0/100 [00:00<?, ?it/s]"
      ]
     },
     "metadata": {},
     "output_type": "display_data"
    },
    {
     "data": {
      "application/vnd.jupyter.widget-view+json": {
       "model_id": "0de4e914fcb74d07a8fdbabf78a36115",
       "version_major": 2,
       "version_minor": 0
      },
      "text/plain": [
       "  0%|          | 0/100 [00:00<?, ?it/s]"
      ]
     },
     "metadata": {},
     "output_type": "display_data"
    },
    {
     "data": {
      "application/vnd.jupyter.widget-view+json": {
       "model_id": "c05e636a0fdd40e797dcaa0087b8d133",
       "version_major": 2,
       "version_minor": 0
      },
      "text/plain": [
       "  0%|          | 0/100 [00:00<?, ?it/s]"
      ]
     },
     "metadata": {},
     "output_type": "display_data"
    },
    {
     "data": {
      "application/vnd.jupyter.widget-view+json": {
       "model_id": "9a26a689ab5748b9be73e6c1eab9d1c1",
       "version_major": 2,
       "version_minor": 0
      },
      "text/plain": [
       "  0%|          | 0/100 [00:00<?, ?it/s]"
      ]
     },
     "metadata": {},
     "output_type": "display_data"
    },
    {
     "data": {
      "application/vnd.jupyter.widget-view+json": {
       "model_id": "1a8f4c0e8c35495ba5ef7aa66e044030",
       "version_major": 2,
       "version_minor": 0
      },
      "text/plain": [
       "  0%|          | 0/500 [00:00<?, ?it/s]"
      ]
     },
     "metadata": {},
     "output_type": "display_data"
    },
    {
     "data": {
      "application/vnd.jupyter.widget-view+json": {
       "model_id": "5d1c8d00cf214061a35d31462aa86d69",
       "version_major": 2,
       "version_minor": 0
      },
      "text/plain": [
       "  0%|          | 0/500 [00:00<?, ?it/s]"
      ]
     },
     "metadata": {},
     "output_type": "display_data"
    },
    {
     "data": {
      "application/vnd.jupyter.widget-view+json": {
       "model_id": "94d44ba5cca641ce9667573910d3f5da",
       "version_major": 2,
       "version_minor": 0
      },
      "text/plain": [
       "  0%|          | 0/500 [00:00<?, ?it/s]"
      ]
     },
     "metadata": {},
     "output_type": "display_data"
    },
    {
     "data": {
      "application/vnd.jupyter.widget-view+json": {
       "model_id": "c99490f43c4c4f50ae7eef48edb427f8",
       "version_major": 2,
       "version_minor": 0
      },
      "text/plain": [
       "  0%|          | 0/500 [00:00<?, ?it/s]"
      ]
     },
     "metadata": {},
     "output_type": "display_data"
    },
    {
     "data": {
      "application/vnd.jupyter.widget-view+json": {
       "model_id": "41c8039cf60f4a8ea728e96ac6a74577",
       "version_major": 2,
       "version_minor": 0
      },
      "text/plain": [
       "  0%|          | 0/500 [00:00<?, ?it/s]"
      ]
     },
     "metadata": {},
     "output_type": "display_data"
    },
    {
     "data": {
      "application/vnd.jupyter.widget-view+json": {
       "model_id": "9be5a8ee186047d086c419ca5ff32928",
       "version_major": 2,
       "version_minor": 0
      },
      "text/plain": [
       "  0%|          | 0/1000 [00:00<?, ?it/s]"
      ]
     },
     "metadata": {},
     "output_type": "display_data"
    },
    {
     "data": {
      "application/vnd.jupyter.widget-view+json": {
       "model_id": "76ce920991774a90b2a58935a332d751",
       "version_major": 2,
       "version_minor": 0
      },
      "text/plain": [
       "  0%|          | 0/1000 [00:00<?, ?it/s]"
      ]
     },
     "metadata": {},
     "output_type": "display_data"
    },
    {
     "data": {
      "application/vnd.jupyter.widget-view+json": {
       "model_id": "a44ab4ebbaef4bc7893c095046e6270d",
       "version_major": 2,
       "version_minor": 0
      },
      "text/plain": [
       "  0%|          | 0/1000 [00:00<?, ?it/s]"
      ]
     },
     "metadata": {},
     "output_type": "display_data"
    },
    {
     "data": {
      "application/vnd.jupyter.widget-view+json": {
       "model_id": "95c98a49754a4f319d548b929d76613d",
       "version_major": 2,
       "version_minor": 0
      },
      "text/plain": [
       "  0%|          | 0/1000 [00:00<?, ?it/s]"
      ]
     },
     "metadata": {},
     "output_type": "display_data"
    },
    {
     "data": {
      "application/vnd.jupyter.widget-view+json": {
       "model_id": "f88a96e0f54d4f2ba9c1b11850fdbe47",
       "version_major": 2,
       "version_minor": 0
      },
      "text/plain": [
       "  0%|          | 0/1000 [00:00<?, ?it/s]"
      ]
     },
     "metadata": {},
     "output_type": "display_data"
    },
    {
     "data": {
      "application/vnd.jupyter.widget-view+json": {
       "model_id": "9dd574e9840843f9acfca8de2710a125",
       "version_major": 2,
       "version_minor": 0
      },
      "text/plain": [
       "  0%|          | 0/1500 [00:00<?, ?it/s]"
      ]
     },
     "metadata": {},
     "output_type": "display_data"
    },
    {
     "data": {
      "application/vnd.jupyter.widget-view+json": {
       "model_id": "b6ee8f3b1a4d4a8ea6079d64f1ad369e",
       "version_major": 2,
       "version_minor": 0
      },
      "text/plain": [
       "  0%|          | 0/1500 [00:00<?, ?it/s]"
      ]
     },
     "metadata": {},
     "output_type": "display_data"
    },
    {
     "data": {
      "application/vnd.jupyter.widget-view+json": {
       "model_id": "cc3c3384f0c54b69bbe8305d69cade6b",
       "version_major": 2,
       "version_minor": 0
      },
      "text/plain": [
       "  0%|          | 0/1500 [00:00<?, ?it/s]"
      ]
     },
     "metadata": {},
     "output_type": "display_data"
    },
    {
     "data": {
      "application/vnd.jupyter.widget-view+json": {
       "model_id": "440b35bb6fb741bc91c88ea810401d77",
       "version_major": 2,
       "version_minor": 0
      },
      "text/plain": [
       "  0%|          | 0/1500 [00:00<?, ?it/s]"
      ]
     },
     "metadata": {},
     "output_type": "display_data"
    },
    {
     "data": {
      "application/vnd.jupyter.widget-view+json": {
       "model_id": "5a0422210d5140578f5b40888950b538",
       "version_major": 2,
       "version_minor": 0
      },
      "text/plain": [
       "  0%|          | 0/1500 [00:00<?, ?it/s]"
      ]
     },
     "metadata": {},
     "output_type": "display_data"
    },
    {
     "data": {
      "application/vnd.jupyter.widget-view+json": {
       "model_id": "2620422a11ff4c3d9ece91b21fbc2ac7",
       "version_major": 2,
       "version_minor": 0
      },
      "text/plain": [
       "  0%|          | 0/100 [00:00<?, ?it/s]"
      ]
     },
     "metadata": {},
     "output_type": "display_data"
    },
    {
     "data": {
      "application/vnd.jupyter.widget-view+json": {
       "model_id": "2864923f17da4de1a026c4bf0c48262e",
       "version_major": 2,
       "version_minor": 0
      },
      "text/plain": [
       "  0%|          | 0/100 [00:00<?, ?it/s]"
      ]
     },
     "metadata": {},
     "output_type": "display_data"
    },
    {
     "data": {
      "application/vnd.jupyter.widget-view+json": {
       "model_id": "e0d63a0d31814493ad932ffbe627c4c2",
       "version_major": 2,
       "version_minor": 0
      },
      "text/plain": [
       "  0%|          | 0/100 [00:00<?, ?it/s]"
      ]
     },
     "metadata": {},
     "output_type": "display_data"
    },
    {
     "data": {
      "application/vnd.jupyter.widget-view+json": {
       "model_id": "cf8313971b04404da8af1da497e3a3fb",
       "version_major": 2,
       "version_minor": 0
      },
      "text/plain": [
       "  0%|          | 0/100 [00:00<?, ?it/s]"
      ]
     },
     "metadata": {},
     "output_type": "display_data"
    },
    {
     "data": {
      "application/vnd.jupyter.widget-view+json": {
       "model_id": "4e126086756f4ae28b1c5601b2f4331c",
       "version_major": 2,
       "version_minor": 0
      },
      "text/plain": [
       "  0%|          | 0/100 [00:00<?, ?it/s]"
      ]
     },
     "metadata": {},
     "output_type": "display_data"
    },
    {
     "data": {
      "application/vnd.jupyter.widget-view+json": {
       "model_id": "18d5872bcc51481e99b23268679e185b",
       "version_major": 2,
       "version_minor": 0
      },
      "text/plain": [
       "  0%|          | 0/500 [00:00<?, ?it/s]"
      ]
     },
     "metadata": {},
     "output_type": "display_data"
    },
    {
     "data": {
      "application/vnd.jupyter.widget-view+json": {
       "model_id": "bc59248be88049cdaca10d7a08ae076f",
       "version_major": 2,
       "version_minor": 0
      },
      "text/plain": [
       "  0%|          | 0/500 [00:00<?, ?it/s]"
      ]
     },
     "metadata": {},
     "output_type": "display_data"
    },
    {
     "data": {
      "application/vnd.jupyter.widget-view+json": {
       "model_id": "3fd8cde85ef54a13bbe22621201dcc03",
       "version_major": 2,
       "version_minor": 0
      },
      "text/plain": [
       "  0%|          | 0/500 [00:00<?, ?it/s]"
      ]
     },
     "metadata": {},
     "output_type": "display_data"
    },
    {
     "data": {
      "application/vnd.jupyter.widget-view+json": {
       "model_id": "7eeaf896d7a4430a8f1081b730625596",
       "version_major": 2,
       "version_minor": 0
      },
      "text/plain": [
       "  0%|          | 0/500 [00:00<?, ?it/s]"
      ]
     },
     "metadata": {},
     "output_type": "display_data"
    },
    {
     "data": {
      "application/vnd.jupyter.widget-view+json": {
       "model_id": "4a27edc68e394c6983046a3ef77795e2",
       "version_major": 2,
       "version_minor": 0
      },
      "text/plain": [
       "  0%|          | 0/500 [00:00<?, ?it/s]"
      ]
     },
     "metadata": {},
     "output_type": "display_data"
    },
    {
     "data": {
      "application/vnd.jupyter.widget-view+json": {
       "model_id": "591b6c63a14f4a448f815422e3d51abe",
       "version_major": 2,
       "version_minor": 0
      },
      "text/plain": [
       "  0%|          | 0/1000 [00:00<?, ?it/s]"
      ]
     },
     "metadata": {},
     "output_type": "display_data"
    },
    {
     "data": {
      "application/vnd.jupyter.widget-view+json": {
       "model_id": "5de4d605799b4c12b587b572669feac4",
       "version_major": 2,
       "version_minor": 0
      },
      "text/plain": [
       "  0%|          | 0/1000 [00:00<?, ?it/s]"
      ]
     },
     "metadata": {},
     "output_type": "display_data"
    },
    {
     "data": {
      "application/vnd.jupyter.widget-view+json": {
       "model_id": "39d4b3c0757e4c5da147c6837fe408f8",
       "version_major": 2,
       "version_minor": 0
      },
      "text/plain": [
       "  0%|          | 0/1000 [00:00<?, ?it/s]"
      ]
     },
     "metadata": {},
     "output_type": "display_data"
    },
    {
     "data": {
      "application/vnd.jupyter.widget-view+json": {
       "model_id": "17ee6229b27a44238bf9744065ff3c79",
       "version_major": 2,
       "version_minor": 0
      },
      "text/plain": [
       "  0%|          | 0/1000 [00:00<?, ?it/s]"
      ]
     },
     "metadata": {},
     "output_type": "display_data"
    },
    {
     "data": {
      "application/vnd.jupyter.widget-view+json": {
       "model_id": "8a39fe4f8b874539ac916b5137f7c793",
       "version_major": 2,
       "version_minor": 0
      },
      "text/plain": [
       "  0%|          | 0/1000 [00:00<?, ?it/s]"
      ]
     },
     "metadata": {},
     "output_type": "display_data"
    },
    {
     "data": {
      "application/vnd.jupyter.widget-view+json": {
       "model_id": "75a40101731e409ca02d656878fbcfe9",
       "version_major": 2,
       "version_minor": 0
      },
      "text/plain": [
       "  0%|          | 0/1500 [00:00<?, ?it/s]"
      ]
     },
     "metadata": {},
     "output_type": "display_data"
    },
    {
     "data": {
      "application/vnd.jupyter.widget-view+json": {
       "model_id": "e5662384e25d408ab74591e90474f456",
       "version_major": 2,
       "version_minor": 0
      },
      "text/plain": [
       "  0%|          | 0/1500 [00:00<?, ?it/s]"
      ]
     },
     "metadata": {},
     "output_type": "display_data"
    },
    {
     "data": {
      "application/vnd.jupyter.widget-view+json": {
       "model_id": "46ed83853aac4e0fb11d50b13f0097cc",
       "version_major": 2,
       "version_minor": 0
      },
      "text/plain": [
       "  0%|          | 0/1500 [00:00<?, ?it/s]"
      ]
     },
     "metadata": {},
     "output_type": "display_data"
    },
    {
     "data": {
      "application/vnd.jupyter.widget-view+json": {
       "model_id": "75239fee3bf54ff2b3a9ecb617e1f9fd",
       "version_major": 2,
       "version_minor": 0
      },
      "text/plain": [
       "  0%|          | 0/1500 [00:00<?, ?it/s]"
      ]
     },
     "metadata": {},
     "output_type": "display_data"
    },
    {
     "data": {
      "application/vnd.jupyter.widget-view+json": {
       "model_id": "1ec31695e71d4f7db77c7f7561975778",
       "version_major": 2,
       "version_minor": 0
      },
      "text/plain": [
       "  0%|          | 0/1500 [00:00<?, ?it/s]"
      ]
     },
     "metadata": {},
     "output_type": "display_data"
    },
    {
     "data": {
      "application/vnd.jupyter.widget-view+json": {
       "model_id": "b0f537aa3f9d44839e89f253884ee859",
       "version_major": 2,
       "version_minor": 0
      },
      "text/plain": [
       "  0%|          | 0/100 [00:00<?, ?it/s]"
      ]
     },
     "metadata": {},
     "output_type": "display_data"
    },
    {
     "data": {
      "application/vnd.jupyter.widget-view+json": {
       "model_id": "4da16fe9b38a4ed09e0e8efdcc358187",
       "version_major": 2,
       "version_minor": 0
      },
      "text/plain": [
       "  0%|          | 0/100 [00:00<?, ?it/s]"
      ]
     },
     "metadata": {},
     "output_type": "display_data"
    },
    {
     "data": {
      "application/vnd.jupyter.widget-view+json": {
       "model_id": "384756a92cf346f0940265b4ccf197c8",
       "version_major": 2,
       "version_minor": 0
      },
      "text/plain": [
       "  0%|          | 0/100 [00:00<?, ?it/s]"
      ]
     },
     "metadata": {},
     "output_type": "display_data"
    },
    {
     "data": {
      "application/vnd.jupyter.widget-view+json": {
       "model_id": "eaad3054af854ed9a70215e859be6abf",
       "version_major": 2,
       "version_minor": 0
      },
      "text/plain": [
       "  0%|          | 0/100 [00:00<?, ?it/s]"
      ]
     },
     "metadata": {},
     "output_type": "display_data"
    },
    {
     "data": {
      "application/vnd.jupyter.widget-view+json": {
       "model_id": "bfa9481ed20148d7b6ff64aad3ebdaba",
       "version_major": 2,
       "version_minor": 0
      },
      "text/plain": [
       "  0%|          | 0/100 [00:00<?, ?it/s]"
      ]
     },
     "metadata": {},
     "output_type": "display_data"
    },
    {
     "data": {
      "application/vnd.jupyter.widget-view+json": {
       "model_id": "d994c5caaf7847e3943f20b56888880e",
       "version_major": 2,
       "version_minor": 0
      },
      "text/plain": [
       "  0%|          | 0/500 [00:00<?, ?it/s]"
      ]
     },
     "metadata": {},
     "output_type": "display_data"
    },
    {
     "data": {
      "application/vnd.jupyter.widget-view+json": {
       "model_id": "ed40be99a75b41dc956464fa57b4d49b",
       "version_major": 2,
       "version_minor": 0
      },
      "text/plain": [
       "  0%|          | 0/500 [00:00<?, ?it/s]"
      ]
     },
     "metadata": {},
     "output_type": "display_data"
    },
    {
     "data": {
      "application/vnd.jupyter.widget-view+json": {
       "model_id": "cb15bd900a3c4cd29ba8e7b68c8e4408",
       "version_major": 2,
       "version_minor": 0
      },
      "text/plain": [
       "  0%|          | 0/500 [00:00<?, ?it/s]"
      ]
     },
     "metadata": {},
     "output_type": "display_data"
    },
    {
     "data": {
      "application/vnd.jupyter.widget-view+json": {
       "model_id": "07abff1c589847c4be323b48acdffb0a",
       "version_major": 2,
       "version_minor": 0
      },
      "text/plain": [
       "  0%|          | 0/500 [00:00<?, ?it/s]"
      ]
     },
     "metadata": {},
     "output_type": "display_data"
    },
    {
     "data": {
      "application/vnd.jupyter.widget-view+json": {
       "model_id": "8f1a4c460fed48e0824f2007f3e1d5b5",
       "version_major": 2,
       "version_minor": 0
      },
      "text/plain": [
       "  0%|          | 0/500 [00:00<?, ?it/s]"
      ]
     },
     "metadata": {},
     "output_type": "display_data"
    },
    {
     "data": {
      "application/vnd.jupyter.widget-view+json": {
       "model_id": "b9d951c2475840e9bc595c36c7823eeb",
       "version_major": 2,
       "version_minor": 0
      },
      "text/plain": [
       "  0%|          | 0/1000 [00:00<?, ?it/s]"
      ]
     },
     "metadata": {},
     "output_type": "display_data"
    },
    {
     "data": {
      "application/vnd.jupyter.widget-view+json": {
       "model_id": "bf16cf277e1545168690511eea075792",
       "version_major": 2,
       "version_minor": 0
      },
      "text/plain": [
       "  0%|          | 0/1000 [00:00<?, ?it/s]"
      ]
     },
     "metadata": {},
     "output_type": "display_data"
    },
    {
     "data": {
      "application/vnd.jupyter.widget-view+json": {
       "model_id": "e5ab2e5beabc449bbba80d342f1b5ecd",
       "version_major": 2,
       "version_minor": 0
      },
      "text/plain": [
       "  0%|          | 0/1000 [00:00<?, ?it/s]"
      ]
     },
     "metadata": {},
     "output_type": "display_data"
    },
    {
     "data": {
      "application/vnd.jupyter.widget-view+json": {
       "model_id": "a05e0bb09cb04fdda450f89a1103de64",
       "version_major": 2,
       "version_minor": 0
      },
      "text/plain": [
       "  0%|          | 0/1000 [00:00<?, ?it/s]"
      ]
     },
     "metadata": {},
     "output_type": "display_data"
    },
    {
     "data": {
      "application/vnd.jupyter.widget-view+json": {
       "model_id": "a6b2b255be104bd2acfb2a586323ed19",
       "version_major": 2,
       "version_minor": 0
      },
      "text/plain": [
       "  0%|          | 0/1000 [00:00<?, ?it/s]"
      ]
     },
     "metadata": {},
     "output_type": "display_data"
    },
    {
     "data": {
      "application/vnd.jupyter.widget-view+json": {
       "model_id": "5288f2bbf3454edb92b77f4cedf80db9",
       "version_major": 2,
       "version_minor": 0
      },
      "text/plain": [
       "  0%|          | 0/1500 [00:00<?, ?it/s]"
      ]
     },
     "metadata": {},
     "output_type": "display_data"
    },
    {
     "data": {
      "application/vnd.jupyter.widget-view+json": {
       "model_id": "11e53db58ed44731b8792d2fbde626f6",
       "version_major": 2,
       "version_minor": 0
      },
      "text/plain": [
       "  0%|          | 0/1500 [00:00<?, ?it/s]"
      ]
     },
     "metadata": {},
     "output_type": "display_data"
    },
    {
     "data": {
      "application/vnd.jupyter.widget-view+json": {
       "model_id": "fa6069ca48774a608299666c78d1a2fe",
       "version_major": 2,
       "version_minor": 0
      },
      "text/plain": [
       "  0%|          | 0/1500 [00:00<?, ?it/s]"
      ]
     },
     "metadata": {},
     "output_type": "display_data"
    },
    {
     "data": {
      "application/vnd.jupyter.widget-view+json": {
       "model_id": "1d637ab507df4cdda55b9210885ed1d7",
       "version_major": 2,
       "version_minor": 0
      },
      "text/plain": [
       "  0%|          | 0/1500 [00:00<?, ?it/s]"
      ]
     },
     "metadata": {},
     "output_type": "display_data"
    },
    {
     "data": {
      "application/vnd.jupyter.widget-view+json": {
       "model_id": "c0e4eef47af948bf9484c08c62ade5a4",
       "version_major": 2,
       "version_minor": 0
      },
      "text/plain": [
       "  0%|          | 0/1500 [00:00<?, ?it/s]"
      ]
     },
     "metadata": {},
     "output_type": "display_data"
    },
    {
     "data": {
      "application/vnd.jupyter.widget-view+json": {
       "model_id": "7821cae0e8bf4455af874d2d4f5476c2",
       "version_major": 2,
       "version_minor": 0
      },
      "text/plain": [
       "  0%|          | 0/100 [00:00<?, ?it/s]"
      ]
     },
     "metadata": {},
     "output_type": "display_data"
    },
    {
     "data": {
      "application/vnd.jupyter.widget-view+json": {
       "model_id": "52ed16d78fe74ad2afbd25681373d6bc",
       "version_major": 2,
       "version_minor": 0
      },
      "text/plain": [
       "  0%|          | 0/100 [00:00<?, ?it/s]"
      ]
     },
     "metadata": {},
     "output_type": "display_data"
    },
    {
     "data": {
      "application/vnd.jupyter.widget-view+json": {
       "model_id": "1430acc1403941c1a784f3db53cd6d32",
       "version_major": 2,
       "version_minor": 0
      },
      "text/plain": [
       "  0%|          | 0/100 [00:00<?, ?it/s]"
      ]
     },
     "metadata": {},
     "output_type": "display_data"
    },
    {
     "data": {
      "application/vnd.jupyter.widget-view+json": {
       "model_id": "0b04e7cd34d5400fb8ee949b41b8a15f",
       "version_major": 2,
       "version_minor": 0
      },
      "text/plain": [
       "  0%|          | 0/100 [00:00<?, ?it/s]"
      ]
     },
     "metadata": {},
     "output_type": "display_data"
    },
    {
     "data": {
      "application/vnd.jupyter.widget-view+json": {
       "model_id": "b5e7c292b84b44578579220b65b5cdf8",
       "version_major": 2,
       "version_minor": 0
      },
      "text/plain": [
       "  0%|          | 0/100 [00:00<?, ?it/s]"
      ]
     },
     "metadata": {},
     "output_type": "display_data"
    },
    {
     "data": {
      "application/vnd.jupyter.widget-view+json": {
       "model_id": "520e76f038f1486484b94ecef8db6890",
       "version_major": 2,
       "version_minor": 0
      },
      "text/plain": [
       "  0%|          | 0/500 [00:00<?, ?it/s]"
      ]
     },
     "metadata": {},
     "output_type": "display_data"
    },
    {
     "data": {
      "application/vnd.jupyter.widget-view+json": {
       "model_id": "fb0805ad746a4d2dabebbe816e5ace88",
       "version_major": 2,
       "version_minor": 0
      },
      "text/plain": [
       "  0%|          | 0/500 [00:00<?, ?it/s]"
      ]
     },
     "metadata": {},
     "output_type": "display_data"
    },
    {
     "data": {
      "application/vnd.jupyter.widget-view+json": {
       "model_id": "370672cb50d44cb3b962473e3dc76cd1",
       "version_major": 2,
       "version_minor": 0
      },
      "text/plain": [
       "  0%|          | 0/500 [00:00<?, ?it/s]"
      ]
     },
     "metadata": {},
     "output_type": "display_data"
    },
    {
     "data": {
      "application/vnd.jupyter.widget-view+json": {
       "model_id": "adabab77fffa497ca6043124321e9686",
       "version_major": 2,
       "version_minor": 0
      },
      "text/plain": [
       "  0%|          | 0/500 [00:00<?, ?it/s]"
      ]
     },
     "metadata": {},
     "output_type": "display_data"
    },
    {
     "data": {
      "application/vnd.jupyter.widget-view+json": {
       "model_id": "2e569cac08a74e1ea0923e5f7e2f093a",
       "version_major": 2,
       "version_minor": 0
      },
      "text/plain": [
       "  0%|          | 0/500 [00:00<?, ?it/s]"
      ]
     },
     "metadata": {},
     "output_type": "display_data"
    },
    {
     "data": {
      "application/vnd.jupyter.widget-view+json": {
       "model_id": "f8c134e23e8a4a3584fdbff31236634a",
       "version_major": 2,
       "version_minor": 0
      },
      "text/plain": [
       "  0%|          | 0/1000 [00:00<?, ?it/s]"
      ]
     },
     "metadata": {},
     "output_type": "display_data"
    },
    {
     "data": {
      "application/vnd.jupyter.widget-view+json": {
       "model_id": "28e1d0867eb84f2fbc7a5abc385e0382",
       "version_major": 2,
       "version_minor": 0
      },
      "text/plain": [
       "  0%|          | 0/1000 [00:00<?, ?it/s]"
      ]
     },
     "metadata": {},
     "output_type": "display_data"
    },
    {
     "data": {
      "application/vnd.jupyter.widget-view+json": {
       "model_id": "19b11be61a6d4bcf87a489dfac9e0671",
       "version_major": 2,
       "version_minor": 0
      },
      "text/plain": [
       "  0%|          | 0/1000 [00:00<?, ?it/s]"
      ]
     },
     "metadata": {},
     "output_type": "display_data"
    },
    {
     "data": {
      "application/vnd.jupyter.widget-view+json": {
       "model_id": "3e1ef6e907a04996b1b6bfcd9be9620b",
       "version_major": 2,
       "version_minor": 0
      },
      "text/plain": [
       "  0%|          | 0/1000 [00:00<?, ?it/s]"
      ]
     },
     "metadata": {},
     "output_type": "display_data"
    },
    {
     "data": {
      "application/vnd.jupyter.widget-view+json": {
       "model_id": "68d91e6393d9429cb3332dd8aa0e4e97",
       "version_major": 2,
       "version_minor": 0
      },
      "text/plain": [
       "  0%|          | 0/1000 [00:00<?, ?it/s]"
      ]
     },
     "metadata": {},
     "output_type": "display_data"
    },
    {
     "data": {
      "application/vnd.jupyter.widget-view+json": {
       "model_id": "6202fca331884dc59344e7f7955f22cd",
       "version_major": 2,
       "version_minor": 0
      },
      "text/plain": [
       "  0%|          | 0/1500 [00:00<?, ?it/s]"
      ]
     },
     "metadata": {},
     "output_type": "display_data"
    },
    {
     "data": {
      "application/vnd.jupyter.widget-view+json": {
       "model_id": "c5ccf6924e2d4b7b8bd22037505a4777",
       "version_major": 2,
       "version_minor": 0
      },
      "text/plain": [
       "  0%|          | 0/1500 [00:00<?, ?it/s]"
      ]
     },
     "metadata": {},
     "output_type": "display_data"
    },
    {
     "data": {
      "application/vnd.jupyter.widget-view+json": {
       "model_id": "9243d3acd401471db504444e1b10ee13",
       "version_major": 2,
       "version_minor": 0
      },
      "text/plain": [
       "  0%|          | 0/1500 [00:00<?, ?it/s]"
      ]
     },
     "metadata": {},
     "output_type": "display_data"
    },
    {
     "data": {
      "application/vnd.jupyter.widget-view+json": {
       "model_id": "1a954c4e43d44d0e8c0eebd22a04115e",
       "version_major": 2,
       "version_minor": 0
      },
      "text/plain": [
       "  0%|          | 0/1500 [00:00<?, ?it/s]"
      ]
     },
     "metadata": {},
     "output_type": "display_data"
    },
    {
     "data": {
      "application/vnd.jupyter.widget-view+json": {
       "model_id": "a2b1fe66e22046c184ca36b58d4ee73a",
       "version_major": 2,
       "version_minor": 0
      },
      "text/plain": [
       "  0%|          | 0/1500 [00:00<?, ?it/s]"
      ]
     },
     "metadata": {},
     "output_type": "display_data"
    },
    {
     "data": {
      "application/vnd.jupyter.widget-view+json": {
       "model_id": "5af60fb5322f4875ada83fad81886239",
       "version_major": 2,
       "version_minor": 0
      },
      "text/plain": [
       "  0%|          | 0/100 [00:00<?, ?it/s]"
      ]
     },
     "metadata": {},
     "output_type": "display_data"
    },
    {
     "data": {
      "application/vnd.jupyter.widget-view+json": {
       "model_id": "c3ff1828d3aa474bb3ea90acc18bce5d",
       "version_major": 2,
       "version_minor": 0
      },
      "text/plain": [
       "  0%|          | 0/100 [00:00<?, ?it/s]"
      ]
     },
     "metadata": {},
     "output_type": "display_data"
    },
    {
     "data": {
      "application/vnd.jupyter.widget-view+json": {
       "model_id": "013a53203f234acb8f6223e285dde713",
       "version_major": 2,
       "version_minor": 0
      },
      "text/plain": [
       "  0%|          | 0/100 [00:00<?, ?it/s]"
      ]
     },
     "metadata": {},
     "output_type": "display_data"
    },
    {
     "data": {
      "application/vnd.jupyter.widget-view+json": {
       "model_id": "a65d1253633c4e448a633258fde54a92",
       "version_major": 2,
       "version_minor": 0
      },
      "text/plain": [
       "  0%|          | 0/100 [00:00<?, ?it/s]"
      ]
     },
     "metadata": {},
     "output_type": "display_data"
    },
    {
     "data": {
      "application/vnd.jupyter.widget-view+json": {
       "model_id": "5003b3e620a945bba17cefc8542a2e24",
       "version_major": 2,
       "version_minor": 0
      },
      "text/plain": [
       "  0%|          | 0/100 [00:00<?, ?it/s]"
      ]
     },
     "metadata": {},
     "output_type": "display_data"
    },
    {
     "data": {
      "application/vnd.jupyter.widget-view+json": {
       "model_id": "26988ed4a1f7403bb78ff7f1979206d6",
       "version_major": 2,
       "version_minor": 0
      },
      "text/plain": [
       "  0%|          | 0/500 [00:00<?, ?it/s]"
      ]
     },
     "metadata": {},
     "output_type": "display_data"
    },
    {
     "data": {
      "application/vnd.jupyter.widget-view+json": {
       "model_id": "ae51715779ff41e08d667b3ad63ca608",
       "version_major": 2,
       "version_minor": 0
      },
      "text/plain": [
       "  0%|          | 0/500 [00:00<?, ?it/s]"
      ]
     },
     "metadata": {},
     "output_type": "display_data"
    },
    {
     "data": {
      "application/vnd.jupyter.widget-view+json": {
       "model_id": "8f2fa555e9ae412b8da5646e74ae8f58",
       "version_major": 2,
       "version_minor": 0
      },
      "text/plain": [
       "  0%|          | 0/500 [00:00<?, ?it/s]"
      ]
     },
     "metadata": {},
     "output_type": "display_data"
    },
    {
     "data": {
      "application/vnd.jupyter.widget-view+json": {
       "model_id": "f3f3d7edd95c4725a29217ab70d185f9",
       "version_major": 2,
       "version_minor": 0
      },
      "text/plain": [
       "  0%|          | 0/500 [00:00<?, ?it/s]"
      ]
     },
     "metadata": {},
     "output_type": "display_data"
    },
    {
     "data": {
      "application/vnd.jupyter.widget-view+json": {
       "model_id": "1a846652555e4c2fafb193d09081adc6",
       "version_major": 2,
       "version_minor": 0
      },
      "text/plain": [
       "  0%|          | 0/500 [00:00<?, ?it/s]"
      ]
     },
     "metadata": {},
     "output_type": "display_data"
    },
    {
     "data": {
      "application/vnd.jupyter.widget-view+json": {
       "model_id": "55e79ee3bfdd40da8c2ace8dc4964400",
       "version_major": 2,
       "version_minor": 0
      },
      "text/plain": [
       "  0%|          | 0/1000 [00:00<?, ?it/s]"
      ]
     },
     "metadata": {},
     "output_type": "display_data"
    },
    {
     "data": {
      "application/vnd.jupyter.widget-view+json": {
       "model_id": "71cb1924002b4727a675f5f7db07436e",
       "version_major": 2,
       "version_minor": 0
      },
      "text/plain": [
       "  0%|          | 0/1000 [00:00<?, ?it/s]"
      ]
     },
     "metadata": {},
     "output_type": "display_data"
    },
    {
     "data": {
      "application/vnd.jupyter.widget-view+json": {
       "model_id": "4e4d69764f294b39be46e0fe3378fa0e",
       "version_major": 2,
       "version_minor": 0
      },
      "text/plain": [
       "  0%|          | 0/1000 [00:00<?, ?it/s]"
      ]
     },
     "metadata": {},
     "output_type": "display_data"
    },
    {
     "data": {
      "application/vnd.jupyter.widget-view+json": {
       "model_id": "894569c1ccd749988934fbd264dae0b8",
       "version_major": 2,
       "version_minor": 0
      },
      "text/plain": [
       "  0%|          | 0/1000 [00:00<?, ?it/s]"
      ]
     },
     "metadata": {},
     "output_type": "display_data"
    },
    {
     "data": {
      "application/vnd.jupyter.widget-view+json": {
       "model_id": "fc9db1b8d44341a7925fe7012b5344f8",
       "version_major": 2,
       "version_minor": 0
      },
      "text/plain": [
       "  0%|          | 0/1000 [00:00<?, ?it/s]"
      ]
     },
     "metadata": {},
     "output_type": "display_data"
    },
    {
     "data": {
      "application/vnd.jupyter.widget-view+json": {
       "model_id": "0bfb2ee8baee45aeaae333f3137cf768",
       "version_major": 2,
       "version_minor": 0
      },
      "text/plain": [
       "  0%|          | 0/1500 [00:00<?, ?it/s]"
      ]
     },
     "metadata": {},
     "output_type": "display_data"
    },
    {
     "data": {
      "application/vnd.jupyter.widget-view+json": {
       "model_id": "d932ccf21bd843328fb7a94eac6c0a17",
       "version_major": 2,
       "version_minor": 0
      },
      "text/plain": [
       "  0%|          | 0/1500 [00:00<?, ?it/s]"
      ]
     },
     "metadata": {},
     "output_type": "display_data"
    },
    {
     "data": {
      "application/vnd.jupyter.widget-view+json": {
       "model_id": "d648e15eb08c4e5d9682540230925a11",
       "version_major": 2,
       "version_minor": 0
      },
      "text/plain": [
       "  0%|          | 0/1500 [00:00<?, ?it/s]"
      ]
     },
     "metadata": {},
     "output_type": "display_data"
    },
    {
     "data": {
      "application/vnd.jupyter.widget-view+json": {
       "model_id": "de5c85b7915f4ac1a19cf1bfdb6ea6ab",
       "version_major": 2,
       "version_minor": 0
      },
      "text/plain": [
       "  0%|          | 0/1500 [00:00<?, ?it/s]"
      ]
     },
     "metadata": {},
     "output_type": "display_data"
    },
    {
     "data": {
      "application/vnd.jupyter.widget-view+json": {
       "model_id": "f85d3257b4b244118a66d4b71908783e",
       "version_major": 2,
       "version_minor": 0
      },
      "text/plain": [
       "  0%|          | 0/1500 [00:00<?, ?it/s]"
      ]
     },
     "metadata": {},
     "output_type": "display_data"
    },
    {
     "data": {
      "application/vnd.jupyter.widget-view+json": {
       "model_id": "6a0609142a6f4f74a91cac68c402f30c",
       "version_major": 2,
       "version_minor": 0
      },
      "text/plain": [
       "  0%|          | 0/100 [00:00<?, ?it/s]"
      ]
     },
     "metadata": {},
     "output_type": "display_data"
    },
    {
     "data": {
      "application/vnd.jupyter.widget-view+json": {
       "model_id": "4364cabfc98a42e58e33d87677763447",
       "version_major": 2,
       "version_minor": 0
      },
      "text/plain": [
       "  0%|          | 0/100 [00:00<?, ?it/s]"
      ]
     },
     "metadata": {},
     "output_type": "display_data"
    },
    {
     "data": {
      "application/vnd.jupyter.widget-view+json": {
       "model_id": "80b4a6338837496da3066c291216e2ce",
       "version_major": 2,
       "version_minor": 0
      },
      "text/plain": [
       "  0%|          | 0/100 [00:00<?, ?it/s]"
      ]
     },
     "metadata": {},
     "output_type": "display_data"
    },
    {
     "data": {
      "application/vnd.jupyter.widget-view+json": {
       "model_id": "ac1afb7bbb094bc0bcade131370df140",
       "version_major": 2,
       "version_minor": 0
      },
      "text/plain": [
       "  0%|          | 0/100 [00:00<?, ?it/s]"
      ]
     },
     "metadata": {},
     "output_type": "display_data"
    },
    {
     "data": {
      "application/vnd.jupyter.widget-view+json": {
       "model_id": "f4ca188398834d15ad284066b9d44efc",
       "version_major": 2,
       "version_minor": 0
      },
      "text/plain": [
       "  0%|          | 0/100 [00:00<?, ?it/s]"
      ]
     },
     "metadata": {},
     "output_type": "display_data"
    },
    {
     "data": {
      "application/vnd.jupyter.widget-view+json": {
       "model_id": "38b59002835c4b7790662780c0818438",
       "version_major": 2,
       "version_minor": 0
      },
      "text/plain": [
       "  0%|          | 0/500 [00:00<?, ?it/s]"
      ]
     },
     "metadata": {},
     "output_type": "display_data"
    },
    {
     "data": {
      "application/vnd.jupyter.widget-view+json": {
       "model_id": "b76f298e86eb41c9859e26132db3a838",
       "version_major": 2,
       "version_minor": 0
      },
      "text/plain": [
       "  0%|          | 0/500 [00:00<?, ?it/s]"
      ]
     },
     "metadata": {},
     "output_type": "display_data"
    },
    {
     "data": {
      "application/vnd.jupyter.widget-view+json": {
       "model_id": "f76177f9beab4a0b8d7d746fa4eadaf5",
       "version_major": 2,
       "version_minor": 0
      },
      "text/plain": [
       "  0%|          | 0/500 [00:00<?, ?it/s]"
      ]
     },
     "metadata": {},
     "output_type": "display_data"
    },
    {
     "data": {
      "application/vnd.jupyter.widget-view+json": {
       "model_id": "a3357e0ced374f9f9f13c5cf67dc6fd5",
       "version_major": 2,
       "version_minor": 0
      },
      "text/plain": [
       "  0%|          | 0/500 [00:00<?, ?it/s]"
      ]
     },
     "metadata": {},
     "output_type": "display_data"
    },
    {
     "data": {
      "application/vnd.jupyter.widget-view+json": {
       "model_id": "9a02435b5b9f4621b377d2ae410de06f",
       "version_major": 2,
       "version_minor": 0
      },
      "text/plain": [
       "  0%|          | 0/500 [00:00<?, ?it/s]"
      ]
     },
     "metadata": {},
     "output_type": "display_data"
    },
    {
     "data": {
      "application/vnd.jupyter.widget-view+json": {
       "model_id": "954f231c35b74a0e8ebfab48365e560d",
       "version_major": 2,
       "version_minor": 0
      },
      "text/plain": [
       "  0%|          | 0/1000 [00:00<?, ?it/s]"
      ]
     },
     "metadata": {},
     "output_type": "display_data"
    },
    {
     "data": {
      "application/vnd.jupyter.widget-view+json": {
       "model_id": "2a604d9490cb47c3b3c1ea123a83c085",
       "version_major": 2,
       "version_minor": 0
      },
      "text/plain": [
       "  0%|          | 0/1000 [00:00<?, ?it/s]"
      ]
     },
     "metadata": {},
     "output_type": "display_data"
    },
    {
     "data": {
      "application/vnd.jupyter.widget-view+json": {
       "model_id": "b386c5b15c334ac19d81e59a7b546830",
       "version_major": 2,
       "version_minor": 0
      },
      "text/plain": [
       "  0%|          | 0/1000 [00:00<?, ?it/s]"
      ]
     },
     "metadata": {},
     "output_type": "display_data"
    },
    {
     "data": {
      "application/vnd.jupyter.widget-view+json": {
       "model_id": "0cf3d25acdae45caaab89d846c1936c4",
       "version_major": 2,
       "version_minor": 0
      },
      "text/plain": [
       "  0%|          | 0/1000 [00:00<?, ?it/s]"
      ]
     },
     "metadata": {},
     "output_type": "display_data"
    },
    {
     "data": {
      "application/vnd.jupyter.widget-view+json": {
       "model_id": "5dd5f9e76da044d8b896a66d5da05e64",
       "version_major": 2,
       "version_minor": 0
      },
      "text/plain": [
       "  0%|          | 0/1000 [00:00<?, ?it/s]"
      ]
     },
     "metadata": {},
     "output_type": "display_data"
    },
    {
     "data": {
      "application/vnd.jupyter.widget-view+json": {
       "model_id": "a27ca9ca60dc43a9a7bbecfd84cecd0f",
       "version_major": 2,
       "version_minor": 0
      },
      "text/plain": [
       "  0%|          | 0/1500 [00:00<?, ?it/s]"
      ]
     },
     "metadata": {},
     "output_type": "display_data"
    },
    {
     "data": {
      "application/vnd.jupyter.widget-view+json": {
       "model_id": "cb6c5f55e04241e98ad395bcc08a75ed",
       "version_major": 2,
       "version_minor": 0
      },
      "text/plain": [
       "  0%|          | 0/1500 [00:00<?, ?it/s]"
      ]
     },
     "metadata": {},
     "output_type": "display_data"
    },
    {
     "data": {
      "application/vnd.jupyter.widget-view+json": {
       "model_id": "5af6b77c012441da9497886cf8a6a759",
       "version_major": 2,
       "version_minor": 0
      },
      "text/plain": [
       "  0%|          | 0/1500 [00:00<?, ?it/s]"
      ]
     },
     "metadata": {},
     "output_type": "display_data"
    },
    {
     "data": {
      "application/vnd.jupyter.widget-view+json": {
       "model_id": "f6020a7e72f042059226c774d649a08f",
       "version_major": 2,
       "version_minor": 0
      },
      "text/plain": [
       "  0%|          | 0/1500 [00:00<?, ?it/s]"
      ]
     },
     "metadata": {},
     "output_type": "display_data"
    },
    {
     "data": {
      "application/vnd.jupyter.widget-view+json": {
       "model_id": "747631eda9fa4a069e31df707d53e68c",
       "version_major": 2,
       "version_minor": 0
      },
      "text/plain": [
       "  0%|          | 0/1500 [00:00<?, ?it/s]"
      ]
     },
     "metadata": {},
     "output_type": "display_data"
    },
    {
     "name": "stdout",
     "output_type": "stream",
     "text": [
      "best params: dim = 4096, num_iters = 1500, k = 50\n"
     ]
    }
   ],
   "source": [
    "for dim in [12, 32, 64, 128, 1000, 1024, 2048, 4096]:\n",
    "    for iteration in [100, 500, 1000, 1500]:\n",
    "        for k_glob in [10, 20, 30, 40, 50, 60]:\n",
    "            model = HiddenVars(train_ratings, dim=dim, mode = 'sgd')\n",
    "\n",
    "            model.fit(iteration)\n",
    "            recs = model.get_test_recommendations(k_glob)\n",
    "            best_mapk = 0\n",
    "            for k in range(1, k_glob + 1):\n",
    "                mapk_i = mapk(test_relevant, recs, k)\n",
    "                if mapk_i > best_mapk:\n",
    "                    best_mapk = mapk_i\n",
    "                    best_dim = dim\n",
    "                    best_iter = iteration\n",
    "            best_k = k_glob\n",
    "print(f'best params: dim = {best_dim}, num_iters = {best_iter}, k = {best_k}')"
   ]
  },
  {
   "cell_type": "code",
   "execution_count": 136,
   "id": "8892d13a",
   "metadata": {
    "scrolled": true
   },
   "outputs": [
    {
     "data": {
      "application/vnd.jupyter.widget-view+json": {
       "model_id": "57e7de4ce10e45beb4ccaf72014f78ad",
       "version_major": 2,
       "version_minor": 0
      },
      "text/plain": [
       "  0%|          | 0/500 [00:00<?, ?it/s]"
      ]
     },
     "metadata": {},
     "output_type": "display_data"
    },
    {
     "data": {
      "application/vnd.jupyter.widget-view+json": {
       "model_id": "56ea3f72866e410f9f21d79ae96726ad",
       "version_major": 2,
       "version_minor": 0
      },
      "text/plain": [
       "  0%|          | 0/1000 [00:00<?, ?it/s]"
      ]
     },
     "metadata": {},
     "output_type": "display_data"
    },
    {
     "data": {
      "application/vnd.jupyter.widget-view+json": {
       "model_id": "4b6d98e60b8144509fe6fc422b18c726",
       "version_major": 2,
       "version_minor": 0
      },
      "text/plain": [
       "  0%|          | 0/1500 [00:00<?, ?it/s]"
      ]
     },
     "metadata": {},
     "output_type": "display_data"
    },
    {
     "data": {
      "application/vnd.jupyter.widget-view+json": {
       "model_id": "223188ca15b54f03810abd3b1f90f814",
       "version_major": 2,
       "version_minor": 0
      },
      "text/plain": [
       "  0%|          | 0/500 [00:00<?, ?it/s]"
      ]
     },
     "metadata": {},
     "output_type": "display_data"
    },
    {
     "data": {
      "application/vnd.jupyter.widget-view+json": {
       "model_id": "8889a42936974b1bb62fd47648dc3d13",
       "version_major": 2,
       "version_minor": 0
      },
      "text/plain": [
       "  0%|          | 0/1000 [00:00<?, ?it/s]"
      ]
     },
     "metadata": {},
     "output_type": "display_data"
    },
    {
     "ename": "KeyboardInterrupt",
     "evalue": "",
     "output_type": "error",
     "traceback": [
      "\u001b[0;31m---------------------------------------------------------------------------\u001b[0m",
      "\u001b[0;31mKeyboardInterrupt\u001b[0m                         Traceback (most recent call last)",
      "Input \u001b[0;32mIn [136]\u001b[0m, in \u001b[0;36m<cell line: 1>\u001b[0;34m()\u001b[0m\n\u001b[1;32m      3\u001b[0m model \u001b[38;5;241m=\u001b[39m HiddenVars(train_ratings, dim\u001b[38;5;241m=\u001b[39mdim, mode \u001b[38;5;241m=\u001b[39m \u001b[38;5;124m'\u001b[39m\u001b[38;5;124mals\u001b[39m\u001b[38;5;124m'\u001b[39m)\n\u001b[1;32m      5\u001b[0m model\u001b[38;5;241m.\u001b[39mfit(iteration)\n\u001b[0;32m----> 6\u001b[0m recs \u001b[38;5;241m=\u001b[39m \u001b[43mmodel\u001b[49m\u001b[38;5;241;43m.\u001b[39;49m\u001b[43mget_test_recommendations\u001b[49m\u001b[43m(\u001b[49m\u001b[38;5;241;43m50\u001b[39;49m\u001b[43m)\u001b[49m\n\u001b[1;32m      7\u001b[0m best_mapk \u001b[38;5;241m=\u001b[39m \u001b[38;5;241m0\u001b[39m\n\u001b[1;32m      9\u001b[0m mapk_i \u001b[38;5;241m=\u001b[39m mapk(test_relevant, recs, \u001b[38;5;241m50\u001b[39m)\n",
      "Input \u001b[0;32mIn [81]\u001b[0m, in \u001b[0;36mBaseModel.get_test_recommendations\u001b[0;34m(self, k)\u001b[0m\n\u001b[1;32m     33\u001b[0m \u001b[38;5;66;03m# your code here: (￣▽￣)/♫•*¨*•.¸¸♪\u001b[39;00m\n\u001b[1;32m     34\u001b[0m \u001b[38;5;28;01mfor\u001b[39;00m uid \u001b[38;5;129;01min\u001b[39;00m \u001b[38;5;28mrange\u001b[39m(\u001b[38;5;28mself\u001b[39m\u001b[38;5;241m.\u001b[39mn_users):\n\u001b[0;32m---> 35\u001b[0m     test_preds \u001b[38;5;241m+\u001b[39m\u001b[38;5;241m=\u001b[39m [\u001b[38;5;28;43mself\u001b[39;49m\u001b[38;5;241;43m.\u001b[39;49m\u001b[43mrecommend\u001b[49m\u001b[43m(\u001b[49m\u001b[43muid\u001b[49m\u001b[43m)\u001b[49m]\n\u001b[1;32m     36\u001b[0m test_preds \u001b[38;5;241m=\u001b[39m \u001b[38;5;28mself\u001b[39m\u001b[38;5;241m.\u001b[39mremove_train_items(test_preds, k)\n\u001b[1;32m     38\u001b[0m \u001b[38;5;28;01mreturn\u001b[39;00m test_preds[test_users]\n",
      "Input \u001b[0;32mIn [107]\u001b[0m, in \u001b[0;36mHiddenVars.recommend\u001b[0;34m(self, uid)\u001b[0m\n\u001b[1;32m     31\u001b[0m \u001b[38;5;28;01mdef\u001b[39;00m \u001b[38;5;21mrecommend\u001b[39m(\u001b[38;5;28mself\u001b[39m, uid):\n\u001b[1;32m     32\u001b[0m     pred_rating \u001b[38;5;241m=\u001b[39m \u001b[38;5;28mself\u001b[39m\u001b[38;5;241m.\u001b[39mQ\u001b[38;5;241m.\u001b[39mT \u001b[38;5;241m@\u001b[39m \u001b[38;5;28mself\u001b[39m\u001b[38;5;241m.\u001b[39mP[:, uid]\n\u001b[0;32m---> 34\u001b[0m     \u001b[38;5;28;01mreturn\u001b[39;00m \u001b[43mnp\u001b[49m\u001b[38;5;241;43m.\u001b[39;49m\u001b[43margsort\u001b[49m\u001b[43m(\u001b[49m\u001b[43mpred_rating\u001b[49m\u001b[43m)\u001b[49m[::\u001b[38;5;241m-\u001b[39m\u001b[38;5;241m1\u001b[39m]\n",
      "File \u001b[0;32m<__array_function__ internals>:5\u001b[0m, in \u001b[0;36margsort\u001b[0;34m(*args, **kwargs)\u001b[0m\n",
      "File \u001b[0;32m~/opt/anaconda3/lib/python3.9/site-packages/numpy/core/fromnumeric.py:1114\u001b[0m, in \u001b[0;36margsort\u001b[0;34m(a, axis, kind, order)\u001b[0m\n\u001b[1;32m   1006\u001b[0m \u001b[38;5;129m@array_function_dispatch\u001b[39m(_argsort_dispatcher)\n\u001b[1;32m   1007\u001b[0m \u001b[38;5;28;01mdef\u001b[39;00m \u001b[38;5;21margsort\u001b[39m(a, axis\u001b[38;5;241m=\u001b[39m\u001b[38;5;241m-\u001b[39m\u001b[38;5;241m1\u001b[39m, kind\u001b[38;5;241m=\u001b[39m\u001b[38;5;28;01mNone\u001b[39;00m, order\u001b[38;5;241m=\u001b[39m\u001b[38;5;28;01mNone\u001b[39;00m):\n\u001b[1;32m   1008\u001b[0m     \u001b[38;5;124;03m\"\"\"\u001b[39;00m\n\u001b[1;32m   1009\u001b[0m \u001b[38;5;124;03m    Returns the indices that would sort an array.\u001b[39;00m\n\u001b[1;32m   1010\u001b[0m \n\u001b[0;32m   (...)\u001b[0m\n\u001b[1;32m   1112\u001b[0m \n\u001b[1;32m   1113\u001b[0m \u001b[38;5;124;03m    \"\"\"\u001b[39;00m\n\u001b[0;32m-> 1114\u001b[0m     \u001b[38;5;28;01mreturn\u001b[39;00m \u001b[43m_wrapfunc\u001b[49m\u001b[43m(\u001b[49m\u001b[43ma\u001b[49m\u001b[43m,\u001b[49m\u001b[43m \u001b[49m\u001b[38;5;124;43m'\u001b[39;49m\u001b[38;5;124;43margsort\u001b[39;49m\u001b[38;5;124;43m'\u001b[39;49m\u001b[43m,\u001b[49m\u001b[43m \u001b[49m\u001b[43maxis\u001b[49m\u001b[38;5;241;43m=\u001b[39;49m\u001b[43maxis\u001b[49m\u001b[43m,\u001b[49m\u001b[43m \u001b[49m\u001b[43mkind\u001b[49m\u001b[38;5;241;43m=\u001b[39;49m\u001b[43mkind\u001b[49m\u001b[43m,\u001b[49m\u001b[43m \u001b[49m\u001b[43morder\u001b[49m\u001b[38;5;241;43m=\u001b[39;49m\u001b[43morder\u001b[49m\u001b[43m)\u001b[49m\n",
      "File \u001b[0;32m~/opt/anaconda3/lib/python3.9/site-packages/numpy/core/fromnumeric.py:57\u001b[0m, in \u001b[0;36m_wrapfunc\u001b[0;34m(obj, method, *args, **kwds)\u001b[0m\n\u001b[1;32m     54\u001b[0m     \u001b[38;5;28;01mreturn\u001b[39;00m _wrapit(obj, method, \u001b[38;5;241m*\u001b[39margs, \u001b[38;5;241m*\u001b[39m\u001b[38;5;241m*\u001b[39mkwds)\n\u001b[1;32m     56\u001b[0m \u001b[38;5;28;01mtry\u001b[39;00m:\n\u001b[0;32m---> 57\u001b[0m     \u001b[38;5;28;01mreturn\u001b[39;00m \u001b[43mbound\u001b[49m\u001b[43m(\u001b[49m\u001b[38;5;241;43m*\u001b[39;49m\u001b[43margs\u001b[49m\u001b[43m,\u001b[49m\u001b[43m \u001b[49m\u001b[38;5;241;43m*\u001b[39;49m\u001b[38;5;241;43m*\u001b[39;49m\u001b[43mkwds\u001b[49m\u001b[43m)\u001b[49m\n\u001b[1;32m     58\u001b[0m \u001b[38;5;28;01mexcept\u001b[39;00m \u001b[38;5;167;01mTypeError\u001b[39;00m:\n\u001b[1;32m     59\u001b[0m     \u001b[38;5;66;03m# A TypeError occurs if the object does have such a method in its\u001b[39;00m\n\u001b[1;32m     60\u001b[0m     \u001b[38;5;66;03m# class, but its signature is not identical to that of NumPy's. This\u001b[39;00m\n\u001b[0;32m   (...)\u001b[0m\n\u001b[1;32m     64\u001b[0m     \u001b[38;5;66;03m# Call _wrapit from within the except clause to ensure a potential\u001b[39;00m\n\u001b[1;32m     65\u001b[0m     \u001b[38;5;66;03m# exception has a traceback chain.\u001b[39;00m\n\u001b[1;32m     66\u001b[0m     \u001b[38;5;28;01mreturn\u001b[39;00m _wrapit(obj, method, \u001b[38;5;241m*\u001b[39margs, \u001b[38;5;241m*\u001b[39m\u001b[38;5;241m*\u001b[39mkwds)\n",
      "\u001b[0;31mKeyboardInterrupt\u001b[0m: "
     ]
    }
   ],
   "source": [
    "for dim in [128, 564, 1024]:\n",
    "    for iteration in [500, 1000, 1500]:\n",
    "        model = HiddenVars(train_ratings, dim=dim, mode = 'als')\n",
    "\n",
    "        model.fit(iteration)\n",
    "        recs = model.get_test_recommendations(50)\n",
    "        best_mapk = 0\n",
    "        \n",
    "        mapk_i = mapk(test_relevant, recs, 50)\n",
    "        if mapk_i > best_mapk:\n",
    "            best_mapk = mapk_i\n",
    "            best_dim = dim\n",
    "            best_iter = iteration\n"
   ]
  },
  {
   "cell_type": "code",
   "execution_count": 137,
   "id": "83862074",
   "metadata": {},
   "outputs": [
    {
     "name": "stdout",
     "output_type": "stream",
     "text": [
      "best params: dim = 564, num_iters = 500\n"
     ]
    }
   ],
   "source": [
    "print(f'best params: dim = {best_dim}, num_iters = {best_iter}')"
   ]
  },
  {
   "cell_type": "code",
   "execution_count": 138,
   "id": "17520bc7",
   "metadata": {},
   "outputs": [
    {
     "data": {
      "application/vnd.jupyter.widget-view+json": {
       "model_id": "69fd8b7b856b4a4cb8f856b7286d9b99",
       "version_major": 2,
       "version_minor": 0
      },
      "text/plain": [
       "  0%|          | 0/1500 [00:00<?, ?it/s]"
      ]
     },
     "metadata": {},
     "output_type": "display_data"
    },
    {
     "data": {
      "application/vnd.jupyter.widget-view+json": {
       "model_id": "e281e025ce5e452e8e2427e486e624ca",
       "version_major": 2,
       "version_minor": 0
      },
      "text/plain": [
       "  0%|          | 0/500 [00:00<?, ?it/s]"
      ]
     },
     "metadata": {},
     "output_type": "display_data"
    }
   ],
   "source": [
    "model_sgd = HiddenVars(train_ratings, dim=4096, mode = 'sgd')\n",
    "model_sgd.fit(1500)\n",
    "model_als = HiddenVars(train_ratings, dim=564, mode = 'als')\n",
    "model_als.fit(500)"
   ]
  },
  {
   "cell_type": "code",
   "execution_count": 139,
   "id": "40b59cd2",
   "metadata": {},
   "outputs": [],
   "source": [
    "rec_sgd = model_sgd.get_test_recommendations(50)\n",
    "rec_als = model_als.get_test_recommendations(50)"
   ]
  },
  {
   "cell_type": "code",
   "execution_count": 140,
   "id": "477e157e",
   "metadata": {},
   "outputs": [
    {
     "data": {
      "image/png": "[encoded data removed]",
      "text/plain": [
       "<Figure size 432x288 with 1 Axes>"
      ]
     },
     "metadata": {
      "needs_background": "light"
     },
     "output_type": "display_data"
    }
   ],
   "source": [
    "range_k = range(1, 50 + 1)\n",
    "plt.plot(range_k, list(mapk(test_relevant, rec_jaccard, k) for k in range_k), label='Jaccard')\n",
    "plt.plot(range_k, list(mapk(test_relevant, rec_pearson, k) for k in range_k), label='Pearson')\n",
    "plt.plot(range_k, list(mapk(test_relevant, rec_random, k) for k in range_k), label='Random')\n",
    "plt.plot(range_k, list(mapk(test_relevant, rec_als, k) for k in range_k), label='ALS')\n",
    "plt.plot(range_k, list(mapk(test_relevant, rec_sgd, k) for k in range_k), label='SGD')\n",
    "plt.ylabel('Map@k')\n",
    "plt.xlabel('k')\n",
    "plt.legend()\n",
    "plt.title('User 2 user recomendations')\n",
    "plt.show()"
   ]
  },
  {
   "cell_type": "markdown",
   "id": "1a5a3b20",
   "metadata": {},
   "source": [
    "Таким образом, после отдельного подбора гиперпараметров для каждой модели лучшим алгоритмом на небольшом k является ALS, он выдает наибольшее МАР и лучше всего подстраивается под данные. Также большее количество итераций позволяет выдавать более подходящие рекомендации. "
   ]
  },
  {
   "cell_type": "markdown",
   "id": "Gx4EMj0HwVlR",
   "metadata": {
    "id": "Gx4EMj0HwVlR"
   },
   "source": [
    "Если у вас получилось достаточно хорошее качество, то при оптимизации параметров марицы $Q$ похожим трекам стали соответствовать похожие векторы. Поэтому мы можем для любого трека найти наиболее близкие к нему в латентном пространстве и проверить степерь обученности модели вручную."
   ]
  },
  {
   "cell_type": "code",
   "execution_count": 141,
   "id": "48f1c813",
   "metadata": {},
   "outputs": [],
   "source": [
    "model = model_als"
   ]
  },
  {
   "cell_type": "code",
   "execution_count": 142,
   "id": "VFYy92Ls-53S",
   "metadata": {
    "id": "VFYy92Ls-53S"
   },
   "outputs": [],
   "source": [
    "example_trackId = tracks_info[tracks_info.name == 'Выхода нет'].iloc[0].id\n",
    "\n",
    "preds = model.Q.T @ model.Q[:, example_trackId]\n",
    "preds = preds / np.sqrt((model.Q**2).sum(axis=0) + 1e-8)\n",
    "\n",
    "track_idxs = preds.argsort()[::-1][:20]"
   ]
  },
  {
   "cell_type": "code",
   "execution_count": 143,
   "id": "DzewG5rw5SQo",
   "metadata": {
    "colab": {
     "base_uri": "https://localhost:8080/",
     "height": 669
    },
    "id": "DzewG5rw5SQo",
    "outputId": "b49d9730-dab4-451a-943f-b26f2e4f4a23",
    "scrolled": false
   },
   "outputs": [
    {
     "data": {
      "text/html": [
       "<div>\n",
       "<style scoped>\n",
       "    .dataframe tbody tr th:only-of-type {\n",
       "        vertical-align: middle;\n",
       "    }\n",
       "\n",
       "    .dataframe tbody tr th {\n",
       "        vertical-align: top;\n",
       "    }\n",
       "\n",
       "    .dataframe thead th {\n",
       "        text-align: right;\n",
       "    }\n",
       "</style>\n",
       "<table border=\"1\" class=\"dataframe\">\n",
       "  <thead>\n",
       "    <tr style=\"text-align: right;\">\n",
       "      <th></th>\n",
       "      <th>name</th>\n",
       "      <th>artists</th>\n",
       "      <th>similarity</th>\n",
       "    </tr>\n",
       "  </thead>\n",
       "  <tbody>\n",
       "    <tr>\n",
       "      <th>5512</th>\n",
       "      <td>Выхода нет</td>\n",
       "      <td>['Сплин']</td>\n",
       "      <td>1.000000</td>\n",
       "    </tr>\n",
       "    <tr>\n",
       "      <th>2058</th>\n",
       "      <td>Последний герой</td>\n",
       "      <td>['КИНО']</td>\n",
       "      <td>0.568395</td>\n",
       "    </tr>\n",
       "    <tr>\n",
       "      <th>5515</th>\n",
       "      <td>Романс</td>\n",
       "      <td>['Сплин']</td>\n",
       "      <td>0.505726</td>\n",
       "    </tr>\n",
       "    <tr>\n",
       "      <th>17328</th>\n",
       "      <td>Я хочу быть с тобой</td>\n",
       "      <td>['Nautilus Pompilius']</td>\n",
       "      <td>0.486872</td>\n",
       "    </tr>\n",
       "    <tr>\n",
       "      <th>17331</th>\n",
       "      <td>Последнее письмо (Гудбай, Америка)</td>\n",
       "      <td>['Nautilus Pompilius']</td>\n",
       "      <td>0.478669</td>\n",
       "    </tr>\n",
       "    <tr>\n",
       "      <th>2179</th>\n",
       "      <td>Восьмиклассница</td>\n",
       "      <td>['КИНО']</td>\n",
       "      <td>0.447108</td>\n",
       "    </tr>\n",
       "    <tr>\n",
       "      <th>26075</th>\n",
       "      <td>Лошадка</td>\n",
       "      <td>['Найк Борзов']</td>\n",
       "      <td>0.445331</td>\n",
       "    </tr>\n",
       "    <tr>\n",
       "      <th>5153</th>\n",
       "      <td>Stormbringer</td>\n",
       "      <td>['Deep Purple']</td>\n",
       "      <td>0.441359</td>\n",
       "    </tr>\n",
       "    <tr>\n",
       "      <th>9689</th>\n",
       "      <td>Bicycle Race</td>\n",
       "      <td>['Queen']</td>\n",
       "      <td>0.441359</td>\n",
       "    </tr>\n",
       "    <tr>\n",
       "      <th>16637</th>\n",
       "      <td>Zodiac</td>\n",
       "      <td>['Zodiac']</td>\n",
       "      <td>0.441359</td>\n",
       "    </tr>\n",
       "    <tr>\n",
       "      <th>13263</th>\n",
       "      <td>Мусорный ветер</td>\n",
       "      <td>['Крематорий']</td>\n",
       "      <td>0.439790</td>\n",
       "    </tr>\n",
       "    <tr>\n",
       "      <th>13264</th>\n",
       "      <td>Безобразная Эльза</td>\n",
       "      <td>['Крематорий']</td>\n",
       "      <td>0.439790</td>\n",
       "    </tr>\n",
       "    <tr>\n",
       "      <th>17061</th>\n",
       "      <td>Катастрофически</td>\n",
       "      <td>['Ночные Снайперы']</td>\n",
       "      <td>0.438722</td>\n",
       "    </tr>\n",
       "    <tr>\n",
       "      <th>10282</th>\n",
       "      <td>Владивосток 2000</td>\n",
       "      <td>['Мумий Тролль']</td>\n",
       "      <td>0.433658</td>\n",
       "    </tr>\n",
       "    <tr>\n",
       "      <th>5517</th>\n",
       "      <td>Варвара</td>\n",
       "      <td>['Би-2']</td>\n",
       "      <td>0.430890</td>\n",
       "    </tr>\n",
       "    <tr>\n",
       "      <th>9444</th>\n",
       "      <td>Ветер</td>\n",
       "      <td>['ДДТ']</td>\n",
       "      <td>0.430821</td>\n",
       "    </tr>\n",
       "    <tr>\n",
       "      <th>15271</th>\n",
       "      <td>Маршруты московские</td>\n",
       "      <td>['Ва-Банкъ']</td>\n",
       "      <td>0.427284</td>\n",
       "    </tr>\n",
       "    <tr>\n",
       "      <th>19118</th>\n",
       "      <td>Не спеши</td>\n",
       "      <td>['ЧайФ']</td>\n",
       "      <td>0.427284</td>\n",
       "    </tr>\n",
       "    <tr>\n",
       "      <th>5792</th>\n",
       "      <td>Зачем топтать мою любовь (З.Т.М.Л.)</td>\n",
       "      <td>['Смысловые Галлюцинации']</td>\n",
       "      <td>0.399420</td>\n",
       "    </tr>\n",
       "    <tr>\n",
       "      <th>16224</th>\n",
       "      <td>Пока горит свеча</td>\n",
       "      <td>['Машина времени']</td>\n",
       "      <td>0.393946</td>\n",
       "    </tr>\n",
       "  </tbody>\n",
       "</table>\n",
       "</div>"
      ],
      "text/plain": [
       "                                      name                     artists  \\\n",
       "5512                            Выхода нет                   ['Сплин']   \n",
       "2058                       Последний герой                    ['КИНО']   \n",
       "5515                                Романс                   ['Сплин']   \n",
       "17328                  Я хочу быть с тобой      ['Nautilus Pompilius']   \n",
       "17331   Последнее письмо (Гудбай, Америка)      ['Nautilus Pompilius']   \n",
       "2179                       Восьмиклассница                    ['КИНО']   \n",
       "26075                              Лошадка             ['Найк Борзов']   \n",
       "5153                          Stormbringer             ['Deep Purple']   \n",
       "9689                          Bicycle Race                   ['Queen']   \n",
       "16637                               Zodiac                  ['Zodiac']   \n",
       "13263                       Мусорный ветер              ['Крематорий']   \n",
       "13264                    Безобразная Эльза              ['Крематорий']   \n",
       "17061                      Катастрофически         ['Ночные Снайперы']   \n",
       "10282                     Владивосток 2000            ['Мумий Тролль']   \n",
       "5517                               Варвара                    ['Би-2']   \n",
       "9444                                 Ветер                     ['ДДТ']   \n",
       "15271                  Маршруты московские                ['Ва-Банкъ']   \n",
       "19118                             Не спеши                    ['ЧайФ']   \n",
       "5792   Зачем топтать мою любовь (З.Т.М.Л.)  ['Смысловые Галлюцинации']   \n",
       "16224                     Пока горит свеча          ['Машина времени']   \n",
       "\n",
       "       similarity  \n",
       "5512     1.000000  \n",
       "2058     0.568395  \n",
       "5515     0.505726  \n",
       "17328    0.486872  \n",
       "17331    0.478669  \n",
       "2179     0.447108  \n",
       "26075    0.445331  \n",
       "5153     0.441359  \n",
       "9689     0.441359  \n",
       "16637    0.441359  \n",
       "13263    0.439790  \n",
       "13264    0.439790  \n",
       "17061    0.438722  \n",
       "10282    0.433658  \n",
       "5517     0.430890  \n",
       "9444     0.430821  \n",
       "15271    0.427284  \n",
       "19118    0.427284  \n",
       "5792     0.399420  \n",
       "16224    0.393946  "
      ]
     },
     "execution_count": 143,
     "metadata": {},
     "output_type": "execute_result"
    }
   ],
   "source": [
    "similar_tracks = tracks_info.loc[track_idxs][['name', 'artists']]\n",
    "similar_tracks['similarity'] = preds[track_idxs] / np.linalg.norm(model.Q[:, example_trackId])\n",
    "similar_tracks"
   ]
  }
 ],
 "metadata": {
  "colab": {
   "collapsed_sections": [],
   "name": "Копия блокнота \"recommendations_hw_solved.ipynb\"",
   "provenance": []
  },
  "kernelspec": {
   "display_name": "Python 3 (ipykernel)",
   "language": "python",
   "name": "python3"
  },
  "language_info": {
   "codemirror_mode": {
    "name": "ipython",
    "version": 3
   },
   "file_extension": ".py",
   "mimetype": "text/x-python",
   "name": "python",
   "nbconvert_exporter": "python",
   "pygments_lexer": "ipython3",
   "version": "3.9.12"
  },
  "widgets": {
   "application/vnd.jupyter.widget-state+json": {
    "09367b7a291f4c81a93f79ac3bf09e9b": {
     "model_module": "@jupyter-widgets/controls",
     "model_module_version": "1.5.0",
     "model_name": "HTMLModel",
     "state": {
      "_dom_classes": [],
      "_model_module": "@jupyter-widgets/controls",
      "_model_module_version": "1.5.0",
      "_model_name": "HTMLModel",
      "_view_count": null,
      "_view_module": "@jupyter-widgets/controls",
      "_view_module_version": "1.5.0",
      "_view_name": "HTMLView",
      "description": "",
      "description_tooltip": null,
      "layout": "IPY_MODEL_57bc2e2902994e799d4378888bdb342a",
      "placeholder": "​",
      "style": "IPY_MODEL_4631243cc4dd4d1a8e3ffe3a8da29cf7",
      "value": "100%"
     }
    },
    "0b2d687ab70343a999f3a37dfe030a9c": {
     "model_module": "@jupyter-widgets/base",
     "model_module_version": "1.2.0",
     "model_name": "LayoutModel",
     "state": {
      "_model_module": "@jupyter-widgets/base",
      "_model_module_version": "1.2.0",
      "_model_name": "LayoutModel",
      "_view_count": null,
      "_view_module": "@jupyter-widgets/base",
      "_view_module_version": "1.2.0",
      "_view_name": "LayoutView",
      "align_content": null,
      "align_items": null,
      "align_self": null,
      "border": null,
      "bottom": null,
      "display": null,
      "flex": null,
      "flex_flow": null,
      "grid_area": null,
      "grid_auto_columns": null,
      "grid_auto_flow": null,
      "grid_auto_rows": null,
      "grid_column": null,
      "grid_gap": null,
      "grid_row": null,
      "grid_template_areas": null,
      "grid_template_columns": null,
      "grid_template_rows": null,
      "height": null,
      "justify_content": null,
      "justify_items": null,
      "left": null,
      "margin": null,
      "max_height": null,
      "max_width": null,
      "min_height": null,
      "min_width": null,
      "object_fit": null,
      "object_position": null,
      "order": null,
      "overflow": null,
      "overflow_x": null,
      "overflow_y": null,
      "padding": null,
      "right": null,
      "top": null,
      "visibility": null,
      "width": null
     }
    },
    "1b31eda686b54f7ca8c66aef18c987f3": {
     "model_module": "@jupyter-widgets/controls",
     "model_module_version": "1.5.0",
     "model_name": "HBoxModel",
     "state": {
      "_dom_classes": [],
      "_model_module": "@jupyter-widgets/controls",
      "_model_module_version": "1.5.0",
      "_model_name": "HBoxModel",
      "_view_count": null,
      "_view_module": "@jupyter-widgets/controls",
      "_view_module_version": "1.5.0",
      "_view_name": "HBoxView",
      "box_style": "",
      "children": [
       "IPY_MODEL_c8a26ff7a9504ca7b9982a1fdc958364",
       "IPY_MODEL_55a177c209e6414d8daae0aae25ab569",
       "IPY_MODEL_5696660af0a04fbbb0743796bdd5f9b3"
      ],
      "layout": "IPY_MODEL_35c5904b82544e9cac71cf7b0b67cc1e"
     }
    },
    "2571c66c254d4a6c9ae5a20812e41641": {
     "model_module": "@jupyter-widgets/controls",
     "model_module_version": "1.5.0",
     "model_name": "DescriptionStyleModel",
     "state": {
      "_model_module": "@jupyter-widgets/controls",
      "_model_module_version": "1.5.0",
      "_model_name": "DescriptionStyleModel",
      "_view_count": null,
      "_view_module": "@jupyter-widgets/base",
      "_view_module_version": "1.2.0",
      "_view_name": "StyleView",
      "description_width": ""
     }
    },
    "2943eba3c235416b809e23186d5625ef": {
     "model_module": "@jupyter-widgets/base",
     "model_module_version": "1.2.0",
     "model_name": "LayoutModel",
     "state": {
      "_model_module": "@jupyter-widgets/base",
      "_model_module_version": "1.2.0",
      "_model_name": "LayoutModel",
      "_view_count": null,
      "_view_module": "@jupyter-widgets/base",
      "_view_module_version": "1.2.0",
      "_view_name": "LayoutView",
      "align_content": null,
      "align_items": null,
      "align_self": null,
      "border": null,
      "bottom": null,
      "display": null,
      "flex": null,
      "flex_flow": null,
      "grid_area": null,
      "grid_auto_columns": null,
      "grid_auto_flow": null,
      "grid_auto_rows": null,
      "grid_column": null,
      "grid_gap": null,
      "grid_row": null,
      "grid_template_areas": null,
      "grid_template_columns": null,
      "grid_template_rows": null,
      "height": null,
      "justify_content": null,
      "justify_items": null,
      "left": null,
      "margin": null,
      "max_height": null,
      "max_width": null,
      "min_height": null,
      "min_width": null,
      "object_fit": null,
      "object_position": null,
      "order": null,
      "overflow": null,
      "overflow_x": null,
      "overflow_y": null,
      "padding": null,
      "right": null,
      "top": null,
      "visibility": null,
      "width": null
     }
    },
    "2ded17a125a44376abbe87ef29f2aa17": {
     "model_module": "@jupyter-widgets/controls",
     "model_module_version": "1.5.0",
     "model_name": "ProgressStyleModel",
     "state": {
      "_model_module": "@jupyter-widgets/controls",
      "_model_module_version": "1.5.0",
      "_model_name": "ProgressStyleModel",
      "_view_count": null,
      "_view_module": "@jupyter-widgets/base",
      "_view_module_version": "1.2.0",
      "_view_name": "StyleView",
      "bar_color": null,
      "description_width": ""
     }
    },
    "3339a154ce00450b8d07b45eda2e887c": {
     "model_module": "@jupyter-widgets/controls",
     "model_module_version": "1.5.0",
     "model_name": "FloatProgressModel",
     "state": {
      "_dom_classes": [],
      "_model_module": "@jupyter-widgets/controls",
      "_model_module_version": "1.5.0",
      "_model_name": "FloatProgressModel",
      "_view_count": null,
      "_view_module": "@jupyter-widgets/controls",
      "_view_module_version": "1.5.0",
      "_view_name": "ProgressView",
      "bar_style": "success",
      "description": "",
      "description_tooltip": null,
      "layout": "IPY_MODEL_a0cfdce0ec8544c49332cc831f67e777",
      "max": 241,
      "min": 0,
      "orientation": "horizontal",
      "style": "IPY_MODEL_c5b91a082e7d40879f66b6685fdfcfe0",
      "value": 241
     }
    },
    "35c5904b82544e9cac71cf7b0b67cc1e": {
     "model_module": "@jupyter-widgets/base",
     "model_module_version": "1.2.0",
     "model_name": "LayoutModel",
     "state": {
      "_model_module": "@jupyter-widgets/base",
      "_model_module_version": "1.2.0",
      "_model_name": "LayoutModel",
      "_view_count": null,
      "_view_module": "@jupyter-widgets/base",
      "_view_module_version": "1.2.0",
      "_view_name": "LayoutView",
      "align_content": null,
      "align_items": null,
      "align_self": null,
      "border": null,
      "bottom": null,
      "display": null,
      "flex": null,
      "flex_flow": null,
      "grid_area": null,
      "grid_auto_columns": null,
      "grid_auto_flow": null,
      "grid_auto_rows": null,
      "grid_column": null,
      "grid_gap": null,
      "grid_row": null,
      "grid_template_areas": null,
      "grid_template_columns": null,
      "grid_template_rows": null,
      "height": null,
      "justify_content": null,
      "justify_items": null,
      "left": null,
      "margin": null,
      "max_height": null,
      "max_width": null,
      "min_height": null,
      "min_width": null,
      "object_fit": null,
      "object_position": null,
      "order": null,
      "overflow": null,
      "overflow_x": null,
      "overflow_y": null,
      "padding": null,
      "right": null,
      "top": null,
      "visibility": null,
      "width": null
     }
    },
    "41b564f7d67b4422abcd5ac9925eb1f2": {
     "model_module": "@jupyter-widgets/controls",
     "model_module_version": "1.5.0",
     "model_name": "HTMLModel",
     "state": {
      "_dom_classes": [],
      "_model_module": "@jupyter-widgets/controls",
      "_model_module_version": "1.5.0",
      "_model_name": "HTMLModel",
      "_view_count": null,
      "_view_module": "@jupyter-widgets/controls",
      "_view_module_version": "1.5.0",
      "_view_name": "HTMLView",
      "description": "",
      "description_tooltip": null,
      "layout": "IPY_MODEL_f0fbd1b9ea074c1b9969417c02b32348",
      "placeholder": "​",
      "style": "IPY_MODEL_7935cc6e74c14372a82276f0a28e4559",
      "value": " 241/241 [00:01&lt;00:00, 158.21it/s]"
     }
    },
    "4631243cc4dd4d1a8e3ffe3a8da29cf7": {
     "model_module": "@jupyter-widgets/controls",
     "model_module_version": "1.5.0",
     "model_name": "DescriptionStyleModel",
     "state": {
      "_model_module": "@jupyter-widgets/controls",
      "_model_module_version": "1.5.0",
      "_model_name": "DescriptionStyleModel",
      "_view_count": null,
      "_view_module": "@jupyter-widgets/base",
      "_view_module_version": "1.2.0",
      "_view_name": "StyleView",
      "description_width": ""
     }
    },
    "55a177c209e6414d8daae0aae25ab569": {
     "model_module": "@jupyter-widgets/controls",
     "model_module_version": "1.5.0",
     "model_name": "FloatProgressModel",
     "state": {
      "_dom_classes": [],
      "_model_module": "@jupyter-widgets/controls",
      "_model_module_version": "1.5.0",
      "_model_name": "FloatProgressModel",
      "_view_count": null,
      "_view_module": "@jupyter-widgets/controls",
      "_view_module_version": "1.5.0",
      "_view_name": "ProgressView",
      "bar_style": "success",
      "description": "",
      "description_tooltip": null,
      "layout": "IPY_MODEL_2943eba3c235416b809e23186d5625ef",
      "max": 241,
      "min": 0,
      "orientation": "horizontal",
      "style": "IPY_MODEL_2ded17a125a44376abbe87ef29f2aa17",
      "value": 241
     }
    },
    "5696660af0a04fbbb0743796bdd5f9b3": {
     "model_module": "@jupyter-widgets/controls",
     "model_module_version": "1.5.0",
     "model_name": "HTMLModel",
     "state": {
      "_dom_classes": [],
      "_model_module": "@jupyter-widgets/controls",
      "_model_module_version": "1.5.0",
      "_model_name": "HTMLModel",
      "_view_count": null,
      "_view_module": "@jupyter-widgets/controls",
      "_view_module_version": "1.5.0",
      "_view_name": "HTMLView",
      "description": "",
      "description_tooltip": null,
      "layout": "IPY_MODEL_0b2d687ab70343a999f3a37dfe030a9c",
      "placeholder": "​",
      "style": "IPY_MODEL_2571c66c254d4a6c9ae5a20812e41641",
      "value": " 241/241 [00:00&lt;00:00, 515.87it/s]"
     }
    },
    "57bc2e2902994e799d4378888bdb342a": {
     "model_module": "@jupyter-widgets/base",
     "model_module_version": "1.2.0",
     "model_name": "LayoutModel",
     "state": {
      "_model_module": "@jupyter-widgets/base",
      "_model_module_version": "1.2.0",
      "_model_name": "LayoutModel",
      "_view_count": null,
      "_view_module": "@jupyter-widgets/base",
      "_view_module_version": "1.2.0",
      "_view_name": "LayoutView",
      "align_content": null,
      "align_items": null,
      "align_self": null,
      "border": null,
      "bottom": null,
      "display": null,
      "flex": null,
      "flex_flow": null,
      "grid_area": null,
      "grid_auto_columns": null,
      "grid_auto_flow": null,
      "grid_auto_rows": null,
      "grid_column": null,
      "grid_gap": null,
      "grid_row": null,
      "grid_template_areas": null,
      "grid_template_columns": null,
      "grid_template_rows": null,
      "height": null,
      "justify_content": null,
      "justify_items": null,
      "left": null,
      "margin": null,
      "max_height": null,
      "max_width": null,
      "min_height": null,
      "min_width": null,
      "object_fit": null,
      "object_position": null,
      "order": null,
      "overflow": null,
      "overflow_x": null,
      "overflow_y": null,
      "padding": null,
      "right": null,
      "top": null,
      "visibility": null,
      "width": null
     }
    },
    "7935cc6e74c14372a82276f0a28e4559": {
     "model_module": "@jupyter-widgets/controls",
     "model_module_version": "1.5.0",
     "model_name": "DescriptionStyleModel",
     "state": {
      "_model_module": "@jupyter-widgets/controls",
      "_model_module_version": "1.5.0",
      "_model_name": "DescriptionStyleModel",
      "_view_count": null,
      "_view_module": "@jupyter-widgets/base",
      "_view_module_version": "1.2.0",
      "_view_name": "StyleView",
      "description_width": ""
     }
    },
    "a0cfdce0ec8544c49332cc831f67e777": {
     "model_module": "@jupyter-widgets/base",
     "model_module_version": "1.2.0",
     "model_name": "LayoutModel",
     "state": {
      "_model_module": "@jupyter-widgets/base",
      "_model_module_version": "1.2.0",
      "_model_name": "LayoutModel",
      "_view_count": null,
      "_view_module": "@jupyter-widgets/base",
      "_view_module_version": "1.2.0",
      "_view_name": "LayoutView",
      "align_content": null,
      "align_items": null,
      "align_self": null,
      "border": null,
      "bottom": null,
      "display": null,
      "flex": null,
      "flex_flow": null,
      "grid_area": null,
      "grid_auto_columns": null,
      "grid_auto_flow": null,
      "grid_auto_rows": null,
      "grid_column": null,
      "grid_gap": null,
      "grid_row": null,
      "grid_template_areas": null,
      "grid_template_columns": null,
      "grid_template_rows": null,
      "height": null,
      "justify_content": null,
      "justify_items": null,
      "left": null,
      "margin": null,
      "max_height": null,
      "max_width": null,
      "min_height": null,
      "min_width": null,
      "object_fit": null,
      "object_position": null,
      "order": null,
      "overflow": null,
      "overflow_x": null,
      "overflow_y": null,
      "padding": null,
      "right": null,
      "top": null,
      "visibility": null,
      "width": null
     }
    },
    "b1c919ee0c85468a89413d98d9926b50": {
     "model_module": "@jupyter-widgets/controls",
     "model_module_version": "1.5.0",
     "model_name": "HBoxModel",
     "state": {
      "_dom_classes": [],
      "_model_module": "@jupyter-widgets/controls",
      "_model_module_version": "1.5.0",
      "_model_name": "HBoxModel",
      "_view_count": null,
      "_view_module": "@jupyter-widgets/controls",
      "_view_module_version": "1.5.0",
      "_view_name": "HBoxView",
      "box_style": "",
      "children": [
       "IPY_MODEL_09367b7a291f4c81a93f79ac3bf09e9b",
       "IPY_MODEL_3339a154ce00450b8d07b45eda2e887c",
       "IPY_MODEL_41b564f7d67b4422abcd5ac9925eb1f2"
      ],
      "layout": "IPY_MODEL_bfd4906b7ffc4ade9650aa96d140860a"
     }
    },
    "bc2f4104184749dbb7dcd2b5c6235238": {
     "model_module": "@jupyter-widgets/controls",
     "model_module_version": "1.5.0",
     "model_name": "DescriptionStyleModel",
     "state": {
      "_model_module": "@jupyter-widgets/controls",
      "_model_module_version": "1.5.0",
      "_model_name": "DescriptionStyleModel",
      "_view_count": null,
      "_view_module": "@jupyter-widgets/base",
      "_view_module_version": "1.2.0",
      "_view_name": "StyleView",
      "description_width": ""
     }
    },
    "bfd4906b7ffc4ade9650aa96d140860a": {
     "model_module": "@jupyter-widgets/base",
     "model_module_version": "1.2.0",
     "model_name": "LayoutModel",
     "state": {
      "_model_module": "@jupyter-widgets/base",
      "_model_module_version": "1.2.0",
      "_model_name": "LayoutModel",
      "_view_count": null,
      "_view_module": "@jupyter-widgets/base",
      "_view_module_version": "1.2.0",
      "_view_name": "LayoutView",
      "align_content": null,
      "align_items": null,
      "align_self": null,
      "border": null,
      "bottom": null,
      "display": null,
      "flex": null,
      "flex_flow": null,
      "grid_area": null,
      "grid_auto_columns": null,
      "grid_auto_flow": null,
      "grid_auto_rows": null,
      "grid_column": null,
      "grid_gap": null,
      "grid_row": null,
      "grid_template_areas": null,
      "grid_template_columns": null,
      "grid_template_rows": null,
      "height": null,
      "justify_content": null,
      "justify_items": null,
      "left": null,
      "margin": null,
      "max_height": null,
      "max_width": null,
      "min_height": null,
      "min_width": null,
      "object_fit": null,
      "object_position": null,
      "order": null,
      "overflow": null,
      "overflow_x": null,
      "overflow_y": null,
      "padding": null,
      "right": null,
      "top": null,
      "visibility": null,
      "width": null
     }
    },
    "c5b91a082e7d40879f66b6685fdfcfe0": {
     "model_module": "@jupyter-widgets/controls",
     "model_module_version": "1.5.0",
     "model_name": "ProgressStyleModel",
     "state": {
      "_model_module": "@jupyter-widgets/controls",
      "_model_module_version": "1.5.0",
      "_model_name": "ProgressStyleModel",
      "_view_count": null,
      "_view_module": "@jupyter-widgets/base",
      "_view_module_version": "1.2.0",
      "_view_name": "StyleView",
      "bar_color": null,
      "description_width": ""
     }
    },
    "c8a26ff7a9504ca7b9982a1fdc958364": {
     "model_module": "@jupyter-widgets/controls",
     "model_module_version": "1.5.0",
     "model_name": "HTMLModel",
     "state": {
      "_dom_classes": [],
      "_model_module": "@jupyter-widgets/controls",
      "_model_module_version": "1.5.0",
      "_model_name": "HTMLModel",
      "_view_count": null,
      "_view_module": "@jupyter-widgets/controls",
      "_view_module_version": "1.5.0",
      "_view_name": "HTMLView",
      "description": "",
      "description_tooltip": null,
      "layout": "IPY_MODEL_eac1572340b3491b987713ddf4fef228",
      "placeholder": "​",
      "style": "IPY_MODEL_bc2f4104184749dbb7dcd2b5c6235238",
      "value": "100%"
     }
    },
    "eac1572340b3491b987713ddf4fef228": {
     "model_module": "@jupyter-widgets/base",
     "model_module_version": "1.2.0",
     "model_name": "LayoutModel",
     "state": {
      "_model_module": "@jupyter-widgets/base",
      "_model_module_version": "1.2.0",
      "_model_name": "LayoutModel",
      "_view_count": null,
      "_view_module": "@jupyter-widgets/base",
      "_view_module_version": "1.2.0",
      "_view_name": "LayoutView",
      "align_content": null,
      "align_items": null,
      "align_self": null,
      "border": null,
      "bottom": null,
      "display": null,
      "flex": null,
      "flex_flow": null,
      "grid_area": null,
      "grid_auto_columns": null,
      "grid_auto_flow": null,
      "grid_auto_rows": null,
      "grid_column": null,
      "grid_gap": null,
      "grid_row": null,
      "grid_template_areas": null,
      "grid_template_columns": null,
      "grid_template_rows": null,
      "height": null,
      "justify_content": null,
      "justify_items": null,
      "left": null,
      "margin": null,
      "max_height": null,
      "max_width": null,
      "min_height": null,
      "min_width": null,
      "object_fit": null,
      "object_position": null,
      "order": null,
      "overflow": null,
      "overflow_x": null,
      "overflow_y": null,
      "padding": null,
      "right": null,
      "top": null,
      "visibility": null,
      "width": null
     }
    },
    "f0fbd1b9ea074c1b9969417c02b32348": {
     "model_module": "@jupyter-widgets/base",
     "model_module_version": "1.2.0",
     "model_name": "LayoutModel",
     "state": {
      "_model_module": "@jupyter-widgets/base",
      "_model_module_version": "1.2.0",
      "_model_name": "LayoutModel",
      "_view_count": null,
      "_view_module": "@jupyter-widgets/base",
      "_view_module_version": "1.2.0",
      "_view_name": "LayoutView",
      "align_content": null,
      "align_items": null,
      "align_self": null,
      "border": null,
      "bottom": null,
      "display": null,
      "flex": null,
      "flex_flow": null,
      "grid_area": null,
      "grid_auto_columns": null,
      "grid_auto_flow": null,
      "grid_auto_rows": null,
      "grid_column": null,
      "grid_gap": null,
      "grid_row": null,
      "grid_template_areas": null,
      "grid_template_columns": null,
      "grid_template_rows": null,
      "height": null,
      "justify_content": null,
      "justify_items": null,
      "left": null,
      "margin": null,
      "max_height": null,
      "max_width": null,
      "min_height": null,
      "min_width": null,
      "object_fit": null,
      "object_position": null,
      "order": null,
      "overflow": null,
      "overflow_x": null,
      "overflow_y": null,
      "padding": null,
      "right": null,
      "top": null,
      "visibility": null,
      "width": null
     }
    }
   }
  }
 },
 "nbformat": 4,
 "nbformat_minor": 5
}
