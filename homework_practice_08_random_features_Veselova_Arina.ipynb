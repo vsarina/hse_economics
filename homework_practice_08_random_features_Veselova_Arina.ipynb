{
 "cells": [
  {
   "cell_type": "markdown",
   "metadata": {
    "id": "RYp0bXOFK-hP"
   },
   "source": [
    "# Машинное обучение, ФКН ВШЭ\n",
    "\n",
    "## Практическое задание 8. Метод опорных векторов и аппроксимация ядер\n",
    "\n",
    "### Общая информация\n",
    "\n",
    "Дата выдачи: 04.02.2023\n",
    "\n",
    "Мягкий дедлайн: 23:59MSK 20.02.2023\n",
    "\n",
    "Жесткий дедлайн: 23:59MSK 26.02.2023\n",
    "\n",
    "### Оценивание и штрафы\n",
    "Каждая из задач имеет определенную «стоимость» (указана в скобках около задачи). Максимальная оценка за работу (без учёта бонусов) — 10 баллов.\n",
    "\n",
    "Сдавать задание после указанного жёсткого срока сдачи нельзя. При выставлении неполного балла за задание в связи с наличием ошибок на усмотрение проверяющего предусмотрена возможность исправить работу на указанных в ответном письме условиях.\n",
    "\n",
    "Задание выполняется самостоятельно. «Похожие» решения считаются плагиатом и все задействованные студенты (в том числе те, у кого списали) не могут получить за него больше 0 баллов (подробнее о плагиате см. на странице курса). Если вы нашли решение какого-то из заданий (или его часть) в открытом источнике, необходимо указать ссылку на этот источник в отдельном блоке в конце вашей работы (скорее всего вы будете не единственным, кто это нашел, поэтому чтобы исключить подозрение в плагиате, необходима ссылка на источник).\n",
    "\n",
    "Неэффективная реализация кода может негативно отразиться на оценке.\n",
    "\n",
    "### Формат сдачи\n",
    "Задания сдаются через систему anytask. Посылка должна содержать:\n",
    "* Ноутбук homework-practice-08-random-features-Username.ipynb\n",
    "\n",
    "Username — ваша фамилия и имя на латинице именно в таком порядке"
   ]
  },
  {
   "cell_type": "markdown",
   "metadata": {
    "id": "vY8vT0W_K-hR"
   },
   "source": [
    "### О задании\n",
    "\n",
    "На занятиях мы подробно обсуждали метод опорных векторов (SVM). В базовой версии в нём нет чего-то особенного — мы всего лишь используем специальную функцию потерь, которая не требует устремлять отступы к бесконечности; ей достаточно, чтобы отступы были не меньше +1. Затем мы узнали, что SVM можно переписать в двойственном виде, который, позволяет заменить скалярные произведения объектов на ядра. Это будет соответствовать построению модели в новом пространстве более высокой размерности, координаты которого представляют собой нелинейные модификации исходных признаков.\n",
    "\n",
    "Ядровой SVM, к сожалению, довольно затратен по памяти (нужно хранить матрицу Грама размера $d \\times d$) и по времени (нужно решать задачу условной оптимизации с квадратичной функцией, а это не очень быстро). Мы обсуждали, что есть способы посчитать новые признаки $\\tilde \\varphi(x)$ на основе исходных так, что скалярные произведения этих новых $\\langle \\tilde \\varphi(x), \\tilde \\varphi(z) \\rangle$ приближают ядро $K(x, z)$.\n",
    "\n",
    "Мы будем исследовать аппроксимации методом Random Fourier Features (RFF, также в литературе встречается название Random Kitchen Sinks) для гауссовых ядер. Будем использовать формулы, которые немного отличаются от того, что было на лекциях (мы добавим сдвиги внутрь тригонометрических функций и будем использовать только косинусы, потому что с нужным сдвигом косинус превратится в синус):\n",
    "$$\\tilde \\varphi(x) = (\n",
    "\\cos (w_1^T x + b_1),\n",
    "\\dots,\n",
    "\\cos (w_n^T x + b_n)\n",
    "),$$\n",
    "где $w_j \\sim \\mathcal{N}(0, 1/\\sigma^2)$, $b_j \\sim U[-\\pi, \\pi]$.\n",
    "\n",
    "На новых признаках $\\tilde \\varphi(x)$ мы будем строить любую линейную модель.\n",
    "\n",
    "Можно считать, что это некоторая новая парадигма построения сложных моделей. Можно направленно искать сложные нелинейные закономерности в данных с помощью градиентного бустинга или нейронных сетей, а можно просто нагенерировать большое количество случайных нелинейных признаков и надеяться, что быстрая и простая модель (то есть линейная) сможет показать на них хорошее качество. В этом задании мы изучим, насколько работоспособна такая идея.\n",
    "\n",
    "### Алгоритм\n",
    "\n",
    "Вам потребуется реализовать следующий алгоритм:\n",
    "1. Понизить размерность выборки до new_dim с помощью метода главных компонент.\n",
    "2. Для полученной выборки оценить гиперпараметр $\\sigma^2$ с помощью эвристики (рекомендуем считать медиану не по всем парам объектов, а по случайному подмножеству из где-то миллиона пар объектов): $$\\sigma^2 = \\text{median}_{i, j = 1, \\dots, \\ell, i \\neq j} \\left\\{\\sum_{k = 1}^{d} (x_{ik} - x_{jk})^2 \\right\\}$$\n",
    "3. Сгенерировать n_features наборов весов $w_j$ и сдвигов $b_j$.\n",
    "4. Сформировать n_features новых признаков по формулам, приведённым выше.\n",
    "5. Обучить линейную модель (логистическую регрессию или SVM) на новых признаках.\n",
    "6. Повторить преобразования (PCA, формирование новых признаков) к тестовой выборке и применить модель."
   ]
  },
  {
   "cell_type": "markdown",
   "metadata": {
    "id": "N_sGunb7K-hS"
   },
   "source": [
    "Тестировать алгоритм мы будем на данных Fashion MNIST. Ниже код для их загрузки и подготовки."
   ]
  },
  {
   "cell_type": "code",
   "execution_count": 1,
   "metadata": {},
   "outputs": [
    {
     "name": "stdout",
     "output_type": "stream",
     "text": [
      "Collecting package metadata (current_repodata.json): done\n",
      "Solving environment: / \n",
      "The environment is inconsistent, please check the package plan carefully\n",
      "The following packages are causing the inconsistency:\n",
      "\n",
      "  - defaults/noarch::holoviews==1.14.8=pyhd3eb1b0_0\n",
      "  - defaults/osx-64::anaconda-navigator==2.2.0=py39hecd8cb5_0\n",
      "  - defaults/noarch::s3transfer==0.5.0=pyhd3eb1b0_0\n",
      "  - defaults/noarch::requests-file==1.5.1=pyhd3eb1b0_0\n",
      "  - defaults/noarch::smart_open==5.1.0=pyhd3eb1b0_0\n",
      "  - defaults/noarch::boto3==1.21.32=pyhd3eb1b0_0\n",
      "  - defaults/noarch::cookiecutter==1.7.3=pyhd3eb1b0_0\n",
      "  - defaults/noarch::google-cloud-core==1.7.1=pyhd3eb1b0_0\n",
      "  - defaults/osx-64::anaconda==2022.05=py39_0\n",
      "  - defaults/osx-64::conda==4.13.0=py39hecd8cb5_0\n",
      "  - defaults/noarch::datashader==0.13.0=pyhd3eb1b0_1\n",
      "  - defaults/noarch::conda-repo-cli==1.0.4=pyhd3eb1b0_0\n",
      "  - defaults/osx-64::conda-build==3.21.8=py39hecd8cb5_2\n",
      "  - defaults/noarch::sphinx==4.4.0=pyhd3eb1b0_0\n",
      "  - defaults/noarch::numpydoc==1.2=pyhd3eb1b0_0\n",
      "  - defaults/osx-64::scrapy==2.6.1=py39hecd8cb5_0\n",
      "  - defaults/osx-64::pyct==0.4.6=py39hecd8cb5_0\n",
      "  - defaults/noarch::google-auth==1.33.0=pyhd3eb1b0_0\n",
      "  - defaults/noarch::anaconda-project==0.10.2=pyhd3eb1b0_0\n",
      "  - defaults/osx-64::_ipyw_jlab_nb_ext_conf==0.1.0=py39hecd8cb5_1\n",
      "  - defaults/noarch::jupyterlab_server==2.10.3=pyhd3eb1b0_1\n",
      "  - defaults/noarch::botocore==1.24.32=pyhd3eb1b0_0\n",
      "  - defaults/osx-64::gensim==4.1.2=py39he9d5cce_0\n",
      "  - defaults/osx-64::anaconda-client==1.9.0=py39hecd8cb5_0\n",
      "  - defaults/noarch::requests==2.27.1=pyhd3eb1b0_0\n",
      "  - defaults/noarch::intake==0.6.5=pyhd3eb1b0_0\n",
      "  - defaults/noarch::google-api-core==1.25.1=pyhd3eb1b0_0\n",
      "  - defaults/noarch::google-cloud-storage==1.31.0=py_0\n",
      "  - defaults/osx-64::spyder==5.1.5=py39hecd8cb5_1\n",
      "  - defaults/noarch::hvplot==0.7.3=pyhd3eb1b0_1\n",
      "  - defaults/noarch::colorcet==2.0.6=pyhd3eb1b0_0\n",
      "  - defaults/noarch::conda-token==0.3.0=pyhd3eb1b0_0\n",
      "  - defaults/noarch::jupyterlab==3.3.2=pyhd3eb1b0_0\n",
      "  - defaults/noarch::tldextract==3.2.0=pyhd3eb1b0_0\n",
      "  - defaults/osx-64::panel==0.13.0=py39hecd8cb5_0\n",
      "failed with initial frozen solve. Retrying with flexible solve.\n",
      "Solving environment: failed with repodata from current_repodata.json, will retry with next repodata source.\n",
      "Collecting package metadata (repodata.json): done\n",
      "Solving environment: | \n",
      "The environment is inconsistent, please check the package plan carefully\n",
      "The following packages are causing the inconsistency:\n",
      "\n",
      "  - defaults/noarch::holoviews==1.14.8=pyhd3eb1b0_0\n",
      "  - defaults/osx-64::anaconda-navigator==2.2.0=py39hecd8cb5_0\n",
      "  - defaults/noarch::s3transfer==0.5.0=pyhd3eb1b0_0\n",
      "  - defaults/noarch::requests-file==1.5.1=pyhd3eb1b0_0\n",
      "  - defaults/noarch::smart_open==5.1.0=pyhd3eb1b0_0\n",
      "  - defaults/noarch::boto3==1.21.32=pyhd3eb1b0_0\n",
      "  - defaults/noarch::cookiecutter==1.7.3=pyhd3eb1b0_0\n",
      "  - defaults/noarch::google-cloud-core==1.7.1=pyhd3eb1b0_0\n",
      "  - defaults/osx-64::anaconda==2022.05=py39_0\n",
      "  - defaults/osx-64::conda==4.13.0=py39hecd8cb5_0\n",
      "  - defaults/noarch::datashader==0.13.0=pyhd3eb1b0_1\n",
      "  - defaults/noarch::conda-repo-cli==1.0.4=pyhd3eb1b0_0\n",
      "  - defaults/osx-64::conda-build==3.21.8=py39hecd8cb5_2\n",
      "  - defaults/noarch::sphinx==4.4.0=pyhd3eb1b0_0\n",
      "  - defaults/noarch::numpydoc==1.2=pyhd3eb1b0_0\n",
      "  - defaults/osx-64::scrapy==2.6.1=py39hecd8cb5_0\n",
      "  - defaults/osx-64::pyct==0.4.6=py39hecd8cb5_0\n",
      "  - defaults/noarch::google-auth==1.33.0=pyhd3eb1b0_0\n",
      "  - defaults/noarch::anaconda-project==0.10.2=pyhd3eb1b0_0\n",
      "  - defaults/osx-64::_ipyw_jlab_nb_ext_conf==0.1.0=py39hecd8cb5_1\n",
      "  - defaults/noarch::jupyterlab_server==2.10.3=pyhd3eb1b0_1\n",
      "  - defaults/noarch::botocore==1.24.32=pyhd3eb1b0_0\n",
      "  - defaults/osx-64::gensim==4.1.2=py39he9d5cce_0\n",
      "  - defaults/osx-64::anaconda-client==1.9.0=py39hecd8cb5_0\n",
      "  - defaults/noarch::requests==2.27.1=pyhd3eb1b0_0\n",
      "  - defaults/noarch::intake==0.6.5=pyhd3eb1b0_0\n",
      "  - defaults/noarch::google-api-core==1.25.1=pyhd3eb1b0_0\n",
      "  - defaults/noarch::google-cloud-storage==1.31.0=py_0\n",
      "  - defaults/osx-64::spyder==5.1.5=py39hecd8cb5_1\n",
      "  - defaults/noarch::hvplot==0.7.3=pyhd3eb1b0_1\n",
      "  - defaults/noarch::colorcet==2.0.6=pyhd3eb1b0_0\n",
      "  - defaults/noarch::conda-token==0.3.0=pyhd3eb1b0_0\n",
      "  - defaults/noarch::jupyterlab==3.3.2=pyhd3eb1b0_0\n",
      "  - defaults/noarch::tldextract==3.2.0=pyhd3eb1b0_0\n",
      "  - defaults/osx-64::panel==0.13.0=py39hecd8cb5_0\n",
      "done\n",
      "\n",
      "\n",
      "==> WARNING: A newer version of conda exists. <==\n",
      "  current version: 4.13.0\n",
      "  latest version: 23.1.0\n",
      "\n",
      "Please update conda by running\n",
      "\n",
      "    $ conda update -n base -c defaults conda\n",
      "\n",
      "\n",
      "\n",
      "## Package Plan ##\n",
      "\n",
      "  environment location: /Users/Arina/opt/anaconda3\n",
      "\n",
      "  added / updated specs:\n",
      "    - tensorflow\n",
      "\n",
      "\n",
      "The following packages will be downloaded:\n",
      "\n",
      "    package                    |            build\n",
      "    ---------------------------|-----------------\n",
      "    _anaconda_depends-2022.10  |           py39_2          69 KB\n",
      "    _tflow_select-2.2.0        |            eigen           3 KB\n",
      "    abseil-cpp-20211102.0      |       he9d5cce_0         933 KB\n",
      "    absl-py-1.3.0              |   py39hecd8cb5_0         168 KB\n",
      "    anaconda-custom            |           py39_1           4 KB\n",
      "    astunparse-1.6.3           |             py_0          17 KB\n",
      "    blinker-1.4                |   py39hecd8cb5_0          23 KB\n",
      "    ca-certificates-2023.01.10 |       hecd8cb5_0         121 KB\n",
      "    cctools-949.0.1            |      h9abeeb2_25          18 KB\n",
      "    cctools_osx-64-949.0.1     |      hc7db93f_25         1.3 MB\n",
      "    certifi-2022.12.7          |   py39hecd8cb5_0         151 KB\n",
      "    conda-build-3.23.3         |   py39hecd8cb5_0         568 KB\n",
      "    curl-7.84.0                |       hca72f7f_0          73 KB\n",
      "    flatbuffers-2.0.0          |       h23ab428_0         925 KB\n",
      "    gast-0.4.0                 |     pyhd3eb1b0_0          13 KB\n",
      "    google-auth-oauthlib-0.4.4 |     pyhd3eb1b0_0          18 KB\n",
      "    google-pasta-0.2.0         |     pyhd3eb1b0_0          46 KB\n",
      "    grpc-cpp-1.46.1            |       h067a048_0         2.5 MB\n",
      "    keras-2.9.0                |   py39hecd8cb5_0         1.5 MB\n",
      "    keras-preprocessing-1.1.2  |     pyhd3eb1b0_0          35 KB\n",
      "    ld64-530                   |      h20443b4_25          16 KB\n",
      "    ld64_osx-64-530            |      h70f3046_25         920 KB\n",
      "    ldid-2.1.2                 |       h2d21305_2          54 KB\n",
      "    libcurl-7.84.0             |       h6dfd666_0         309 KB\n",
      "    libllvm14-14.0.6           |       he552d86_0        21.3 MB\n",
      "    libprotobuf-3.20.1         |       h8346a28_0         1.8 MB\n",
      "    llvm-openmp-14.0.6         |       h0dcd299_0         288 KB\n",
      "    oauthlib-3.2.1             |   py39hecd8cb5_0         194 KB\n",
      "    openssl-1.1.1t             |       hca72f7f_0         3.3 MB\n",
      "    opt_einsum-3.3.0           |     pyhd3eb1b0_1          57 KB\n",
      "    patch-2.7.6                |    h1de35cc_1001         128 KB\n",
      "    protobuf-3.20.1            |   py39he9d5cce_0         279 KB\n",
      "    python-flatbuffers-1.12    |     pyhd3eb1b0_0          24 KB\n",
      "    re2-2022.04.01             |       he9d5cce_0         179 KB\n",
      "    requests-oauthlib-1.3.0    |             py_0          23 KB\n",
      "    sqlite-3.39.3              |       h707629a_0         1.2 MB\n",
      "    tapi-1000.10.8             |       ha1b3eb9_0         4.2 MB\n",
      "    tensorboard-2.9.0          |   py39hecd8cb5_0         5.5 MB\n",
      "    tensorboard-data-server-0.6.1|   py39h7242b5c_0         2.8 MB\n",
      "    tensorboard-plugin-wit-1.6.0|             py_0         630 KB\n",
      "    tensorflow-2.9.1           |eigen_py39h7123b6a_1           4 KB\n",
      "    tensorflow-base-2.9.1      |eigen_py39h36d2db2_1        96.6 MB\n",
      "    tensorflow-estimator-2.9.0 |   py39hecd8cb5_0         491 KB\n",
      "    termcolor-2.1.0            |   py39hecd8cb5_0          12 KB\n",
      "    urllib3-1.26.14            |   py39hecd8cb5_0         194 KB\n",
      "    wheel-0.35.1               |     pyhd3eb1b0_0          38 KB\n",
      "    ------------------------------------------------------------\n",
      "                                           Total:       149.0 MB\n",
      "\n",
      "The following NEW packages will be INSTALLED:\n",
      "\n",
      "  _anaconda_depends  pkgs/main/osx-64::_anaconda_depends-2022.10-py39_2\n",
      "  _tflow_select      pkgs/main/osx-64::_tflow_select-2.2.0-eigen\n",
      "  abseil-cpp         pkgs/main/osx-64::abseil-cpp-20211102.0-he9d5cce_0\n",
      "  absl-py            pkgs/main/osx-64::absl-py-1.3.0-py39hecd8cb5_0\n",
      "  astunparse         pkgs/main/noarch::astunparse-1.6.3-py_0\n",
      "  blinker            pkgs/main/osx-64::blinker-1.4-py39hecd8cb5_0\n",
      "  cctools            pkgs/main/osx-64::cctools-949.0.1-h9abeeb2_25\n",
      "  cctools_osx-64     pkgs/main/osx-64::cctools_osx-64-949.0.1-hc7db93f_25\n",
      "  flatbuffers        pkgs/main/osx-64::flatbuffers-2.0.0-h23ab428_0\n",
      "  gast               pkgs/main/noarch::gast-0.4.0-pyhd3eb1b0_0\n",
      "  google-auth-oauth~ pkgs/main/noarch::google-auth-oauthlib-0.4.4-pyhd3eb1b0_0\n",
      "  google-pasta       pkgs/main/noarch::google-pasta-0.2.0-pyhd3eb1b0_0\n",
      "  grpc-cpp           pkgs/main/osx-64::grpc-cpp-1.46.1-h067a048_0\n",
      "  keras              pkgs/main/osx-64::keras-2.9.0-py39hecd8cb5_0\n",
      "  keras-preprocessi~ pkgs/main/noarch::keras-preprocessing-1.1.2-pyhd3eb1b0_0\n",
      "  ld64               pkgs/main/osx-64::ld64-530-h20443b4_25\n",
      "  ld64_osx-64        pkgs/main/osx-64::ld64_osx-64-530-h70f3046_25\n",
      "  ldid               pkgs/main/osx-64::ldid-2.1.2-h2d21305_2\n",
      "  libllvm14          pkgs/main/osx-64::libllvm14-14.0.6-he552d86_0\n",
      "  oauthlib           pkgs/main/osx-64::oauthlib-3.2.1-py39hecd8cb5_0\n",
      "  opt_einsum         pkgs/main/noarch::opt_einsum-3.3.0-pyhd3eb1b0_1\n",
      "  patch              pkgs/main/osx-64::patch-2.7.6-h1de35cc_1001\n",
      "  python-flatbuffers pkgs/main/noarch::python-flatbuffers-1.12-pyhd3eb1b0_0\n",
      "  re2                pkgs/main/osx-64::re2-2022.04.01-he9d5cce_0\n",
      "  requests-oauthlib  pkgs/main/noarch::requests-oauthlib-1.3.0-py_0\n",
      "  tapi               pkgs/main/osx-64::tapi-1000.10.8-ha1b3eb9_0\n",
      "  tensorboard        pkgs/main/osx-64::tensorboard-2.9.0-py39hecd8cb5_0\n",
      "  tensorboard-data-~ pkgs/main/osx-64::tensorboard-data-server-0.6.1-py39h7242b5c_0\n",
      "  tensorboard-plugi~ pkgs/main/noarch::tensorboard-plugin-wit-1.6.0-py_0\n",
      "  tensorflow         pkgs/main/osx-64::tensorflow-2.9.1-eigen_py39h7123b6a_1\n",
      "  tensorflow-base    pkgs/main/osx-64::tensorflow-base-2.9.1-eigen_py39h36d2db2_1\n",
      "  tensorflow-estima~ pkgs/main/osx-64::tensorflow-estimator-2.9.0-py39hecd8cb5_0\n",
      "  termcolor          pkgs/main/osx-64::termcolor-2.1.0-py39hecd8cb5_0\n",
      "  urllib3            pkgs/main/osx-64::urllib3-1.26.14-py39hecd8cb5_0\n",
      "\n",
      "The following packages will be UPDATED:\n",
      "\n",
      "  ca-certificates                      2022.3.29-hecd8cb5_1 --> 2023.01.10-hecd8cb5_0\n",
      "  certifi                          2021.10.8-py39hecd8cb5_2 --> 2022.12.7-py39hecd8cb5_0\n",
      "  conda-build                         3.21.8-py39hecd8cb5_2 --> 3.23.3-py39hecd8cb5_0\n",
      "  curl                                    7.82.0-hca72f7f_0 --> 7.84.0-hca72f7f_0\n",
      "  libcurl                                 7.82.0-h6dfd666_0 --> 7.84.0-h6dfd666_0\n",
      "  libprotobuf                             3.19.1-h8346a28_0 --> 3.20.1-h8346a28_0\n",
      "  llvm-openmp                             12.0.0-h0dcd299_1 --> 14.0.6-h0dcd299_0\n",
      "  openssl                                 1.1.1n-hca72f7f_0 --> 1.1.1t-hca72f7f_0\n",
      "  protobuf                            3.19.1-py39he9d5cce_0 --> 3.20.1-py39he9d5cce_0\n",
      "  sqlite                                  3.38.2-h707629a_0 --> 3.39.3-h707629a_0\n",
      "\n",
      "The following packages will be DOWNGRADED:\n",
      "\n",
      "  anaconda                                   2022.05-py39_0 --> custom-py39_1\n",
      "  wheel                                 0.37.1-pyhd3eb1b0_0 --> 0.35.1-pyhd3eb1b0_0\n",
      "\n",
      "\n",
      "\n",
      "Downloading and Extracting Packages\n"
     ]
    },
    {
     "name": "stdout",
     "output_type": "stream",
     "text": [
      "cctools_osx-64-949.0 | 1.3 MB    | ##################################### | 100% \n",
      "tensorflow-estimator | 491 KB    | ##################################### | 100% \n",
      "astunparse-1.6.3     | 17 KB     | ##################################### | 100% \n",
      "opt_einsum-3.3.0     | 57 KB     | ##################################### | 100% \n",
      "urllib3-1.26.14      | 194 KB    | ##################################### | 100% \n",
      "keras-preprocessing- | 35 KB     | ##################################### | 100% \n",
      "tensorboard-data-ser | 2.8 MB    | ##################################### | 100% \n",
      "re2-2022.04.01       | 179 KB    | ##################################### | 100% \n",
      "tensorboard-2.9.0    | 5.5 MB    | ##################################### | 100% \n",
      "ca-certificates-2023 | 121 KB    | ##################################### | 100% \n",
      "anaconda-custom      | 4 KB      | ##################################### | 100% \n",
      "grpc-cpp-1.46.1      | 2.5 MB    | ##################################### | 100% \n",
      "requests-oauthlib-1. | 23 KB     | ##################################### | 100% \n",
      "flatbuffers-2.0.0    | 925 KB    | ##################################### | 100% \n",
      "ld64-530             | 16 KB     | ##################################### | 100% \n",
      "ld64_osx-64-530      | 920 KB    | ##################################### | 100% \n",
      "patch-2.7.6          | 128 KB    | ##################################### | 100% \n",
      "_tflow_select-2.2.0  | 3 KB      | ##################################### | 100% \n",
      "tapi-1000.10.8       | 4.2 MB    | ##################################### | 100% \n",
      "libprotobuf-3.20.1   | 1.8 MB    | ##################################### | 100% \n",
      "openssl-1.1.1t       | 3.3 MB    | ##################################### | 100% \n",
      "ldid-2.1.2           | 54 KB     | ##################################### | 100% \n",
      "oauthlib-3.2.1       | 194 KB    | ##################################### | 100% \n",
      "libllvm14-14.0.6     | 21.3 MB   | ##################################### | 100% \n",
      "sqlite-3.39.3        | 1.2 MB    | ##################################### | 100% \n",
      "abseil-cpp-20211102. | 933 KB    | ##################################### | 100% \n",
      "absl-py-1.3.0        | 168 KB    | ##################################### | 100% \n",
      "python-flatbuffers-1 | 24 KB     | ##################################### | 100% \n",
      "llvm-openmp-14.0.6   | 288 KB    | ##################################### | 100% \n",
      "cctools-949.0.1      | 18 KB     | ##################################### | 100% \n",
      "keras-2.9.0          | 1.5 MB    | ##################################### | 100% \n",
      "_anaconda_depends-20 | 69 KB     | ##################################### | 100% \n",
      "protobuf-3.20.1      | 279 KB    | ##################################### | 100% \n",
      "certifi-2022.12.7    | 151 KB    | ##################################### | 100% \n",
      "google-pasta-0.2.0   | 46 KB     | ##################################### | 100% \n",
      "libcurl-7.84.0       | 309 KB    | ##################################### | 100% \n",
      "termcolor-2.1.0      | 12 KB     | ##################################### | 100% \n",
      "tensorflow-base-2.9. | 96.6 MB   | ##################################### | 100% \n",
      "conda-build-3.23.3   | 568 KB    | ##################################### | 100% \n",
      "curl-7.84.0          | 73 KB     | ##################################### | 100% \n",
      "gast-0.4.0           | 13 KB     | ##################################### | 100% \n",
      "blinker-1.4          | 23 KB     | ##################################### | 100% \n",
      "tensorboard-plugin-w | 630 KB    | ##################################### | 100% \n",
      "google-auth-oauthlib | 18 KB     | ##################################### | 100% \n",
      "wheel-0.35.1         | 38 KB     | ##################################### | 100% \n",
      "tensorflow-2.9.1     | 4 KB      | ##################################### | 100% \n",
      "Preparing transaction: done\n",
      "Verifying transaction: done\n",
      "Executing transaction: done\n",
      "\n",
      "Note: you may need to restart the kernel to use updated packages.\n"
     ]
    }
   ],
   "source": [
    "#conda install tensorflow"
   ]
  },
  {
   "cell_type": "code",
   "execution_count": 3,
   "metadata": {
    "id": "YyG6dBfjK-hS"
   },
   "outputs": [],
   "source": [
    "import keras\n",
    "from keras.datasets import fashion_mnist\n",
    "(x_train_pics, y_train), (x_test_pics, y_test) = fashion_mnist.load_data()\n",
    "x_train = x_train_pics.reshape(y_train.shape[0], -1)\n",
    "x_test = x_test_pics.reshape(y_test.shape[0], -1)"
   ]
  },
  {
   "cell_type": "markdown",
   "metadata": {
    "id": "rJNN55F7K-hT"
   },
   "source": [
    "__Задание 1. (5 баллов)__\n",
    "\n",
    "Реализуйте алгоритм, описанный выше. Можете воспользоваться шаблоном класса ниже или написать свой интерфейс.\n",
    "\n",
    "Ваша реализация должна поддерживать следующие опции:\n",
    "1. Возможность задавать значения гиперпараметров new_dim (по умолчанию 50) и n_features (по умолчанию 1000).\n",
    "2. Возможность включать или выключать предварительное понижение размерности с помощью метода главных компонент.\n",
    "3. Возможность выбирать тип линейной модели (логистическая регрессия или SVM с линейным ядром).\n",
    "\n",
    "Протестируйте на данных Fashion MNIST, сформированных кодом выше. Если на тесте у вас получилась доля верных ответов не ниже 0.84 с гиперпараметрами по умолчанию, то вы всё сделали правильно."
   ]
  },
  {
   "cell_type": "code",
   "execution_count": 2,
   "metadata": {
    "id": "JIhRbvV3nkAI"
   },
   "outputs": [],
   "source": [
    "from sklearn.base import BaseEstimator, TransformerMixin\n",
    "from sklearn.decomposition import PCA\n",
    "import numpy as np\n",
    "import math\n",
    "from sklearn.linear_model import LogisticRegression\n",
    "from sklearn.svm import SVC\n",
    "from sklearn.svm import LinearSVC\n",
    "from sklearn.metrics import accuracy_score\n",
    "\n",
    "class RFFPipeline(BaseEstimator, TransformerMixin):\n",
    "    def __init__(self, n_features=1000, new_dim=50, use_PCA=True, classifier='logreg'):\n",
    "        \"\"\"        \n",
    "        Implements pipeline, which consists of PCA decomposition,\n",
    "        Random Fourier Features approximation and linear classification model.\n",
    "        \n",
    "        n_features, int: amount of synthetic random features generated with RFF approximation.\n",
    "\n",
    "        new_dim, int: PCA output size.\n",
    "        \n",
    "        use_PCA, bool: whether to include PCA preprocessing.\n",
    "        \n",
    "        classifier, string: either 'svm' or 'logreg', a linear classification model to use on top of pipeline.\n",
    "        \n",
    "        Feel free to edit this template for your preferences.    \n",
    "        \"\"\"\n",
    "        self.n_features = n_features\n",
    "        self.use_PCA = use_PCA\n",
    "        self.new_dim = new_dim\n",
    "        self.classifier = classifier\n",
    "        \n",
    "    def fit(self, X, y):\n",
    "        \"\"\"\n",
    "        Fit all parts of algorithm (PCA, RFF, Classification) to training set.\n",
    "        \"\"\"\n",
    "        # Your code here: (￣▽￣)/♫•*¨*•.¸¸♪\n",
    "\n",
    "        #PCA\n",
    "        if self.use_PCA == True:\n",
    "            self.pca = PCA(n_components=self.new_dim)\n",
    "            X = self.pca.fit_transform(X)\n",
    "  \n",
    "        \n",
    "\n",
    "        #RFF\n",
    "        #let's find sigma\n",
    "        id1 = np.random.randint(X.shape[0], size=1000000)\n",
    "        id2 = np.random.randint(X.shape[0], size=1000000)\n",
    "        sigma = np.sqrt(np.median(np.sum((X[id1] - X[id2])**2, axis = 1)))\n",
    "\n",
    "        #let's generate w and b\n",
    "        np.random.seed(0)\n",
    "        self.w = np.random.normal(0, 1/sigma, size = (X.shape[1], self.n_features))\n",
    "        self.b = np.random.uniform(-math.pi, math.pi, size = (self.n_features))\n",
    "\n",
    "        #let's generate new features\n",
    "        X_new = np.cos(X.dot(self.w) + self.b)\n",
    "\n",
    "\n",
    "        \n",
    "        #MODEL\n",
    "        if self.classifier == 'logreg':\n",
    "            self.model = LogisticRegression(random_state=0).fit(X_new, y)\n",
    "\n",
    "        elif self.classifier == 'svm':\n",
    "            self.model = LinearSVC(random_state=0).fit(X_new, y)\n",
    "\n",
    "        return self\n",
    "\n",
    "    def predict_proba(self, X):\n",
    "        \"\"\"\n",
    "        Apply pipeline to obtain scores for input data.\n",
    "        \"\"\"\n",
    "        # Your code here: (￣▽￣)/♫•*¨*•.¸¸♪\n",
    "\n",
    "        #PCA\n",
    "        if self.use_PCA == True:\n",
    "            X = self.pca.transform(X)\n",
    "  \n",
    "        \n",
    "\n",
    "        #RFF\n",
    "        #let's generate new features\n",
    "        X_new = np.cos(X.dot(self.w) + self.b)\n",
    "\n",
    "\n",
    "\n",
    "        #PREDICTIONS\n",
    "        predictions_prob = self.model.predict_proba(X_new)\n",
    "\n",
    "        return predictions_prob\n",
    "        \n",
    "    def predict(self, X):\n",
    "        \"\"\"\n",
    "        Apply pipeline to obtain discrete predictions for input data.\n",
    "        \"\"\"\n",
    "        # Your code here: (￣▽￣)/♫•*¨*•.¸¸♪\n",
    "\n",
    "        #PCA\n",
    "        if self.use_PCA == True:\n",
    "            X = self.pca.transform(X)\n",
    "  \n",
    "        \n",
    "\n",
    "        #RFF\n",
    "        #let's generate new features\n",
    "        X_new = np.cos(X.dot(self.w) + self.b)\n",
    "\n",
    "\n",
    "\n",
    "        #PREDICTIONS\n",
    "        predictions = self.model.predict(X_new)\n",
    "\n",
    "        return predictions"
   ]
  },
  {
   "cell_type": "code",
   "execution_count": 3,
   "metadata": {
    "colab": {
     "base_uri": "https://localhost:8080/"
    },
    "id": "0IT5_XaxbArW",
    "outputId": "9881cc17-cfa7-4667-978d-4fadba905c2c"
   },
   "outputs": [
    {
     "name": "stdout",
     "output_type": "stream",
     "text": [
      "PCA + RFF + Logreg: accuracy = 0.8584, time = 20.155084133148193\n"
     ]
    }
   ],
   "source": [
    "import warnings\n",
    "warnings.filterwarnings(\"ignore\")\n",
    "\n",
    "import time \n",
    "\n",
    "#PCA + RFF + Logreg\n",
    "start = time.time()\n",
    "rff = RFFPipeline() \n",
    "rff = rff.fit(x_train, y_train)\n",
    "y_pred = rff.predict(x_test)\n",
    "acc1 = accuracy_score(y_test, y_pred)\n",
    "end = time.time() - start \n",
    "print(f'PCA + RFF + Logreg: accuracy = {acc1}, time = {end}')"
   ]
  },
  {
   "cell_type": "markdown",
   "metadata": {
    "id": "HYqQUEi-K-hU"
   },
   "source": [
    "__Задание 2. (3 балла)__\n",
    "\n",
    "Сравните подход со случайными признаками с обучением SVM на исходных признаках. Попробуйте вариант с обычным (линейным) SVM и с ядровым SVM. Ядровой SVM может очень долго обучаться, поэтому можно делать любые разумные вещи для ускорения: брать подмножество объектов из обучающей выборки, например.\n",
    "\n",
    "Сравните подход со случайными признаками с вариантом, в котором вы понижаете размерность с помощью PCA и обучаете градиентный бустинг. Используйте одну из реализаций CatBoost/LightGBM/XGBoost, не забудьте подобрать число деревьев и длину шага.\n",
    "\n",
    "Сделайте выводы — насколько идея со случайными признаками работает? Сравните как с точки зрения качества, так и с точки зрения скорости обучения и применения."
   ]
  },
  {
   "cell_type": "code",
   "execution_count": 14,
   "metadata": {
    "colab": {
     "base_uri": "https://localhost:8080/"
    },
    "id": "qN8LUlJgK-hV",
    "outputId": "d2f51a44-5193-4adc-e70f-12fd358ba6c5"
   },
   "outputs": [
    {
     "name": "stdout",
     "output_type": "stream",
     "text": [
      "Kernel SVM on initial data: accuracy = 0.8828, training time = 297.6544988155365, testing time = 70.27885007858276\n"
     ]
    }
   ],
   "source": [
    "#kernel SVM on initial data\n",
    "start_train = time.time()\n",
    "SVM_k_initial = SVC(kernel='rbf', random_state=0).fit(x_train, y_train)\n",
    "end_train = time.time() - start_train\n",
    "start_test = time.time()\n",
    "y_pred_SVM_k_initial = SVM_k_initial.predict(x_test)\n",
    "end_test = time.time() - start_test \n",
    "acc2 = accuracy_score(y_test, y_pred_SVM_k_initial)\n",
    "print(f'Kernel SVM on initial data: accuracy = {acc2}, training time = {end_train}, testing time = {end_test}')"
   ]
  },
  {
   "cell_type": "code",
   "execution_count": 15,
   "metadata": {
    "colab": {
     "base_uri": "https://localhost:8080/"
    },
    "id": "tyoTOAf-MQhE",
    "outputId": "1313fb43-968c-43fb-d424-98d4386c7966"
   },
   "outputs": [
    {
     "name": "stdout",
     "output_type": "stream",
     "text": [
      "Linear SVM on initial data: accuracy = 0.8828, training time = 298.08090686798096, testing time = 70.39896392822266\n"
     ]
    }
   ],
   "source": [
    "#linear SVM on initial data\n",
    "start_train = time.time()\n",
    "SVM_initial = SVC(random_state=0).fit(x_train, y_train)\n",
    "end_train = time.time() - start_train\n",
    "start_test = time.time()\n",
    "y_pred_SVM_initial = SVM_initial.predict(x_test)\n",
    "end_test = time.time() - start_test\n",
    "acc3 = accuracy_score(y_test, y_pred_SVM_initial)\n",
    "print(f'Linear SVM on initial data: accuracy = {acc3}, training time = {end_train}, testing time = {end_test}')\n"
   ]
  },
  {
   "cell_type": "code",
   "execution_count": 17,
   "metadata": {
    "colab": {
     "base_uri": "https://localhost:8080/"
    },
    "id": "Fso3vORvzmK0",
    "outputId": "8bb55c3f-f712-44d6-bc05-713262a6a708"
   },
   "outputs": [
    {
     "name": "stdout",
     "output_type": "stream",
     "text": [
      "PCA + RFF + linear SVM: accuracy = 0.8688, training time = 260.63614106178284, testing time = 0.2239077091217041\n"
     ]
    }
   ],
   "source": [
    "#PCA + RFF + linear SVM\n",
    "start_train = time.time()\n",
    "rff_PCA_SVM = RFFPipeline(n_features=1000, new_dim=50, use_PCA=True, classifier='svm') \n",
    "rff_PCA_SVM  = rff_PCA_SVM.fit(x_train, y_train)\n",
    "end_train = time.time() - start_train\n",
    "start_test = time.time()\n",
    "y_pred_rff_PCA_SVM  = rff_PCA_SVM.predict(x_test)\n",
    "end_test = time.time() - start_test\n",
    "acc7 = accuracy_score(y_test, y_pred_rff_PCA_SVM)\n",
    "print(f'PCA + RFF + linear SVM: accuracy = {acc7}, training time = {end_train}, testing time = {end_test}')\n"
   ]
  },
  {
   "cell_type": "code",
   "execution_count": 16,
   "metadata": {
    "colab": {
     "base_uri": "https://localhost:8080/"
    },
    "id": "b950UB8Qnwhd",
    "outputId": "ad5a4170-7cab-4a12-d0b4-a99cf3f66936"
   },
   "outputs": [
    {
     "name": "stdout",
     "output_type": "stream",
     "text": [
      "CatBoost with PCA: accuracy = 0.874, training time = 229.69751906394958, testing time = 0.1518232822418213\n"
     ]
    }
   ],
   "source": [
    "#CatBoost with PCA\n",
    "from catboost import CatBoostClassifier\n",
    "\n",
    "start_train = time.time()\n",
    "pca = PCA(n_components=50)\n",
    "x_train_pca = pca.fit_transform(x_train)\n",
    "\n",
    "cat = CatBoostClassifier(learning_rate = 0.03, depth = 10, verbose = False)\n",
    "cat = cat.fit(x_train_pca, y_train)\n",
    "end_train = time.time() - start_train\n",
    "start_test = time.time()\n",
    "x_test_pca = pca.transform(x_test)\n",
    "y_pred_cat = cat.predict(x_test_pca)\n",
    "end_test = time.time() - start_test\n",
    "acc4 = accuracy_score(y_test, y_pred_cat)\n",
    "print(f'CatBoost with PCA: accuracy = {acc4}, training time = {end_train}, testing time = {end_test}')\n"
   ]
  },
  {
   "cell_type": "code",
   "execution_count": 20,
   "metadata": {
    "colab": {
     "base_uri": "https://localhost:8080/"
    },
    "id": "0IT5_XaxbArW",
    "outputId": "9881cc17-cfa7-4667-978d-4fadba905c2c"
   },
   "outputs": [
    {
     "name": "stdout",
     "output_type": "stream",
     "text": [
      "PCA + RFF + Logreg: accuracy = 0.8571, training time = 19.048567056655884, testing time = 0.23002195358276367\n"
     ]
    }
   ],
   "source": [
    "import warnings\n",
    "warnings.filterwarnings(\"ignore\")\n",
    "\n",
    "import time \n",
    "\n",
    "#PCA + RFF + Logreg\n",
    "start_train = time.time()\n",
    "rff = RFFPipeline() \n",
    "rff = rff.fit(x_train, y_train)\n",
    "end_train = time.time() - start_train\n",
    "start_test = time.time()\n",
    "y_pred = rff.predict(x_test)\n",
    "end_test = time.time() - start_test\n",
    "acc1 = accuracy_score(y_test, y_pred)\n",
    "print(f'PCA + RFF + Logreg: accuracy = {acc1}, training time = {end_train}, testing time = {end_test}')\n"
   ]
  },
  {
   "cell_type": "markdown",
   "metadata": {},
   "source": [
    "**Выводы:** как видим, каждый из представленных подходов дает примерно одинаковое высокое качество. \n",
    "\n",
    "При сравнении SVM на исходных данных с PCA + RFF + linear SVM можно сделать вывод, что третий вариант дает лучшие результаты с точки зрения времени: время и обучения, и применения ниже, чем у обоих вариантов SVM на исходных данных. \n",
    "\n",
    "Однако выигрышнее всех трех описанных выше вариантов оказался бустинг с PCA: результаты выше и с точки зрения качества, и с точки зрения времени. Но в сравнении бустинга с PCA + RFF + Logreg логрег со случайными признаками дает качество несильно ниже кэтбуста, но при этом время обучения значительно ниже у логистической регрессии. \n",
    "\n",
    "Таким образом, подход со случайными признаками кажется оптимальным вариантом, поскольку он дает такие же высокие метрики качества, но по времени оказывается быстрее. "
   ]
  },
  {
   "cell_type": "markdown",
   "metadata": {
    "id": "e6umjhWuK-hV"
   },
   "source": [
    "__Задание 3. (2 балла)__\n",
    "\n",
    "Проведите эксперименты:\n",
    "1. Помогает ли предварительное понижение размерности с помощью PCA? \n",
    "2. Как зависит итоговое качество от n_features? Выходит ли оно на плато при росте n_features?\n",
    "3. Важно ли, какую модель обучать — логистическую регрессию или SVM?"
   ]
  },
  {
   "cell_type": "markdown",
   "metadata": {},
   "source": [
    "1) Исследуем влияние понижения размерности через PCA на результаты"
   ]
  },
  {
   "cell_type": "code",
   "execution_count": 18,
   "metadata": {
    "id": "DSZexA2Mn5h4"
   },
   "outputs": [
    {
     "name": "stdout",
     "output_type": "stream",
     "text": [
      "RFF + linear SVM: accuracy = 0.8566, training time = 281.3163697719574, testing time = 0.39263415336608887\n"
     ]
    }
   ],
   "source": [
    "#RFF + linear SVM\n",
    "start_train = time.time()\n",
    "rff_SVM = RFFPipeline(n_features=1000, new_dim=50, use_PCA=False, classifier='svm') \n",
    "rff_SVM = rff_SVM.fit(x_train.astype(np.float64), y_train)\n",
    "end_train = time.time() - start_train\n",
    "start_test = time.time()\n",
    "y_pred_rff_SVM = rff_SVM.predict(x_test)\n",
    "end_test = time.time() - start_test\n",
    "acc6 = accuracy_score(y_test, y_pred_rff_SVM)\n",
    "print(f'RFF + linear SVM: accuracy = {acc6}, training time = {end_train}, testing time = {end_test}')\n"
   ]
  },
  {
   "cell_type": "code",
   "execution_count": 17,
   "metadata": {
    "colab": {
     "base_uri": "https://localhost:8080/"
    },
    "id": "Fso3vORvzmK0",
    "outputId": "8bb55c3f-f712-44d6-bc05-713262a6a708"
   },
   "outputs": [
    {
     "name": "stdout",
     "output_type": "stream",
     "text": [
      "PCA + RFF + linear SVM: accuracy = 0.8688, training time = 260.63614106178284, testing time = 0.2239077091217041\n"
     ]
    }
   ],
   "source": [
    "#PCA + RFF + linear SVM\n",
    "start_train = time.time()\n",
    "rff_PCA_SVM = RFFPipeline(n_features=1000, new_dim=50, use_PCA=True, classifier='svm') \n",
    "rff_PCA_SVM  = rff_PCA_SVM.fit(x_train, y_train)\n",
    "end_train = time.time() - start_train\n",
    "start_test = time.time()\n",
    "y_pred_rff_PCA_SVM  = rff_PCA_SVM.predict(x_test)\n",
    "end_test = time.time() - start_test\n",
    "acc7 = accuracy_score(y_test, y_pred_rff_PCA_SVM)\n",
    "print(f'PCA + RFF + linear SVM: accuracy = {acc7}, training time = {end_train}, testing time = {end_test}')\n"
   ]
  },
  {
   "cell_type": "code",
   "execution_count": 19,
   "metadata": {
    "id": "c2QIHIMbK-hW"
   },
   "outputs": [
    {
     "name": "stdout",
     "output_type": "stream",
     "text": [
      "RFF + Logreg: accuracy = 0.8666, training time = 34.315184116363525, testing time = 0.4032912254333496\n"
     ]
    }
   ],
   "source": [
    "#RFF + Logreg\n",
    "start_train = time.time()\n",
    "rff_logreg = RFFPipeline(n_features=1000, new_dim=50, use_PCA=False, classifier='logreg') \n",
    "rff_logreg = rff_logreg.fit(x_train.astype(np.float64), y_train)\n",
    "end_train = time.time() - start_train\n",
    "start_test = time.time()\n",
    "y_pred_rff_logreg = rff_logreg.predict(x_test)\n",
    "end_test = time.time() - start_test\n",
    "acc5 = accuracy_score(y_test, y_pred_rff_logreg)\n",
    "print(f'RFF + Logreg: accuracy = {acc5}, training time = {end_train}, testing time = {end_test}')\n"
   ]
  },
  {
   "cell_type": "code",
   "execution_count": 20,
   "metadata": {
    "colab": {
     "base_uri": "https://localhost:8080/"
    },
    "id": "0IT5_XaxbArW",
    "outputId": "9881cc17-cfa7-4667-978d-4fadba905c2c"
   },
   "outputs": [
    {
     "name": "stdout",
     "output_type": "stream",
     "text": [
      "PCA + RFF + Logreg: accuracy = 0.8571, training time = 19.048567056655884, testing time = 0.23002195358276367\n"
     ]
    }
   ],
   "source": [
    "import warnings\n",
    "warnings.filterwarnings(\"ignore\")\n",
    "\n",
    "import time \n",
    "\n",
    "#PCA + RFF + Logreg\n",
    "start_train = time.time()\n",
    "rff = RFFPipeline() \n",
    "rff = rff.fit(x_train, y_train)\n",
    "end_train = time.time() - start_train\n",
    "start_test = time.time()\n",
    "y_pred = rff.predict(x_test)\n",
    "end_test = time.time() - start_test\n",
    "acc1 = accuracy_score(y_test, y_pred)\n",
    "print(f'PCA + RFF + Logreg: accuracy = {acc1}, training time = {end_train}, testing time = {end_test}')\n"
   ]
  },
  {
   "cell_type": "markdown",
   "metadata": {},
   "source": [
    "Значит, предварительное поонижение размерности с PCA позволяет снизить время обучения и применения модели, а также в некоторых случаях увеличить качество модели.  "
   ]
  },
  {
   "cell_type": "markdown",
   "metadata": {},
   "source": [
    "2) Проверим зависимость качества от n_features"
   ]
  },
  {
   "cell_type": "code",
   "execution_count": 3,
   "metadata": {},
   "outputs": [],
   "source": [
    "import warnings\n",
    "warnings.filterwarnings(\"ignore\")"
   ]
  },
  {
   "cell_type": "code",
   "execution_count": 4,
   "metadata": {},
   "outputs": [],
   "source": [
    "accuracies_l = []\n",
    "accuracies_s = []\n",
    "for i in [100, 250, 500, 1000, 2000, 3000]:\n",
    "    #PCA + RFF + Logreg\n",
    "    rff_logreg = RFFPipeline(n_features=i, new_dim=50, use_PCA=True, classifier='logreg') \n",
    "    rff_logreg = rff_logreg.fit(x_train.astype(np.float64), y_train)\n",
    "    y_pred_logreg = rff_logreg.predict(x_test)\n",
    "    acc_l = accuracy_score(y_test, y_pred_logreg)\n",
    "    accuracies_l.append(acc_l)\n",
    "    \n",
    "    #PCA + RFF + linear SVM\n",
    "    rff_svm = RFFPipeline(n_features=i, new_dim=50, use_PCA=True, classifier='svm') \n",
    "    rff_svm = rff_svm.fit(x_train.astype(np.float64), y_train)\n",
    "    y_pred_svm = rff_svm.predict(x_test)\n",
    "    acc_s = accuracy_score(y_test, y_pred_svm)\n",
    "    accuracies_s.append(acc_s)"
   ]
  },
  {
   "cell_type": "code",
   "execution_count": 5,
   "metadata": {},
   "outputs": [
    {
     "data": {
      "image/png": "[encoded data removed]",
      "text/plain": [
       "<Figure size 432x288 with 1 Axes>"
      ]
     },
     "metadata": {
      "needs_background": "light"
     },
     "output_type": "display_data"
    }
   ],
   "source": [
    "import matplotlib.pyplot as plt\n",
    "x = [100, 250, 500, 1000, 2000, 3000]\n",
    "\n",
    "plt.plot(x, accuracies_l, label='PCA + RFF + Logreg')\n",
    "plt.plot(x, accuracies_s, label='PCA + RFF + linear SVM')\n",
    "plt.legend()\n",
    "plt.title('Accuracy with different n_features')\n",
    "plt.xlabel('n_features')\n",
    "plt.ylabel('accuracy')\n",
    "plt.show()"
   ]
  },
  {
   "cell_type": "markdown",
   "metadata": {},
   "source": [
    "Как видим, в случае с логрегом качество, и вправду, выходит на плато, однако качество на SVM продолжает расти с увеличением n_features."
   ]
  },
  {
   "cell_type": "markdown",
   "metadata": {},
   "source": [
    "3) Из всех проведенных выше экспериментов можно сделать вывод, что SVM дает более высокий результат с точки зрения качества, однако линейная регрессия гораздо быстрее обучается и применяется. Таким образом, выбор между моделями должен строиться относительно целей: в случае если требуется получить как можно более высокое качество, то следует использовать SVM, а если важна оперативность модели - линейную регрессию. "
   ]
  },
  {
   "cell_type": "markdown",
   "metadata": {
    "id": "CJqXVuasK-hW"
   },
   "source": [
    "### Бонус"
   ]
  },
  {
   "cell_type": "markdown",
   "metadata": {
    "id": "QVDWHCdrK-hX"
   },
   "source": [
    "__Задание 4. (Максимум 2 балла)__\n",
    "\n",
    "Как вы, должно быть, помните с курса МО-1, многие алгоритмы машинного обучения работают лучше, если признаки данных некоррелированы. Оказывается, что для RFF существует модификация, позволяющая получать ортогональные случайные признаки (Orthogonal Random Features, ORF). Об этом методе можно прочитать в [статье](https://proceedings.neurips.cc/paper/2016/file/53adaf494dc89ef7196d73636eb2451b-Paper.pdf). Реализуйте класс для вычисления ORF по аналогии с основным заданием. Обратите внимание, что ваш класс должен уметь работать со случаем n_features > new_dim (в статье есть замечание на этот счет). Проведите эксперименты, сравнивающие RFF и ORF, сделайте выводы."
   ]
  },
  {
   "cell_type": "code",
   "execution_count": null,
   "metadata": {
    "id": "HSxvGI9iK-hX"
   },
   "outputs": [],
   "source": [
    "# Your code here: (￣▽￣)/♫•*¨*•.¸¸♪"
   ]
  },
  {
   "cell_type": "markdown",
   "metadata": {
    "id": "4pc7-1jmK-hY"
   },
   "source": [
    "__Задание 5. (Максимум 2 балла)__\n",
    "\n",
    "Поэкспериментируйте с функциями для вычисления новых случайных признаков. Не обязательно использовать косинус от скалярного произведения — можно брать знак от него, хэш и т.д. Придумайте побольше вариантов для генерации признаков и проверьте, не получается ли с их помощью добиваться более высокого качества. Также можете попробовать другой классификатор поверх случайных признаков, сравните результаты."
   ]
  },
  {
   "cell_type": "code",
   "execution_count": null,
   "metadata": {
    "id": "dWj-O2vjK-hY"
   },
   "outputs": [],
   "source": [
    "# Your code here: (￣▽￣)/♫•*¨*•.¸¸♪"
   ]
  },
  {
   "cell_type": "markdown",
   "metadata": {},
   "source": [
    "## Эксперименты с функцией в RFF"
   ]
  },
  {
   "cell_type": "markdown",
   "metadata": {},
   "source": [
    "### Cos"
   ]
  },
  {
   "cell_type": "code",
   "execution_count": 10,
   "metadata": {
    "id": "JIhRbvV3nkAI"
   },
   "outputs": [],
   "source": [
    "from sklearn.base import BaseEstimator, TransformerMixin\n",
    "from sklearn.decomposition import PCA\n",
    "import numpy as np\n",
    "import math\n",
    "from sklearn.linear_model import LogisticRegression\n",
    "from sklearn.svm import SVC\n",
    "from sklearn.svm import LinearSVC\n",
    "from sklearn.metrics import accuracy_score\n",
    "\n",
    "class RFFPipeline(BaseEstimator, TransformerMixin):\n",
    "    def __init__(self, n_features=1000, new_dim=50, use_PCA=True, classifier='logreg'):\n",
    "        \"\"\"        \n",
    "        Implements pipeline, which consists of PCA decomposition,\n",
    "        Random Fourier Features approximation and linear classification model.\n",
    "        \n",
    "        n_features, int: amount of synthetic random features generated with RFF approximation.\n",
    "\n",
    "        new_dim, int: PCA output size.\n",
    "        \n",
    "        use_PCA, bool: whether to include PCA preprocessing.\n",
    "        \n",
    "        classifier, string: either 'svm' or 'logreg', a linear classification model to use on top of pipeline.\n",
    "        \n",
    "        Feel free to edit this template for your preferences.    \n",
    "        \"\"\"\n",
    "        self.n_features = n_features\n",
    "        self.use_PCA = use_PCA\n",
    "        self.new_dim = new_dim\n",
    "        self.classifier = classifier\n",
    "        \n",
    "    def fit(self, X, y):\n",
    "        \"\"\"\n",
    "        Fit all parts of algorithm (PCA, RFF, Classification) to training set.\n",
    "        \"\"\"\n",
    "        # Your code here: (￣▽￣)/♫•*¨*•.¸¸♪\n",
    "\n",
    "        #PCA\n",
    "        if self.use_PCA == True:\n",
    "            self.pca = PCA(n_components=self.new_dim)\n",
    "            X = self.pca.fit_transform(X)\n",
    "  \n",
    "        \n",
    "\n",
    "        #RFF\n",
    "        #let's find sigma\n",
    "        id1 = np.random.randint(X.shape[0], size=1000000)\n",
    "        id2 = np.random.randint(X.shape[0], size=1000000)\n",
    "        sigma = np.sqrt(np.median(np.sum((X[id1] - X[id2])**2, axis = 1)))\n",
    "\n",
    "        #let's generate w and b\n",
    "        np.random.seed(0)\n",
    "        self.w = np.random.normal(0, 1/sigma, size = (X.shape[1], self.n_features))\n",
    "        self.b = np.random.uniform(-math.pi, math.pi, size = (self.n_features))\n",
    "\n",
    "        #let's generate new features\n",
    "        X_new = np.cos(X.dot(self.w) + self.b)\n",
    "\n",
    "\n",
    "        \n",
    "        #MODEL\n",
    "        if self.classifier == 'logreg':\n",
    "            self.model = LogisticRegression(random_state=0).fit(X_new, y)\n",
    "\n",
    "        elif self.classifier == 'svm':\n",
    "            self.model = LinearSVC(random_state=0).fit(X_new, y)\n",
    "\n",
    "        return self\n",
    "\n",
    "    def predict_proba(self, X):\n",
    "        \"\"\"\n",
    "        Apply pipeline to obtain scores for input data.\n",
    "        \"\"\"\n",
    "        # Your code here: (￣▽￣)/♫•*¨*•.¸¸♪\n",
    "\n",
    "        #PCA\n",
    "        if self.use_PCA == True:\n",
    "            X = self.pca.transform(X)\n",
    "  \n",
    "        \n",
    "\n",
    "        #RFF\n",
    "        #let's generate new features\n",
    "        X_new = np.cos(X.dot(self.w) + self.b)\n",
    "\n",
    "\n",
    "\n",
    "        #PREDICTIONS\n",
    "        predictions_prob = self.model.predict_proba(X_new)\n",
    "\n",
    "        return predictions_prob\n",
    "        \n",
    "    def predict(self, X):\n",
    "        \"\"\"\n",
    "        Apply pipeline to obtain discrete predictions for input data.\n",
    "        \"\"\"\n",
    "        # Your code here: (￣▽￣)/♫•*¨*•.¸¸♪\n",
    "\n",
    "        #PCA\n",
    "        if self.use_PCA == True:\n",
    "            X = self.pca.transform(X)\n",
    "  \n",
    "        \n",
    "\n",
    "        #RFF\n",
    "        #let's generate new features\n",
    "        X_new = np.cos(X.dot(self.w) + self.b)\n",
    "\n",
    "\n",
    "\n",
    "        #PREDICTIONS\n",
    "        predictions = self.model.predict(X_new)\n",
    "\n",
    "        return predictions"
   ]
  },
  {
   "cell_type": "code",
   "execution_count": 11,
   "metadata": {
    "colab": {
     "base_uri": "https://localhost:8080/"
    },
    "id": "0IT5_XaxbArW",
    "outputId": "9881cc17-cfa7-4667-978d-4fadba905c2c"
   },
   "outputs": [
    {
     "name": "stdout",
     "output_type": "stream",
     "text": [
      "PCA + RFF(cos) + Logreg: accuracy = 0.8615, time = 26.794602155685425\n"
     ]
    }
   ],
   "source": [
    "import warnings\n",
    "warnings.filterwarnings(\"ignore\")\n",
    "\n",
    "import time \n",
    "\n",
    "#PCA + RFF + Logreg\n",
    "start = time.time()\n",
    "rff = RFFPipeline() \n",
    "rff = rff.fit(x_train, y_train)\n",
    "y_pred = rff.predict(x_test)\n",
    "acc1 = accuracy_score(y_test, y_pred)\n",
    "end = time.time() - start \n",
    "print(f'PCA + RFF(cos) + Logreg: accuracy = {acc1}, time = {end}')"
   ]
  },
  {
   "cell_type": "markdown",
   "metadata": {},
   "source": [
    "### Sigmoid"
   ]
  },
  {
   "cell_type": "code",
   "execution_count": 12,
   "metadata": {
    "id": "JIhRbvV3nkAI"
   },
   "outputs": [],
   "source": [
    "from sklearn.base import BaseEstimator, TransformerMixin\n",
    "from sklearn.decomposition import PCA\n",
    "import numpy as np\n",
    "import math\n",
    "from sklearn.linear_model import LogisticRegression\n",
    "from sklearn.svm import SVC\n",
    "from sklearn.svm import LinearSVC\n",
    "from sklearn.metrics import accuracy_score\n",
    "from scipy.special import expit\n",
    "\n",
    "class RFFPipeline(BaseEstimator, TransformerMixin):\n",
    "    def __init__(self, n_features=1000, new_dim=50, use_PCA=True, classifier='logreg'):\n",
    "        \"\"\"        \n",
    "        Implements pipeline, which consists of PCA decomposition,\n",
    "        Random Fourier Features approximation and linear classification model.\n",
    "        \n",
    "        n_features, int: amount of synthetic random features generated with RFF approximation.\n",
    "\n",
    "        new_dim, int: PCA output size.\n",
    "        \n",
    "        use_PCA, bool: whether to include PCA preprocessing.\n",
    "        \n",
    "        classifier, string: either 'svm' or 'logreg', a linear classification model to use on top of pipeline.\n",
    "        \n",
    "        Feel free to edit this template for your preferences.    \n",
    "        \"\"\"\n",
    "        self.n_features = n_features\n",
    "        self.use_PCA = use_PCA\n",
    "        self.new_dim = new_dim\n",
    "        self.classifier = classifier\n",
    "        \n",
    "    def fit(self, X, y):\n",
    "        \"\"\"\n",
    "        Fit all parts of algorithm (PCA, RFF, Classification) to training set.\n",
    "        \"\"\"\n",
    "        # Your code here: (￣▽￣)/♫•*¨*•.¸¸♪\n",
    "\n",
    "        #PCA\n",
    "        if self.use_PCA == True:\n",
    "            self.pca = PCA(n_components=self.new_dim)\n",
    "            X = self.pca.fit_transform(X)\n",
    "  \n",
    "        \n",
    "\n",
    "        #RFF\n",
    "        #let's find sigma\n",
    "        id1 = np.random.randint(X.shape[0], size=1000000)\n",
    "        id2 = np.random.randint(X.shape[0], size=1000000)\n",
    "        sigma = np.sqrt(np.median(np.sum((X[id1] - X[id2])**2, axis = 1)))\n",
    "\n",
    "        #let's generate w and b\n",
    "        np.random.seed(0)\n",
    "        self.w = np.random.normal(0, 1/sigma, size = (X.shape[1], self.n_features))\n",
    "        self.b = np.random.uniform(-math.pi, math.pi, size = (self.n_features))\n",
    "\n",
    "        #let's generate new features\n",
    "        X_new = expit(X.dot(self.w) + self.b)\n",
    "\n",
    "\n",
    "        \n",
    "        #MODEL\n",
    "        if self.classifier == 'logreg':\n",
    "            self.model = LogisticRegression(random_state=0).fit(X_new, y)\n",
    "\n",
    "        elif self.classifier == 'svm':\n",
    "            self.model = LinearSVC(random_state=0).fit(X_new, y)\n",
    "\n",
    "        return self\n",
    "\n",
    "    def predict_proba(self, X):\n",
    "        \"\"\"\n",
    "        Apply pipeline to obtain scores for input data.\n",
    "        \"\"\"\n",
    "        # Your code here: (￣▽￣)/♫•*¨*•.¸¸♪\n",
    "\n",
    "        #PCA\n",
    "        if self.use_PCA == True:\n",
    "            X = self.pca.transform(X)\n",
    "  \n",
    "        \n",
    "\n",
    "        #RFF\n",
    "        #let's generate new features\n",
    "        X_new = expit(X.dot(self.w) + self.b)\n",
    "\n",
    "\n",
    "\n",
    "        #PREDICTIONS\n",
    "        predictions_prob = self.model.predict_proba(X_new)\n",
    "\n",
    "        return predictions_prob\n",
    "        \n",
    "    def predict(self, X):\n",
    "        \"\"\"\n",
    "        Apply pipeline to obtain discrete predictions for input data.\n",
    "        \"\"\"\n",
    "        # Your code here: (￣▽￣)/♫•*¨*•.¸¸♪\n",
    "\n",
    "        #PCA\n",
    "        if self.use_PCA == True:\n",
    "            X = self.pca.transform(X)\n",
    "  \n",
    "        \n",
    "\n",
    "        #RFF\n",
    "        #let's generate new features\n",
    "        X_new = expit(X.dot(self.w) + self.b)\n",
    "\n",
    "\n",
    "\n",
    "        #PREDICTIONS\n",
    "        predictions = self.model.predict(X_new)\n",
    "\n",
    "        return predictions"
   ]
  },
  {
   "cell_type": "code",
   "execution_count": 13,
   "metadata": {
    "colab": {
     "base_uri": "https://localhost:8080/"
    },
    "id": "0IT5_XaxbArW",
    "outputId": "9881cc17-cfa7-4667-978d-4fadba905c2c"
   },
   "outputs": [
    {
     "name": "stdout",
     "output_type": "stream",
     "text": [
      "PCA + RFF(expit) + Logreg: accuracy = 0.8118, time = 25.31907296180725\n"
     ]
    }
   ],
   "source": [
    "import warnings\n",
    "warnings.filterwarnings(\"ignore\")\n",
    "\n",
    "import time \n",
    "\n",
    "#PCA + RFF + Logreg\n",
    "start = time.time()\n",
    "rff = RFFPipeline() \n",
    "rff = rff.fit(x_train, y_train)\n",
    "y_pred = rff.predict(x_test)\n",
    "acc1 = accuracy_score(y_test, y_pred)\n",
    "end = time.time() - start \n",
    "print(f'PCA + RFF(expit) + Logreg: accuracy = {acc1}, time = {end}')"
   ]
  },
  {
   "cell_type": "markdown",
   "metadata": {},
   "source": [
    "### Sin"
   ]
  },
  {
   "cell_type": "code",
   "execution_count": 14,
   "metadata": {
    "id": "JIhRbvV3nkAI"
   },
   "outputs": [],
   "source": [
    "from sklearn.base import BaseEstimator, TransformerMixin\n",
    "from sklearn.decomposition import PCA\n",
    "import numpy as np\n",
    "import math\n",
    "from sklearn.linear_model import LogisticRegression\n",
    "from sklearn.svm import SVC\n",
    "from sklearn.svm import LinearSVC\n",
    "from sklearn.metrics import accuracy_score\n",
    "\n",
    "class RFFPipeline(BaseEstimator, TransformerMixin):\n",
    "    def __init__(self, n_features=1000, new_dim=50, use_PCA=True, classifier='logreg'):\n",
    "        \"\"\"        \n",
    "        Implements pipeline, which consists of PCA decomposition,\n",
    "        Random Fourier Features approximation and linear classification model.\n",
    "        \n",
    "        n_features, int: amount of synthetic random features generated with RFF approximation.\n",
    "\n",
    "        new_dim, int: PCA output size.\n",
    "        \n",
    "        use_PCA, bool: whether to include PCA preprocessing.\n",
    "        \n",
    "        classifier, string: either 'svm' or 'logreg', a linear classification model to use on top of pipeline.\n",
    "        \n",
    "        Feel free to edit this template for your preferences.    \n",
    "        \"\"\"\n",
    "        self.n_features = n_features\n",
    "        self.use_PCA = use_PCA\n",
    "        self.new_dim = new_dim\n",
    "        self.classifier = classifier\n",
    "        \n",
    "    def fit(self, X, y):\n",
    "        \"\"\"\n",
    "        Fit all parts of algorithm (PCA, RFF, Classification) to training set.\n",
    "        \"\"\"\n",
    "        # Your code here: (￣▽￣)/♫•*¨*•.¸¸♪\n",
    "\n",
    "        #PCA\n",
    "        if self.use_PCA == True:\n",
    "            self.pca = PCA(n_components=self.new_dim)\n",
    "            X = self.pca.fit_transform(X)\n",
    "  \n",
    "        \n",
    "\n",
    "        #RFF\n",
    "        #let's find sigma\n",
    "        id1 = np.random.randint(X.shape[0], size=1000000)\n",
    "        id2 = np.random.randint(X.shape[0], size=1000000)\n",
    "        sigma = np.sqrt(np.median(np.sum((X[id1] - X[id2])**2, axis = 1)))\n",
    "\n",
    "        #let's generate w and b\n",
    "        np.random.seed(0)\n",
    "        self.w = np.random.normal(0, 1/sigma, size = (X.shape[1], self.n_features))\n",
    "        self.b = np.random.uniform(-math.pi, math.pi, size = (self.n_features))\n",
    "\n",
    "        #let's generate new features\n",
    "        X_new = np.sin(X.dot(self.w) + self.b)\n",
    "\n",
    "\n",
    "        \n",
    "        #MODEL\n",
    "        if self.classifier == 'logreg':\n",
    "            self.model = LogisticRegression(random_state=0).fit(X_new, y)\n",
    "\n",
    "        elif self.classifier == 'svm':\n",
    "            self.model = LinearSVC(random_state=0).fit(X_new, y)\n",
    "\n",
    "        return self\n",
    "\n",
    "    def predict_proba(self, X):\n",
    "        \"\"\"\n",
    "        Apply pipeline to obtain scores for input data.\n",
    "        \"\"\"\n",
    "        # Your code here: (￣▽￣)/♫•*¨*•.¸¸♪\n",
    "\n",
    "        #PCA\n",
    "        if self.use_PCA == True:\n",
    "            X = self.pca.transform(X)\n",
    "  \n",
    "        \n",
    "\n",
    "        #RFF\n",
    "        #let's generate new features\n",
    "        X_new = np.sin(X.dot(self.w) + self.b)\n",
    "\n",
    "\n",
    "\n",
    "        #PREDICTIONS\n",
    "        predictions_prob = self.model.predict_proba(X_new)\n",
    "\n",
    "        return predictions_prob\n",
    "        \n",
    "    def predict(self, X):\n",
    "        \"\"\"\n",
    "        Apply pipeline to obtain discrete predictions for input data.\n",
    "        \"\"\"\n",
    "        # Your code here: (￣▽￣)/♫•*¨*•.¸¸♪\n",
    "\n",
    "        #PCA\n",
    "        if self.use_PCA == True:\n",
    "            X = self.pca.transform(X)\n",
    "  \n",
    "        \n",
    "\n",
    "        #RFF\n",
    "        #let's generate new features\n",
    "        X_new = np.sin(X.dot(self.w) + self.b)\n",
    "\n",
    "\n",
    "\n",
    "        #PREDICTIONS\n",
    "        predictions = self.model.predict(X_new)\n",
    "\n",
    "        return predictions"
   ]
  },
  {
   "cell_type": "code",
   "execution_count": 15,
   "metadata": {
    "colab": {
     "base_uri": "https://localhost:8080/"
    },
    "id": "0IT5_XaxbArW",
    "outputId": "9881cc17-cfa7-4667-978d-4fadba905c2c"
   },
   "outputs": [
    {
     "name": "stdout",
     "output_type": "stream",
     "text": [
      "PCA + RFF(sin) + Logreg: accuracy = 0.8574, time = 25.610130786895752\n"
     ]
    }
   ],
   "source": [
    "import warnings\n",
    "warnings.filterwarnings(\"ignore\")\n",
    "\n",
    "import time \n",
    "\n",
    "#PCA + RFF + Logreg\n",
    "start = time.time()\n",
    "rff = RFFPipeline() \n",
    "rff = rff.fit(x_train, y_train)\n",
    "y_pred = rff.predict(x_test)\n",
    "acc1 = accuracy_score(y_test, y_pred)\n",
    "end = time.time() - start \n",
    "print(f'PCA + RFF(sin) + Logreg: accuracy = {acc1}, time = {end}')"
   ]
  },
  {
   "cell_type": "markdown",
   "metadata": {},
   "source": [
    "### Sign"
   ]
  },
  {
   "cell_type": "code",
   "execution_count": 16,
   "metadata": {
    "id": "JIhRbvV3nkAI"
   },
   "outputs": [],
   "source": [
    "from sklearn.base import BaseEstimator, TransformerMixin\n",
    "from sklearn.decomposition import PCA\n",
    "import numpy as np\n",
    "import math\n",
    "from sklearn.linear_model import LogisticRegression\n",
    "from sklearn.svm import SVC\n",
    "from sklearn.svm import LinearSVC\n",
    "from sklearn.metrics import accuracy_score\n",
    "\n",
    "class RFFPipeline(BaseEstimator, TransformerMixin):\n",
    "    def __init__(self, n_features=1000, new_dim=50, use_PCA=True, classifier='logreg'):\n",
    "        \"\"\"        \n",
    "        Implements pipeline, which consists of PCA decomposition,\n",
    "        Random Fourier Features approximation and linear classification model.\n",
    "        \n",
    "        n_features, int: amount of synthetic random features generated with RFF approximation.\n",
    "\n",
    "        new_dim, int: PCA output size.\n",
    "        \n",
    "        use_PCA, bool: whether to include PCA preprocessing.\n",
    "        \n",
    "        classifier, string: either 'svm' or 'logreg', a linear classification model to use on top of pipeline.\n",
    "        \n",
    "        Feel free to edit this template for your preferences.    \n",
    "        \"\"\"\n",
    "        self.n_features = n_features\n",
    "        self.use_PCA = use_PCA\n",
    "        self.new_dim = new_dim\n",
    "        self.classifier = classifier\n",
    "        \n",
    "    def fit(self, X, y):\n",
    "        \"\"\"\n",
    "        Fit all parts of algorithm (PCA, RFF, Classification) to training set.\n",
    "        \"\"\"\n",
    "        # Your code here: (￣▽￣)/♫•*¨*•.¸¸♪\n",
    "\n",
    "        #PCA\n",
    "        if self.use_PCA == True:\n",
    "            self.pca = PCA(n_components=self.new_dim)\n",
    "            X = self.pca.fit_transform(X)\n",
    "  \n",
    "        \n",
    "\n",
    "        #RFF\n",
    "        #let's find sigma\n",
    "        id1 = np.random.randint(X.shape[0], size=1000000)\n",
    "        id2 = np.random.randint(X.shape[0], size=1000000)\n",
    "        sigma = np.sqrt(np.median(np.sum((X[id1] - X[id2])**2, axis = 1)))\n",
    "\n",
    "        #let's generate w and b\n",
    "        np.random.seed(0)\n",
    "        self.w = np.random.normal(0, 1/sigma, size = (X.shape[1], self.n_features))\n",
    "        self.b = np.random.uniform(-math.pi, math.pi, size = (self.n_features))\n",
    "\n",
    "        #let's generate new features\n",
    "        X_new = np.sign(X.dot(self.w) + self.b)\n",
    "\n",
    "\n",
    "        \n",
    "        #MODEL\n",
    "        if self.classifier == 'logreg':\n",
    "            self.model = LogisticRegression(random_state=0).fit(X_new, y)\n",
    "\n",
    "        elif self.classifier == 'svm':\n",
    "            self.model = LinearSVC(random_state=0).fit(X_new, y)\n",
    "\n",
    "        return self\n",
    "\n",
    "    def predict_proba(self, X):\n",
    "        \"\"\"\n",
    "        Apply pipeline to obtain scores for input data.\n",
    "        \"\"\"\n",
    "        # Your code here: (￣▽￣)/♫•*¨*•.¸¸♪\n",
    "\n",
    "        #PCA\n",
    "        if self.use_PCA == True:\n",
    "            X = self.pca.transform(X)\n",
    "  \n",
    "        \n",
    "\n",
    "        #RFF\n",
    "        #let's generate new features\n",
    "        X_new = np.sign(X.dot(self.w) + self.b)\n",
    "\n",
    "\n",
    "\n",
    "        #PREDICTIONS\n",
    "        predictions_prob = self.model.predict_proba(X_new)\n",
    "\n",
    "        return predictions_prob\n",
    "        \n",
    "    def predict(self, X):\n",
    "        \"\"\"\n",
    "        Apply pipeline to obtain discrete predictions for input data.\n",
    "        \"\"\"\n",
    "        # Your code here: (￣▽￣)/♫•*¨*•.¸¸♪\n",
    "\n",
    "        #PCA\n",
    "        if self.use_PCA == True:\n",
    "            X = self.pca.transform(X)\n",
    "  \n",
    "        \n",
    "\n",
    "        #RFF\n",
    "        #let's generate new features\n",
    "        X_new = np.sign(X.dot(self.w) + self.b)\n",
    "\n",
    "\n",
    "\n",
    "        #PREDICTIONS\n",
    "        predictions = self.model.predict(X_new)\n",
    "\n",
    "        return predictions"
   ]
  },
  {
   "cell_type": "code",
   "execution_count": 17,
   "metadata": {
    "colab": {
     "base_uri": "https://localhost:8080/"
    },
    "id": "0IT5_XaxbArW",
    "outputId": "9881cc17-cfa7-4667-978d-4fadba905c2c"
   },
   "outputs": [
    {
     "name": "stdout",
     "output_type": "stream",
     "text": [
      "PCA + RFF(sign) + Logreg: accuracy = 0.8291, time = 25.42455816268921\n"
     ]
    }
   ],
   "source": [
    "import warnings\n",
    "warnings.filterwarnings(\"ignore\")\n",
    "\n",
    "import time \n",
    "\n",
    "#PCA + RFF + Logreg\n",
    "start = time.time()\n",
    "rff = RFFPipeline() \n",
    "rff = rff.fit(x_train, y_train)\n",
    "y_pred = rff.predict(x_test)\n",
    "acc1 = accuracy_score(y_test, y_pred)\n",
    "end = time.time() - start \n",
    "print(f'PCA + RFF(sign) + Logreg: accuracy = {acc1}, time = {end}')"
   ]
  },
  {
   "cell_type": "markdown",
   "metadata": {},
   "source": [
    "Таким образом, из рассмотренных функций cos дает самое высокое качество среди всех. "
   ]
  },
  {
   "cell_type": "markdown",
   "metadata": {},
   "source": [
    "## Эксперименты с классификатором"
   ]
  },
  {
   "cell_type": "markdown",
   "metadata": {},
   "source": [
    "### DecisionTree"
   ]
  },
  {
   "cell_type": "code",
   "execution_count": 18,
   "metadata": {
    "id": "JIhRbvV3nkAI"
   },
   "outputs": [],
   "source": [
    "from sklearn.base import BaseEstimator, TransformerMixin\n",
    "from sklearn.decomposition import PCA\n",
    "import numpy as np\n",
    "import math\n",
    "from sklearn.linear_model import LogisticRegression\n",
    "from sklearn.svm import SVC\n",
    "from sklearn.svm import LinearSVC\n",
    "from sklearn.metrics import accuracy_score\n",
    "from sklearn.tree import DecisionTreeClassifier\n",
    "\n",
    "class RFFPipeline(BaseEstimator, TransformerMixin):\n",
    "    def __init__(self, n_features=1000, new_dim=50, use_PCA=True, classifier='logreg'):\n",
    "        \"\"\"        \n",
    "        Implements pipeline, which consists of PCA decomposition,\n",
    "        Random Fourier Features approximation and linear classification model.\n",
    "        \n",
    "        n_features, int: amount of synthetic random features generated with RFF approximation.\n",
    "\n",
    "        new_dim, int: PCA output size.\n",
    "        \n",
    "        use_PCA, bool: whether to include PCA preprocessing.\n",
    "        \n",
    "        classifier, string: either 'svm' or 'logreg', a linear classification model to use on top of pipeline.\n",
    "        \n",
    "        Feel free to edit this template for your preferences.    \n",
    "        \"\"\"\n",
    "        self.n_features = n_features\n",
    "        self.use_PCA = use_PCA\n",
    "        self.new_dim = new_dim\n",
    "        self.classifier = classifier\n",
    "        \n",
    "    def fit(self, X, y):\n",
    "        \"\"\"\n",
    "        Fit all parts of algorithm (PCA, RFF, Classification) to training set.\n",
    "        \"\"\"\n",
    "        # Your code here: (￣▽￣)/♫•*¨*•.¸¸♪\n",
    "\n",
    "        #PCA\n",
    "        if self.use_PCA == True:\n",
    "            self.pca = PCA(n_components=self.new_dim)\n",
    "            X = self.pca.fit_transform(X)\n",
    "  \n",
    "        \n",
    "\n",
    "        #RFF\n",
    "        #let's find sigma\n",
    "        id1 = np.random.randint(X.shape[0], size=1000000)\n",
    "        id2 = np.random.randint(X.shape[0], size=1000000)\n",
    "        sigma = np.sqrt(np.median(np.sum((X[id1] - X[id2])**2, axis = 1)))\n",
    "\n",
    "        #let's generate w and b\n",
    "        np.random.seed(0)\n",
    "        self.w = np.random.normal(0, 1/sigma, size = (X.shape[1], self.n_features))\n",
    "        self.b = np.random.uniform(-math.pi, math.pi, size = (self.n_features))\n",
    "\n",
    "        #let's generate new features\n",
    "        X_new = np.cos(X.dot(self.w) + self.b)\n",
    "\n",
    "\n",
    "        \n",
    "        #MODEL\n",
    "        if self.classifier == 'logreg':\n",
    "            self.model = LogisticRegression(random_state=0).fit(X_new, y)\n",
    "\n",
    "        elif self.classifier == 'svm':\n",
    "            self.model = LinearSVC(random_state=0).fit(X_new, y)\n",
    "            \n",
    "        elif self.classifier == 'dt':\n",
    "            self.model = DecisionTreeClassifier(random_state=0).fit(X_new, y)\n",
    "\n",
    "        return self\n",
    "\n",
    "    def predict_proba(self, X):\n",
    "        \"\"\"\n",
    "        Apply pipeline to obtain scores for input data.\n",
    "        \"\"\"\n",
    "        # Your code here: (￣▽￣)/♫•*¨*•.¸¸♪\n",
    "\n",
    "        #PCA\n",
    "        if self.use_PCA == True:\n",
    "            X = self.pca.transform(X)\n",
    "  \n",
    "        \n",
    "\n",
    "        #RFF\n",
    "        #let's generate new features\n",
    "        X_new = np.cos(X.dot(self.w) + self.b)\n",
    "\n",
    "\n",
    "\n",
    "        #PREDICTIONS\n",
    "        predictions_prob = self.model.predict_proba(X_new)\n",
    "\n",
    "        return predictions_prob\n",
    "        \n",
    "    def predict(self, X):\n",
    "        \"\"\"\n",
    "        Apply pipeline to obtain discrete predictions for input data.\n",
    "        \"\"\"\n",
    "        # Your code here: (￣▽￣)/♫•*¨*•.¸¸♪\n",
    "\n",
    "        #PCA\n",
    "        if self.use_PCA == True:\n",
    "            X = self.pca.transform(X)\n",
    "  \n",
    "        \n",
    "\n",
    "        #RFF\n",
    "        #let's generate new features\n",
    "        X_new = np.cos(X.dot(self.w) + self.b)\n",
    "\n",
    "\n",
    "\n",
    "        #PREDICTIONS\n",
    "        predictions = self.model.predict(X_new)\n",
    "\n",
    "        return predictions"
   ]
  },
  {
   "cell_type": "code",
   "execution_count": 20,
   "metadata": {
    "colab": {
     "base_uri": "https://localhost:8080/"
    },
    "id": "0IT5_XaxbArW",
    "outputId": "9881cc17-cfa7-4667-978d-4fadba905c2c"
   },
   "outputs": [
    {
     "name": "stdout",
     "output_type": "stream",
     "text": [
      "PCA + RFF(cos) + DecisionTree: accuracy = 0.7709, time = 156.91668581962585\n"
     ]
    }
   ],
   "source": [
    "import warnings\n",
    "warnings.filterwarnings(\"ignore\")\n",
    "\n",
    "import time \n",
    "\n",
    "#PCA + RFF + DecisionTree\n",
    "start = time.time()\n",
    "rff = RFFPipeline(n_features=1000, new_dim=50, use_PCA=True, classifier='dt') \n",
    "rff = rff.fit(x_train, y_train)\n",
    "y_pred = rff.predict(x_test)\n",
    "acc1 = accuracy_score(y_test, y_pred)\n",
    "end = time.time() - start \n",
    "print(f'PCA + RFF(cos) + DecisionTree: accuracy = {acc1}, time = {end}')"
   ]
  },
  {
   "cell_type": "markdown",
   "metadata": {},
   "source": [
    "### KNN"
   ]
  },
  {
   "cell_type": "code",
   "execution_count": 25,
   "metadata": {
    "id": "JIhRbvV3nkAI"
   },
   "outputs": [],
   "source": [
    "from sklearn.base import BaseEstimator, TransformerMixin\n",
    "from sklearn.decomposition import PCA\n",
    "import numpy as np\n",
    "import math\n",
    "from sklearn.linear_model import LogisticRegression\n",
    "from sklearn.svm import SVC\n",
    "from sklearn.svm import LinearSVC\n",
    "from sklearn.metrics import accuracy_score\n",
    "from sklearn.neighbors import KNeighborsClassifier\n",
    "\n",
    "class RFFPipeline(BaseEstimator, TransformerMixin):\n",
    "    def __init__(self, n_features=1000, new_dim=50, use_PCA=True, classifier='logreg'):\n",
    "        \"\"\"        \n",
    "        Implements pipeline, which consists of PCA decomposition,\n",
    "        Random Fourier Features approximation and linear classification model.\n",
    "        \n",
    "        n_features, int: amount of synthetic random features generated with RFF approximation.\n",
    "\n",
    "        new_dim, int: PCA output size.\n",
    "        \n",
    "        use_PCA, bool: whether to include PCA preprocessing.\n",
    "        \n",
    "        classifier, string: either 'svm' or 'logreg', a linear classification model to use on top of pipeline.\n",
    "        \n",
    "        Feel free to edit this template for your preferences.    \n",
    "        \"\"\"\n",
    "        self.n_features = n_features\n",
    "        self.use_PCA = use_PCA\n",
    "        self.new_dim = new_dim\n",
    "        self.classifier = classifier\n",
    "        \n",
    "    def fit(self, X, y):\n",
    "        \"\"\"\n",
    "        Fit all parts of algorithm (PCA, RFF, Classification) to training set.\n",
    "        \"\"\"\n",
    "        # Your code here: (￣▽￣)/♫•*¨*•.¸¸♪\n",
    "\n",
    "        #PCA\n",
    "        if self.use_PCA == True:\n",
    "            self.pca = PCA(n_components=self.new_dim)\n",
    "            X = self.pca.fit_transform(X)\n",
    "  \n",
    "        \n",
    "\n",
    "        #RFF\n",
    "        #let's find sigma\n",
    "        id1 = np.random.randint(X.shape[0], size=1000000)\n",
    "        id2 = np.random.randint(X.shape[0], size=1000000)\n",
    "        sigma = np.sqrt(np.median(np.sum((X[id1] - X[id2])**2, axis = 1)))\n",
    "\n",
    "        #let's generate w and b\n",
    "        np.random.seed(0)\n",
    "        self.w = np.random.normal(0, 1/sigma, size = (X.shape[1], self.n_features))\n",
    "        self.b = np.random.uniform(-math.pi, math.pi, size = (self.n_features))\n",
    "\n",
    "        #let's generate new features\n",
    "        X_new = np.cos(X.dot(self.w) + self.b)\n",
    "\n",
    "\n",
    "        \n",
    "        #MODEL\n",
    "        if self.classifier == 'logreg':\n",
    "            self.model = LogisticRegression(random_state=0).fit(X_new, y)\n",
    "\n",
    "        elif self.classifier == 'svm':\n",
    "            self.model = LinearSVC(random_state=0).fit(X_new, y)\n",
    "            \n",
    "        elif self.classifier == 'knn':\n",
    "            self.model = KNeighborsClassifier().fit(X_new, y)\n",
    "\n",
    "        return self\n",
    "\n",
    "    def predict_proba(self, X):\n",
    "        \"\"\"\n",
    "        Apply pipeline to obtain scores for input data.\n",
    "        \"\"\"\n",
    "        # Your code here: (￣▽￣)/♫•*¨*•.¸¸♪\n",
    "\n",
    "        #PCA\n",
    "        if self.use_PCA == True:\n",
    "            X = self.pca.transform(X)\n",
    "  \n",
    "        \n",
    "\n",
    "        #RFF\n",
    "        #let's generate new features\n",
    "        X_new = np.cos(X.dot(self.w) + self.b)\n",
    "\n",
    "\n",
    "\n",
    "        #PREDICTIONS\n",
    "        predictions_prob = self.model.predict_proba(X_new)\n",
    "\n",
    "        return predictions_prob\n",
    "        \n",
    "    def predict(self, X):\n",
    "        \"\"\"\n",
    "        Apply pipeline to obtain discrete predictions for input data.\n",
    "        \"\"\"\n",
    "        # Your code here: (￣▽￣)/♫•*¨*•.¸¸♪\n",
    "\n",
    "        #PCA\n",
    "        if self.use_PCA == True:\n",
    "            X = self.pca.transform(X)\n",
    "  \n",
    "        \n",
    "\n",
    "        #RFF\n",
    "        #let's generate new features\n",
    "        X_new = np.cos(X.dot(self.w) + self.b)\n",
    "\n",
    "\n",
    "\n",
    "        #PREDICTIONS\n",
    "        predictions = self.model.predict(X_new)\n",
    "\n",
    "        return predictions"
   ]
  },
  {
   "cell_type": "code",
   "execution_count": 26,
   "metadata": {
    "colab": {
     "base_uri": "https://localhost:8080/"
    },
    "id": "0IT5_XaxbArW",
    "outputId": "9881cc17-cfa7-4667-978d-4fadba905c2c"
   },
   "outputs": [
    {
     "name": "stdout",
     "output_type": "stream",
     "text": [
      "PCA + RFF(cos) + KNN: accuracy = 0.8567, time = 28.117629289627075\n"
     ]
    }
   ],
   "source": [
    "import warnings\n",
    "warnings.filterwarnings(\"ignore\")\n",
    "\n",
    "import time \n",
    "\n",
    "#PCA + RFF + KNN\n",
    "start = time.time()\n",
    "rff = RFFPipeline(n_features=1000, new_dim=50, use_PCA=True, classifier='knn') \n",
    "rff = rff.fit(x_train, y_train)\n",
    "y_pred = rff.predict(x_test)\n",
    "acc1 = accuracy_score(y_test, y_pred)\n",
    "end = time.time() - start \n",
    "print(f'PCA + RFF(cos) + KNN: accuracy = {acc1}, time = {end}')"
   ]
  },
  {
   "cell_type": "markdown",
   "metadata": {},
   "source": [
    "### RandomForest"
   ]
  },
  {
   "cell_type": "code",
   "execution_count": 21,
   "metadata": {
    "id": "JIhRbvV3nkAI"
   },
   "outputs": [],
   "source": [
    "from sklearn.base import BaseEstimator, TransformerMixin\n",
    "from sklearn.decomposition import PCA\n",
    "import numpy as np\n",
    "import math\n",
    "from sklearn.linear_model import LogisticRegression\n",
    "from sklearn.svm import SVC\n",
    "from sklearn.svm import LinearSVC\n",
    "from sklearn.metrics import accuracy_score\n",
    "from sklearn.ensemble import RandomForestClassifier\n",
    "\n",
    "class RFFPipeline(BaseEstimator, TransformerMixin):\n",
    "    def __init__(self, n_features=1000, new_dim=50, use_PCA=True, classifier='logreg'):\n",
    "        \"\"\"        \n",
    "        Implements pipeline, which consists of PCA decomposition,\n",
    "        Random Fourier Features approximation and linear classification model.\n",
    "        \n",
    "        n_features, int: amount of synthetic random features generated with RFF approximation.\n",
    "\n",
    "        new_dim, int: PCA output size.\n",
    "        \n",
    "        use_PCA, bool: whether to include PCA preprocessing.\n",
    "        \n",
    "        classifier, string: either 'svm' or 'logreg', a linear classification model to use on top of pipeline.\n",
    "        \n",
    "        Feel free to edit this template for your preferences.    \n",
    "        \"\"\"\n",
    "        self.n_features = n_features\n",
    "        self.use_PCA = use_PCA\n",
    "        self.new_dim = new_dim\n",
    "        self.classifier = classifier\n",
    "        \n",
    "    def fit(self, X, y):\n",
    "        \"\"\"\n",
    "        Fit all parts of algorithm (PCA, RFF, Classification) to training set.\n",
    "        \"\"\"\n",
    "        # Your code here: (￣▽￣)/♫•*¨*•.¸¸♪\n",
    "\n",
    "        #PCA\n",
    "        if self.use_PCA == True:\n",
    "            self.pca = PCA(n_components=self.new_dim)\n",
    "            X = self.pca.fit_transform(X)\n",
    "  \n",
    "        \n",
    "\n",
    "        #RFF\n",
    "        #let's find sigma\n",
    "        id1 = np.random.randint(X.shape[0], size=1000000)\n",
    "        id2 = np.random.randint(X.shape[0], size=1000000)\n",
    "        sigma = np.sqrt(np.median(np.sum((X[id1] - X[id2])**2, axis = 1)))\n",
    "\n",
    "        #let's generate w and b\n",
    "        np.random.seed(0)\n",
    "        self.w = np.random.normal(0, 1/sigma, size = (X.shape[1], self.n_features))\n",
    "        self.b = np.random.uniform(-math.pi, math.pi, size = (self.n_features))\n",
    "\n",
    "        #let's generate new features\n",
    "        X_new = np.cos(X.dot(self.w) + self.b)\n",
    "\n",
    "\n",
    "        \n",
    "        #MODEL\n",
    "        if self.classifier == 'logreg':\n",
    "            self.model = LogisticRegression(random_state=0).fit(X_new, y)\n",
    "\n",
    "        elif self.classifier == 'svm':\n",
    "            self.model = LinearSVC(random_state=0).fit(X_new, y)\n",
    "            \n",
    "        elif self.classifier == 'randomforest':\n",
    "            self.model = RandomForestClassifier(random_state=0).fit(X_new, y)\n",
    "\n",
    "        return self\n",
    "\n",
    "    def predict_proba(self, X):\n",
    "        \"\"\"\n",
    "        Apply pipeline to obtain scores for input data.\n",
    "        \"\"\"\n",
    "        # Your code here: (￣▽￣)/♫•*¨*•.¸¸♪\n",
    "\n",
    "        #PCA\n",
    "        if self.use_PCA == True:\n",
    "            X = self.pca.transform(X)\n",
    "  \n",
    "        \n",
    "\n",
    "        #RFF\n",
    "        #let's generate new features\n",
    "        X_new = np.cos(X.dot(self.w) + self.b)\n",
    "\n",
    "\n",
    "\n",
    "        #PREDICTIONS\n",
    "        predictions_prob = self.model.predict_proba(X_new)\n",
    "\n",
    "        return predictions_prob\n",
    "        \n",
    "    def predict(self, X):\n",
    "        \"\"\"\n",
    "        Apply pipeline to obtain discrete predictions for input data.\n",
    "        \"\"\"\n",
    "        # Your code here: (￣▽￣)/♫•*¨*•.¸¸♪\n",
    "\n",
    "        #PCA\n",
    "        if self.use_PCA == True:\n",
    "            X = self.pca.transform(X)\n",
    "  \n",
    "        \n",
    "\n",
    "        #RFF\n",
    "        #let's generate new features\n",
    "        X_new = np.cos(X.dot(self.w) + self.b)\n",
    "\n",
    "\n",
    "\n",
    "        #PREDICTIONS\n",
    "        predictions = self.model.predict(X_new)\n",
    "\n",
    "        return predictions"
   ]
  },
  {
   "cell_type": "code",
   "execution_count": 22,
   "metadata": {
    "colab": {
     "base_uri": "https://localhost:8080/"
    },
    "id": "0IT5_XaxbArW",
    "outputId": "9881cc17-cfa7-4667-978d-4fadba905c2c"
   },
   "outputs": [
    {
     "name": "stdout",
     "output_type": "stream",
     "text": [
      "PCA + RFF(cos) + RandomForest: accuracy = 0.8627, time = 219.48713898658752\n"
     ]
    }
   ],
   "source": [
    "import warnings\n",
    "warnings.filterwarnings(\"ignore\")\n",
    "\n",
    "import time \n",
    "\n",
    "#PCA + RFF + RandomForest\n",
    "start = time.time()\n",
    "rff = RFFPipeline(n_features=1000, new_dim=50, use_PCA=True, classifier='randomforest') \n",
    "rff = rff.fit(x_train, y_train)\n",
    "y_pred = rff.predict(x_test)\n",
    "acc1 = accuracy_score(y_test, y_pred)\n",
    "end = time.time() - start \n",
    "print(f'PCA + RFF(cos) + RandomForest: accuracy = {acc1}, time = {end}')"
   ]
  },
  {
   "cell_type": "markdown",
   "metadata": {},
   "source": [
    "Значит, самый близкий к качеству linear SVM и Logreg классификатор KNN, однако и он оказывается ниже по качеству, чем названные выше модели. В повышении качества помогают более сложные модели, ансамбли, например, RandomForest дал результат выше логистической регрессии, но оказался горадо более времязатратным, однако в сравнении с SVM качество все равно оказалось ниже. "
   ]
  }
 ],
 "metadata": {
  "colab": {
   "provenance": []
  },
  "gpuClass": "standard",
  "kernelspec": {
   "display_name": "Python 3 (ipykernel)",
   "language": "python",
   "name": "python3"
  },
  "language_info": {
   "codemirror_mode": {
    "name": "ipython",
    "version": 3
   },
   "file_extension": ".py",
   "mimetype": "text/x-python",
   "name": "python",
   "nbconvert_exporter": "python",
   "pygments_lexer": "ipython3",
   "version": "3.9.12"
  }
 },
 "nbformat": 4,
 "nbformat_minor": 1
}
