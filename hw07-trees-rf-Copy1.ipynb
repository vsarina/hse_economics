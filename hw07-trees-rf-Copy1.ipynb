{
 "cells": [
  {
   "cell_type": "markdown",
   "metadata": {},
   "source": [
    "# Интеллектуальный анализ данных – весна 2022\n",
    "\n",
    "# Домашнее задание 7: Деревья. Случайный лес\n",
    "\n",
    "Правила:\n",
    "\n",
    "- Домашнее задание оценивается в 10 баллов (+1 бонусный балл).\n",
    "\n",
    "\n",
    "- Можно использовать без доказательства любые результаты, встречавшиеся на лекциях или семинарах по курсу, если получение этих результатов не является вопросом задания.\n",
    "\n",
    "\n",
    "- Можно использовать любые свободные источники с обязательным указанием ссылки на них.\n",
    "\n",
    "\n",
    "- Плагиат не допускается. При обнаружении случаев списывания, 0 за работу выставляется всем участникам нарушения, даже если можно установить, кто у кого списал.\n",
    "\n",
    "<!-- ![](meme.jpg) -->\n",
    "<img src=\"meme.jpg\" alt=\"Drawing\" style=\"width: 700px;\"/>"
   ]
  },
  {
   "cell_type": "markdown",
   "metadata": {},
   "source": [
    "## Часть 1: Основы построения решающие дерева (1.5 балла)\n",
    "\n",
    "В этой части все расчёты необходимо реализовывать в виде запрограммированных формул, например, на `numpy`. **Нельзя использовать готовые реализации**. Например, если в задании требуется рассчитать энтропию, то требуется в каком-то виде релизовать расчёт по формуле, но нельзя использовать готовую реализацию `some_module.entropy()`."
   ]
  },
  {
   "cell_type": "code",
   "execution_count": 1,
   "metadata": {},
   "outputs": [],
   "source": [
    "import numpy as np\n",
    "import pandas as pd\n",
    "import matplotlib.pyplot as plt"
   ]
  },
  {
   "cell_type": "markdown",
   "metadata": {},
   "source": [
    "**Задание 1.1 (0.5 балла)** Пусть известно, что в вершину решающего дерева попали 10 объектов, 8 из которых имеют метку класса $k_1$, а 2 имеют метку класса $k_2$. Рассчитайте энтропию такого распределения классов (с натуральным логарифмом). Ответ округлите до двух знаков после запятой."
   ]
  },
  {
   "cell_type": "code",
   "execution_count": 2,
   "metadata": {},
   "outputs": [],
   "source": [
    "import math"
   ]
  },
  {
   "cell_type": "code",
   "execution_count": 6,
   "metadata": {},
   "outputs": [
    {
     "name": "stdout",
     "output_type": "stream",
     "text": [
      "-0.5\n"
     ]
    }
   ],
   "source": [
    "ans = 0.8 * math.log(0.8) + 0.2 * math.log(0.2)\n",
    "print(round(ans, 2))"
   ]
  },
  {
   "cell_type": "markdown",
   "metadata": {},
   "source": [
    "**Задание 1.2 (0.5 балла)** Пусть дополнительно известно, что вершина из предыдущего задания не является листовой и возможно такое разбиение, что в левое поддерево попадут все объекты класса $k_1$, а в правое - класса $k_2$. Посчитайте критерий информативности:\n",
    "\n",
    "$$\n",
    "Q(R_m, j, t) = H(R_m) - \\frac{|R_\\ell|}{|R_m|}H(R_\\ell) - \\frac{|R_r|}{|R_m|}H(R_r),\n",
    "$$\n",
    "\n",
    "где $R_m$ - множество объектов в разбиваемой вершине, $j$ - номер признака, по которому происходит разбиение, $t$ - порог разбиения, $R_\\ell$ - множество объектов в левом поддереве, $R_r$ - множество объектов в правом поддереве.\n",
    "\n",
    "Теперь в качестве $H(R)$ будем использовать индекс Джини:\n",
    "\n",
    "$$\n",
    "H(R) = \\sum_{k=1}^J p_k(1-p_k),\n",
    "$$\n",
    "где $J$ – общее количество классов (в нашем случае, $J = 2$).\n",
    "\n",
    "Ответ округлите до двух знаков после запятой."
   ]
  },
  {
   "cell_type": "code",
   "execution_count": 8,
   "metadata": {},
   "outputs": [
    {
     "data": {
      "text/plain": [
       "0.32"
      ]
     },
     "execution_count": 8,
     "metadata": {},
     "output_type": "execute_result"
    }
   ],
   "source": [
    "round((0.8 * 0.2) * 2, 2)"
   ]
  },
  {
   "cell_type": "markdown",
   "metadata": {},
   "source": [
    "**Задание 1.3 (0.5 балла)** Пусть при построении дерева образовалась листовая вершина с 10 объектами, значения целевой переменной для которых следующие: [1, 10, 5, 18, 100, 30, 50, 61, 84, 47] (решается задача регрессии). Чему будут равны предсказания модели для этих объектов?"
   ]
  },
  {
   "cell_type": "code",
   "execution_count": 11,
   "metadata": {},
   "outputs": [
    {
     "data": {
      "text/plain": [
       "40.6"
      ]
     },
     "execution_count": 11,
     "metadata": {},
     "output_type": "execute_result"
    }
   ],
   "source": [
    "np.mean([1, 10, 5, 18, 100, 30, 50, 61, 84, 47])"
   ]
  },
  {
   "cell_type": "markdown",
   "metadata": {},
   "source": [
    "## Часть 2: Решающие деревья (4.5 балла)\n",
    "\n",
    "В этой части мы напишем и протестируем собственную реализацию решающего дерева."
   ]
  },
  {
   "cell_type": "code",
   "execution_count": 12,
   "metadata": {},
   "outputs": [],
   "source": [
    "from collections import Counter\n",
    "from typing import Dict, List, Tuple, Union"
   ]
  },
  {
   "cell_type": "markdown",
   "metadata": {},
   "source": [
    "**Задание 2.1 (1.5 балла)** Реализуйте функцию `find_best_split()`, которая должна находить оптимальное разбиение подмножества обучающей выборки в соответствии с информационным критерием из **Задания 1.2**. В качестве меры хаотичности $H(R)$ для задачи регрессии испольуйте дисперсию подвыборки, а для задачи классификации – критерий Джини (определён в том же задании).\n",
    "\n",
    "Для категориальных признаков применяется наивный алгоритм разбиения: мы пытаемся найти одно значение, разбиение по которому сильнее всего увеличит критерий информативности. Иными словами, объекты с конкретным значением признака отправляем в левое поддерево, остальные - в правое. Обратите внимание, что это далеко не оптимальные способ учёта категориальных признаков. Например, можно было бы на каждое значение категориального признака создавать отдельное поддерево или использовать более сложные подходы. Подробнее об этом можно прочитать в конспектах [лекций](https://github.com/esokolov/ml-course-hse/blob/master/2019-fall/lecture-notes/lecture07-trees.pdf) по машинному обучению на ПМИ (раздел «Учёт категориальных признаков»).\n",
    "\n",
    "В качестве подсказок реализации можете пользоваться кодом из бонусной части семинара по решающим деревьям.\n",
    "\n",
    "**Бонус:** Разрешается делать цикл для перебора порогов, но возможна имплементация без него. За имплементацию без цикла – **бонус 1 балл**."
   ]
  },
  {
   "cell_type": "code",
   "execution_count": 212,
   "metadata": {},
   "outputs": [],
   "source": [
    "def H(R):\n",
    "    p = np.bincount(R) / 6\n",
    "    p = p[p != 0]\n",
    "    anti_p = 1 - p\n",
    "    return sum(p * anti_p)\n",
    "\n",
    "\n",
    "        \n",
    "    "
   ]
  },
  {
   "cell_type": "code",
   "execution_count": 327,
   "metadata": {},
   "outputs": [],
   "source": [
    "def find_best_split(\n",
    "    feature_vector: Union[np.ndarray, pd.DataFrame], \n",
    "    target_vector: Union[np.ndarray, pd.Series],\n",
    "    task: str = \"classification\",\n",
    "    feature_type: str = \"real\"\n",
    ") -> Tuple[np.ndarray, np.ndarray, float, float]:\n",
    "    \"\"\"\n",
    "    Указания:\n",
    "    * Пороги, приводящие к попаданию в одно из поддеревьев пустого множества объектов, не рассматриваются.\n",
    "    * В качестве порогов, нужно брать среднее двух сосдених (при сортировке) значений признака\n",
    "    * Поведение функции в случае константного признака может быть любым.\n",
    "    * При одинаковых приростах Джини или дисперсии нужно выбирать минимальный сплит.\n",
    "    * За наличие в функции циклов балл будет снижен. Векторизуйте! :)\n",
    "\n",
    "    :param feature_vector: вещественнозначный вектор значений признака\n",
    "    :param target_vector: вектор классов объектов,  len(feature_vector) == len(target_vector)\n",
    "    :param task: либо `classification`, либо `regression`\n",
    "    :param feature_type: либо `real`, либо `categorical`\n",
    "    \n",
    "    :return thresholds: отсортированный по возрастанию вектор со всеми возможными порогами, по которым объекты можно\n",
    "     разделить на две различные подвыборки, или поддерева\n",
    "    :return ginis: вектор со значениями критерия Джини для каждого из порогов в thresholds len(ginis) == len(thresholds)\n",
    "    :return threshold_best: оптимальный порог (число)\n",
    "    :return gini_best: оптимальное значение критерия Джини (число)\n",
    "    \"\"\"\n",
    "    # ᕕ(╭ರ╭ ͟ʖ╮•́)⊃¤=(————-\n",
    "    \n",
    "    \n",
    "    a = np.array([feature_vector, target_vector])\n",
    "    b = a[:, a[0].argsort()]\n",
    "    features = b[0]\n",
    "    targets = b[1]\n",
    "    \n",
    "    if task == 'regression':\n",
    "        \n",
    "        \n",
    "        if feature_type == 'real':\n",
    "            dict_var = {}\n",
    "            dict_var2 = {}\n",
    "            c = features[1:]\n",
    "            c = np.append(c,features[-1])\n",
    "            thresholds = ((features + c) / 2)\n",
    "            thresholds = thresholds[:-1]\n",
    "            for t in list(thresholds):\n",
    "                variety = np.var(targets[list(np.where(features < t)[0])]) + np.var(targets[list(np.where(features > t)[0])])\n",
    "                if variety not in dict_var:\n",
    "                    dict_var[variety] = t\n",
    "                dict_var2[t] = variety\n",
    "            \n",
    "            \n",
    "            \n",
    "        if feature_type == 'categorical':\n",
    "            dict_var = {}\n",
    "            dict_var2 = {}\n",
    "            #b = a[:, a[0].argsort()]\n",
    "            #features = b[0]\n",
    "            #targets = b[1].astype(int)\n",
    "            feature_values = np.unique(features)\n",
    "            targets = targets.astype(int)\n",
    "            for i in feature_values:\n",
    "                variety = np.var(targets[list(np.where(features == i)[0])]) + np.var(targets[list(np.where(features != i)[0])])\n",
    "                if variety not in dict_var:\n",
    "                    dict_var[variety] = i\n",
    "                dict_var2[i] = variety\n",
    "    \n",
    "\n",
    "  \n",
    "        \n",
    "    if task == 'classification':\n",
    "        if feature_type == 'real':\n",
    "            dict_var = {}\n",
    "            dict_var2 = {}\n",
    "            c = features[1:]\n",
    "            c = np.append(c,features[-1])\n",
    "            thresholds = ((features + c) / 2)\n",
    "            thresholds = thresholds[:-1]\n",
    "            for t in list(thresholds):\n",
    "                R_l = list(targets[list(np.where(features < t)[0])])\n",
    "                R_r = list(targets[list(np.where(features > t)[0])])\n",
    "                variety = H(list(targets)) - (len(R_l) / len(list(targets))) * H(R_l) - (len(R_r) / len(list(targets))) * H(R_r)\n",
    "                if variety not in dict_var:\n",
    "                    dict_var[variety] = t\n",
    "                dict_var2[t] = variety\n",
    "                \n",
    "        if feature_type == 'categorical':\n",
    "            dict_var = {}\n",
    "            dict_var2 = {}\n",
    "            feature_values = np.unique(features)\n",
    "            targets = targets\n",
    "\n",
    "            for i in feature_values:\n",
    "\n",
    "                R_l = list(targets[list(np.where(features == i)[0])])\n",
    "                R_r = list(targets[list(np.where(features != i)[0])])\n",
    "                variety = H(list(targets)) - (len(R_l) / len(list(targets))) * H(R_l) - (len(R_r) / len(list(targets))) * H(R_r)\n",
    "                if variety not in dict_var:\n",
    "                    dict_var[variety] = i\n",
    "                dict_var2[i] = variety\n",
    "    \n",
    "            \n",
    "    gini_best = min(dict_var.keys())\n",
    "    threshold_best = dict_var[gini_best]\n",
    "\n",
    "    thresholds = np.array(list(dict_var2.keys()))\n",
    "    ginis = np.array(list(dict_var2.values()))\n",
    "            \n",
    "    return thresholds, ginis, threshold_best, gini_best\n",
    "        \n",
    "    \n",
    "    \n",
    "\n",
    "    pass\n",
    "\n",
    "thresholds, variances, threshold_best, variance_best = find_best_split(\n",
    "    X[\"CRIM\"].to_numpy(), \n",
    "    y, \n",
    "    task=\"regression\",\n",
    "    feature_type=\"real\"\n",
    ")"
   ]
  },
  {
   "cell_type": "markdown",
   "metadata": {},
   "source": [
    "\n",
    "b = a[:, a[0].argsort()]\n",
    "features = b[0]\n",
    "targets = b[1]\n",
    "c = features[1:]\n",
    "c = np.append(c,features[-1])\n",
    "thresholds = ((features + c) / 2)\n",
    "thresholds = thresholds[:-1]\n",
    "all_t = np.ones((len(targets), len(targets))) * targets\n",
    "up_tr = np.triu(all_t)[1:]\n",
    "low_tr = np.tril(all_t)[:-1]\n",
    "ginis_right = np.var(up_tr, axis = 1) \n",
    "ginis_left = np.var(low_tr, axis = 1) \n",
    "ginis = vars_right + vars_left\n",
    "comb = np.array([thresholds, ginis])\n",
    "comb_sort = comb[:, comb[1].argsort()]\n",
    "best_comb = comb_sort[:, 0]\n",
    "threshold_best = best_comb[0]\n",
    "gini_best = best_comb[1]"
   ]
  },
  {
   "cell_type": "code",
   "execution_count": 312,
   "metadata": {},
   "outputs": [
    {
     "data": {
      "text/plain": [
       "array([6.32000e-03, 2.73100e-02, 2.72900e-02, 3.23700e-02, 6.90500e-02,\n",
       "       2.98500e-02, 8.82900e-02, 1.44550e-01, 2.11240e-01, 1.70040e-01,\n",
       "       2.24890e-01, 1.17470e-01, 9.37800e-02, 6.29760e-01, 6.37960e-01,\n",
       "       6.27390e-01, 1.05393e+00, 7.84200e-01, 8.02710e-01, 7.25800e-01,\n",
       "       1.25179e+00, 8.52040e-01, 1.23247e+00, 9.88430e-01, 7.50260e-01,\n",
       "       8.40540e-01, 6.71910e-01, 9.55770e-01, 7.72990e-01, 1.00245e+00,\n",
       "       1.13081e+00, 1.35472e+00, 1.38799e+00, 1.15172e+00, 1.61282e+00,\n",
       "       6.41700e-02, 9.74400e-02, 8.01400e-02, 1.75050e-01, 2.76300e-02,\n",
       "       3.35900e-02, 1.27440e-01, 1.41500e-01, 1.59360e-01, 1.22690e-01,\n",
       "       1.71420e-01, 1.88360e-01, 2.29270e-01, 2.53870e-01, 2.19770e-01,\n",
       "       8.87300e-02, 4.33700e-02, 5.36000e-02, 4.98100e-02, 1.36000e-02,\n",
       "       1.31100e-02, 2.05500e-02, 1.43200e-02, 1.54450e-01, 1.03280e-01,\n",
       "       1.49320e-01, 1.71710e-01, 1.10270e-01, 1.26500e-01, 1.95100e-02,\n",
       "       3.58400e-02, 4.37900e-02, 5.78900e-02, 1.35540e-01, 1.28160e-01,\n",
       "       8.82600e-02, 1.58760e-01, 9.16400e-02, 1.95390e-01, 7.89600e-02,\n",
       "       9.51200e-02, 1.01530e-01, 8.70700e-02, 5.64600e-02, 8.38700e-02,\n",
       "       4.11300e-02, 4.46200e-02, 3.65900e-02, 3.55100e-02, 5.05900e-02,\n",
       "       5.73500e-02, 5.18800e-02, 7.15100e-02, 5.66000e-02, 5.30200e-02,\n",
       "       4.68400e-02, 3.93200e-02, 4.20300e-02, 2.87500e-02, 4.29400e-02,\n",
       "       1.22040e-01, 1.15040e-01, 1.20830e-01, 8.18700e-02, 6.86000e-02,\n",
       "       1.48660e-01, 1.14320e-01, 2.28760e-01, 2.11610e-01, 1.39600e-01,\n",
       "       1.32620e-01, 1.71200e-01, 1.31170e-01, 1.28020e-01, 2.63630e-01,\n",
       "       1.07930e-01, 1.00840e-01, 1.23290e-01, 2.22120e-01, 1.42310e-01,\n",
       "       1.71340e-01, 1.31580e-01, 1.50980e-01, 1.30580e-01, 1.44760e-01,\n",
       "       6.89900e-02, 7.16500e-02, 9.29900e-02, 1.50380e-01, 9.84900e-02,\n",
       "       1.69020e-01, 3.87350e-01, 2.59150e-01, 3.25430e-01, 8.81250e-01,\n",
       "       3.40060e-01, 1.19294e+00, 5.90050e-01, 3.29820e-01, 9.76170e-01,\n",
       "       5.57780e-01, 3.22640e-01, 3.52330e-01, 2.49800e-01, 5.44520e-01,\n",
       "       2.90900e-01, 1.62864e+00, 3.32105e+00, 4.09740e+00, 2.77974e+00,\n",
       "       2.37934e+00, 2.15505e+00, 2.36862e+00, 2.33099e+00, 2.73397e+00,\n",
       "       1.65660e+00, 1.49632e+00, 1.12658e+00, 2.14918e+00, 1.41385e+00,\n",
       "       3.53501e+00, 2.44668e+00, 1.22358e+00, 1.34284e+00, 1.42502e+00,\n",
       "       1.27346e+00, 1.46336e+00, 1.83377e+00, 1.51902e+00, 2.24236e+00,\n",
       "       2.92400e+00, 2.01019e+00, 1.80028e+00, 2.30040e+00, 2.44953e+00,\n",
       "       1.20742e+00, 2.31390e+00, 1.39140e-01, 9.17800e-02, 8.44700e-02,\n",
       "       6.66400e-02, 7.02200e-02, 5.42500e-02, 6.64200e-02, 5.78000e-02,\n",
       "       6.58800e-02, 6.88800e-02, 9.10300e-02, 1.00080e-01, 8.30800e-02,\n",
       "       6.04700e-02, 5.60200e-02, 7.87500e-02, 1.25790e-01, 8.37000e-02,\n",
       "       9.06800e-02, 6.91100e-02, 8.66400e-02, 2.18700e-02, 1.43900e-02,\n",
       "       1.38100e-02, 4.01100e-02, 4.66600e-02, 3.76800e-02, 3.15000e-02,\n",
       "       1.77800e-02, 3.44500e-02, 2.17700e-02, 3.51000e-02, 2.00900e-02,\n",
       "       1.36420e-01, 2.29690e-01, 2.51990e-01, 1.35870e-01, 4.35710e-01,\n",
       "       1.74460e-01, 3.75780e-01, 2.17190e-01, 1.40520e-01, 2.89550e-01,\n",
       "       1.98020e-01, 4.56000e-02, 7.01300e-02, 1.10690e-01, 1.14250e-01,\n",
       "       3.58090e-01, 4.07710e-01, 6.23560e-01, 6.14700e-01, 3.15330e-01,\n",
       "       5.26930e-01, 3.82140e-01, 4.12380e-01, 2.98190e-01, 4.41780e-01,\n",
       "       5.37000e-01, 4.62960e-01, 5.75290e-01, 3.31470e-01, 4.47910e-01,\n",
       "       3.30450e-01, 5.20580e-01, 5.11830e-01, 8.24400e-02, 9.25200e-02,\n",
       "       1.13290e-01, 1.06120e-01, 1.02900e-01, 1.27570e-01, 2.06080e-01,\n",
       "       1.91330e-01, 3.39830e-01, 1.96570e-01, 1.64390e-01, 1.90730e-01,\n",
       "       1.40300e-01, 2.14090e-01, 8.22100e-02, 3.68940e-01, 4.81900e-02,\n",
       "       3.54800e-02, 1.53800e-02, 6.11540e-01, 6.63510e-01, 6.56650e-01,\n",
       "       5.40110e-01, 5.34120e-01, 5.20140e-01, 8.25260e-01, 5.50070e-01,\n",
       "       7.61620e-01, 7.85700e-01, 5.78340e-01, 5.40500e-01, 9.06500e-02,\n",
       "       2.99160e-01, 1.62110e-01, 1.14600e-01, 2.21880e-01, 5.64400e-02,\n",
       "       9.60400e-02, 1.04690e-01, 6.12700e-02, 7.97800e-02, 2.10380e-01,\n",
       "       3.57800e-02, 3.70500e-02, 6.12900e-02, 1.50100e-02, 9.06000e-03,\n",
       "       1.09600e-02, 1.96500e-02, 3.87100e-02, 4.59000e-02, 4.29700e-02,\n",
       "       3.50200e-02, 7.88600e-02, 3.61500e-02, 8.26500e-02, 8.19900e-02,\n",
       "       1.29320e-01, 5.37200e-02, 1.41030e-01, 6.46600e-02, 5.56100e-02,\n",
       "       4.41700e-02, 3.53700e-02, 9.26600e-02, 1.00000e-01, 5.51500e-02,\n",
       "       5.47900e-02, 7.50300e-02, 4.93200e-02, 4.92980e-01, 3.49400e-01,\n",
       "       2.63548e+00, 7.90410e-01, 2.61690e-01, 2.69380e-01, 3.69200e-01,\n",
       "       2.53560e-01, 3.18270e-01, 2.45220e-01, 4.02020e-01, 4.75470e-01,\n",
       "       1.67600e-01, 1.81590e-01, 3.51140e-01, 2.83920e-01, 3.41090e-01,\n",
       "       1.91860e-01, 3.03470e-01, 2.41030e-01, 6.61700e-02, 6.72400e-02,\n",
       "       4.54400e-02, 5.02300e-02, 3.46600e-02, 5.08300e-02, 3.73800e-02,\n",
       "       3.96100e-02, 3.42700e-02, 3.04100e-02, 3.30600e-02, 5.49700e-02,\n",
       "       6.15100e-02, 1.30100e-02, 2.49800e-02, 2.54300e-02, 3.04900e-02,\n",
       "       3.11300e-02, 6.16200e-02, 1.87000e-02, 1.50100e-02, 2.89900e-02,\n",
       "       6.21100e-02, 7.95000e-02, 7.24400e-02, 1.70900e-02, 4.30100e-02,\n",
       "       1.06590e-01, 8.98296e+00, 3.84970e+00, 5.20177e+00, 4.26131e+00,\n",
       "       4.54192e+00, 3.83684e+00, 3.67822e+00, 4.22239e+00, 3.47428e+00,\n",
       "       4.55587e+00, 3.69695e+00, 1.35222e+01, 4.89822e+00, 5.66998e+00,\n",
       "       6.53876e+00, 9.23230e+00, 8.26725e+00, 1.11081e+01, 1.84982e+01,\n",
       "       1.96091e+01, 1.52880e+01, 9.82349e+00, 2.36482e+01, 1.78667e+01,\n",
       "       8.89762e+01, 1.58744e+01, 9.18702e+00, 7.99248e+00, 2.00849e+01,\n",
       "       1.68118e+01, 2.43938e+01, 2.25971e+01, 1.43337e+01, 8.15174e+00,\n",
       "       6.96215e+00, 5.29305e+00, 1.15779e+01, 8.64476e+00, 1.33598e+01,\n",
       "       8.71675e+00, 5.87205e+00, 7.67202e+00, 3.83518e+01, 9.91655e+00,\n",
       "       2.50461e+01, 1.42362e+01, 9.59571e+00, 2.48017e+01, 4.15292e+01,\n",
       "       6.79208e+01, 2.07162e+01, 1.19511e+01, 7.40389e+00, 1.44383e+01,\n",
       "       5.11358e+01, 1.40507e+01, 1.88110e+01, 2.86558e+01, 4.57461e+01,\n",
       "       1.80846e+01, 1.08342e+01, 2.59406e+01, 7.35341e+01, 1.18123e+01,\n",
       "       1.10874e+01, 7.02259e+00, 1.20482e+01, 7.05042e+00, 8.79212e+00,\n",
       "       1.58603e+01, 1.22472e+01, 3.76619e+01, 7.36711e+00, 9.33889e+00,\n",
       "       8.49213e+00, 1.00623e+01, 6.44405e+00, 5.58107e+00, 1.39134e+01,\n",
       "       1.11604e+01, 1.44208e+01, 1.51772e+01, 1.36781e+01, 9.39063e+00,\n",
       "       2.20511e+01, 9.72418e+00, 5.66637e+00, 9.96654e+00, 1.28023e+01,\n",
       "       1.06718e+01, 6.28807e+00, 9.92485e+00, 9.32909e+00, 7.52601e+00,\n",
       "       6.71772e+00, 5.44114e+00, 5.09017e+00, 8.24809e+00, 9.51363e+00,\n",
       "       4.75237e+00, 4.66883e+00, 8.20058e+00, 7.75223e+00, 6.80117e+00,\n",
       "       4.81213e+00, 3.69311e+00, 6.65492e+00, 5.82115e+00, 7.83932e+00,\n",
       "       3.16360e+00, 3.77498e+00, 4.42228e+00, 1.55757e+01, 1.30751e+01,\n",
       "       4.34879e+00, 4.03841e+00, 3.56868e+00, 4.64689e+00, 8.05579e+00,\n",
       "       6.39312e+00, 4.87141e+00, 1.50234e+01, 1.02330e+01, 1.43337e+01,\n",
       "       5.82401e+00, 5.70818e+00, 5.73116e+00, 2.81838e+00, 2.37857e+00,\n",
       "       3.67367e+00, 5.69175e+00, 4.83567e+00, 1.50860e-01, 1.83370e-01,\n",
       "       2.07460e-01, 1.05740e-01, 1.11320e-01, 1.73310e-01, 2.79570e-01,\n",
       "       1.78990e-01, 2.89600e-01, 2.68380e-01, 2.39120e-01, 1.77830e-01,\n",
       "       2.24380e-01, 6.26300e-02, 4.52700e-02, 6.07600e-02, 1.09590e-01,\n",
       "       4.74100e-02])"
      ]
     },
     "execution_count": 312,
     "metadata": {},
     "output_type": "execute_result"
    }
   ],
   "source": [
    "X[\"CRIM\"].to_numpy()"
   ]
  },
  {
   "cell_type": "code",
   "execution_count": 310,
   "metadata": {},
   "outputs": [],
   "source": [
    "a = np.array([X[\"CRIM\"].to_numpy(), y])"
   ]
  },
  {
   "cell_type": "code",
   "execution_count": 311,
   "metadata": {},
   "outputs": [
    {
     "data": {
      "text/plain": [
       "array([[6.3200e-03, 2.7310e-02, 2.7290e-02, ..., 6.0760e-02, 1.0959e-01,\n",
       "        4.7410e-02],\n",
       "       [2.4000e+01, 2.1600e+01, 3.4700e+01, ..., 2.3900e+01, 2.2000e+01,\n",
       "        1.1900e+01]])"
      ]
     },
     "execution_count": 311,
     "metadata": {},
     "output_type": "execute_result"
    }
   ],
   "source": [
    "a"
   ]
  },
  {
   "cell_type": "code",
   "execution_count": 242,
   "metadata": {},
   "outputs": [
    {
     "data": {
      "text/plain": [
       "array([['1', '2', '2', '7', '9'],\n",
       "       ['2', '1', '2', '2', '1']], dtype='<U1')"
      ]
     },
     "execution_count": 242,
     "metadata": {},
     "output_type": "execute_result"
    }
   ],
   "source": [
    "a = np.array([['2', '7', '2', '9', '1'], ['1', '2', '2', '1', '2']])\n",
    "b = a[:, a[0].argsort()]\n",
    "features = b[0]\n",
    "targets = b[1]\n",
    "b"
   ]
  },
  {
   "cell_type": "code",
   "execution_count": 243,
   "metadata": {},
   "outputs": [
    {
     "data": {
      "text/plain": [
       "array(['1', '2', '2', '7', '9'], dtype='<U1')"
      ]
     },
     "execution_count": 243,
     "metadata": {},
     "output_type": "execute_result"
    }
   ],
   "source": [
    "features"
   ]
  },
  {
   "cell_type": "code",
   "execution_count": 244,
   "metadata": {},
   "outputs": [
    {
     "data": {
      "text/plain": [
       "array(['2', '1', '2', '2', '1'], dtype='<U1')"
      ]
     },
     "execution_count": 244,
     "metadata": {},
     "output_type": "execute_result"
    }
   ],
   "source": [
    "targets"
   ]
  },
  {
   "cell_type": "code",
   "execution_count": 297,
   "metadata": {},
   "outputs": [],
   "source": [
    "dict_var= {}\n",
    "dict_var2 = {}"
   ]
  },
  {
   "cell_type": "code",
   "execution_count": 298,
   "metadata": {},
   "outputs": [],
   "source": [
    "feature_values = np.unique(features)\n",
    "targets = targets\n",
    "\n",
    "for i in feature_values:\n",
    "\n",
    "    R_l = list(targets[list(np.where(features == i)[0])])\n",
    "    R_r = list(targets[list(np.where(features != i)[0])])\n",
    "    variety = H(list(targets)) - (len(R_l) / len(list(targets))) * H(R_l) - (len(R_r) / len(list(targets))) * H(R_r)\n",
    "    if variety not in dict_var:\n",
    "        dict_var[variety] = i\n",
    "    dict_var2[i] = variety\n",
    "    "
   ]
  },
  {
   "cell_type": "code",
   "execution_count": 299,
   "metadata": {},
   "outputs": [
    {
     "data": {
      "text/plain": [
       "array(['1', '2', '7', '9'], dtype='<U1')"
      ]
     },
     "execution_count": 299,
     "metadata": {},
     "output_type": "execute_result"
    }
   ],
   "source": [
    "feature_values"
   ]
  },
  {
   "cell_type": "code",
   "execution_count": 300,
   "metadata": {},
   "outputs": [
    {
     "data": {
      "text/plain": [
       "{0.0888888888888888: '1', 0.1444444444444444: '2', 0.1333333333333333: '9'}"
      ]
     },
     "execution_count": 300,
     "metadata": {},
     "output_type": "execute_result"
    }
   ],
   "source": [
    "dict_var"
   ]
  },
  {
   "cell_type": "code",
   "execution_count": 301,
   "metadata": {},
   "outputs": [
    {
     "data": {
      "text/plain": [
       "{'1': 0.0888888888888888,\n",
       " '2': 0.1444444444444444,\n",
       " '7': 0.0888888888888888,\n",
       " '9': 0.1333333333333333}"
      ]
     },
     "execution_count": 301,
     "metadata": {},
     "output_type": "execute_result"
    }
   ],
   "source": [
    "dict_var2"
   ]
  },
  {
   "cell_type": "code",
   "execution_count": 277,
   "metadata": {},
   "outputs": [],
   "source": [
    "gini_best = min(dict_var.keys())\n",
    "threshold_best = dict_var[gini_best]\n",
    "\n",
    "ginis = np.array(list(dict_var.keys()))\n",
    "thresholds = np.array(list(dict_var.values()))"
   ]
  },
  {
   "cell_type": "code",
   "execution_count": 303,
   "metadata": {},
   "outputs": [
    {
     "data": {
      "text/plain": [
       "0.0888888888888888"
      ]
     },
     "execution_count": 303,
     "metadata": {},
     "output_type": "execute_result"
    }
   ],
   "source": [
    "gini_best"
   ]
  },
  {
   "cell_type": "code",
   "execution_count": 304,
   "metadata": {},
   "outputs": [
    {
     "data": {
      "text/plain": [
       "'1'"
      ]
     },
     "execution_count": 304,
     "metadata": {},
     "output_type": "execute_result"
    }
   ],
   "source": [
    "threshold_best "
   ]
  },
  {
   "cell_type": "code",
   "execution_count": 305,
   "metadata": {},
   "outputs": [
    {
     "data": {
      "text/plain": [
       "array([0.08888889, 0.14444444, 0.08888889, 0.13333333])"
      ]
     },
     "execution_count": 305,
     "metadata": {},
     "output_type": "execute_result"
    }
   ],
   "source": [
    "ginis"
   ]
  },
  {
   "cell_type": "code",
   "execution_count": 306,
   "metadata": {},
   "outputs": [
    {
     "data": {
      "text/plain": [
       "array(['1', '2', '7', '9'], dtype='<U1')"
      ]
     },
     "execution_count": 306,
     "metadata": {},
     "output_type": "execute_result"
    }
   ],
   "source": [
    "thresholds"
   ]
  },
  {
   "cell_type": "code",
   "execution_count": 302,
   "metadata": {},
   "outputs": [],
   "source": [
    "gini_best = min(dict_var.keys())\n",
    "threshold_best = dict_var[gini_best]\n",
    "\n",
    "thresholds = np.array(list(dict_var2.keys()))\n",
    "ginis = np.array(list(dict_var2.values()))\n"
   ]
  },
  {
   "cell_type": "code",
   "execution_count": null,
   "metadata": {},
   "outputs": [],
   "source": []
  },
  {
   "cell_type": "code",
   "execution_count": 234,
   "metadata": {},
   "outputs": [
    {
     "data": {
      "text/plain": [
       "array([['1', '2', '4', '7', '9'],\n",
       "       ['2', '1', '2', '2', '1']], dtype='<U21')"
      ]
     },
     "execution_count": 234,
     "metadata": {},
     "output_type": "execute_result"
    }
   ],
   "source": [
    "b = a[:, a[0].argsort()]\n",
    "b"
   ]
  },
  {
   "cell_type": "code",
   "execution_count": 191,
   "metadata": {},
   "outputs": [],
   "source": [
    "features = b[0].astype(int)\n",
    "targets = b[1]\n",
    "c = features[1:]\n",
    "c = np.append(c,features[-1])\n",
    "thresholds = ((features + c) / 2)\n",
    "thresholds = thresholds[:-1]\n"
   ]
  },
  {
   "cell_type": "code",
   "execution_count": 213,
   "metadata": {},
   "outputs": [
    {
     "data": {
      "text/plain": [
       "array([1.5, 3. , 5.5, 8. ])"
      ]
     },
     "execution_count": 213,
     "metadata": {},
     "output_type": "execute_result"
    }
   ],
   "source": [
    "thresholds"
   ]
  },
  {
   "cell_type": "code",
   "execution_count": 215,
   "metadata": {},
   "outputs": [],
   "source": [
    "R_l = targets[list(np.where(features < 5.5)[0])]"
   ]
  },
  {
   "cell_type": "code",
   "execution_count": 216,
   "metadata": {},
   "outputs": [
    {
     "data": {
      "text/plain": [
       "array(['2', '1', '2'], dtype='<U21')"
      ]
     },
     "execution_count": 216,
     "metadata": {},
     "output_type": "execute_result"
    }
   ],
   "source": [
    "R_l"
   ]
  },
  {
   "cell_type": "code",
   "execution_count": 217,
   "metadata": {},
   "outputs": [],
   "source": [
    "R_r = targets[list(np.where(features > t)[0])]"
   ]
  },
  {
   "cell_type": "code",
   "execution_count": 227,
   "metadata": {},
   "outputs": [],
   "source": [
    "R_r = list(R_r)"
   ]
  },
  {
   "cell_type": "code",
   "execution_count": 229,
   "metadata": {},
   "outputs": [
    {
     "data": {
      "text/plain": [
       "0.4444444444444445"
      ]
     },
     "execution_count": 229,
     "metadata": {},
     "output_type": "execute_result"
    }
   ],
   "source": [
    "H(R_r)"
   ]
  },
  {
   "cell_type": "code",
   "execution_count": null,
   "metadata": {},
   "outputs": [],
   "source": []
  },
  {
   "cell_type": "code",
   "execution_count": 219,
   "metadata": {},
   "outputs": [
    {
     "ename": "TypeError",
     "evalue": "Cannot cast array data from dtype('<U21') to dtype('int64') according to the rule 'safe'",
     "output_type": "error",
     "traceback": [
      "\u001b[0;31m---------------------------------------------------------------------------\u001b[0m",
      "\u001b[0;31mTypeError\u001b[0m                                 Traceback (most recent call last)",
      "\u001b[0;32m/var/folders/g6/h54zm38s0yxgp8fzt3h3tqbc0000gn/T/ipykernel_12849/1132508857.py\u001b[0m in \u001b[0;36m<module>\u001b[0;34m\u001b[0m\n\u001b[0;32m----> 1\u001b[0;31m \u001b[0mH\u001b[0m\u001b[0;34m(\u001b[0m\u001b[0mR_r\u001b[0m\u001b[0;34m)\u001b[0m\u001b[0;34m\u001b[0m\u001b[0;34m\u001b[0m\u001b[0m\n\u001b[0m",
      "\u001b[0;32m/var/folders/g6/h54zm38s0yxgp8fzt3h3tqbc0000gn/T/ipykernel_12849/2996668428.py\u001b[0m in \u001b[0;36mH\u001b[0;34m(R)\u001b[0m\n\u001b[1;32m      1\u001b[0m \u001b[0;32mdef\u001b[0m \u001b[0mH\u001b[0m\u001b[0;34m(\u001b[0m\u001b[0mR\u001b[0m\u001b[0;34m)\u001b[0m\u001b[0;34m:\u001b[0m\u001b[0;34m\u001b[0m\u001b[0;34m\u001b[0m\u001b[0m\n\u001b[0;32m----> 2\u001b[0;31m     \u001b[0mp\u001b[0m \u001b[0;34m=\u001b[0m \u001b[0mnp\u001b[0m\u001b[0;34m.\u001b[0m\u001b[0mbincount\u001b[0m\u001b[0;34m(\u001b[0m\u001b[0mR\u001b[0m\u001b[0;34m)\u001b[0m \u001b[0;34m/\u001b[0m \u001b[0;36m6\u001b[0m\u001b[0;34m\u001b[0m\u001b[0;34m\u001b[0m\u001b[0m\n\u001b[0m\u001b[1;32m      3\u001b[0m     \u001b[0mp\u001b[0m \u001b[0;34m=\u001b[0m \u001b[0mp\u001b[0m\u001b[0;34m[\u001b[0m\u001b[0mp\u001b[0m \u001b[0;34m!=\u001b[0m \u001b[0;36m0\u001b[0m\u001b[0;34m]\u001b[0m\u001b[0;34m\u001b[0m\u001b[0;34m\u001b[0m\u001b[0m\n\u001b[1;32m      4\u001b[0m     \u001b[0manti_p\u001b[0m \u001b[0;34m=\u001b[0m \u001b[0;36m1\u001b[0m \u001b[0;34m-\u001b[0m \u001b[0mp\u001b[0m\u001b[0;34m\u001b[0m\u001b[0;34m\u001b[0m\u001b[0m\n\u001b[1;32m      5\u001b[0m     \u001b[0;32mreturn\u001b[0m \u001b[0msum\u001b[0m\u001b[0;34m(\u001b[0m\u001b[0mp\u001b[0m \u001b[0;34m*\u001b[0m \u001b[0manti_p\u001b[0m\u001b[0;34m)\u001b[0m\u001b[0;34m\u001b[0m\u001b[0;34m\u001b[0m\u001b[0m\n",
      "\u001b[0;32m<__array_function__ internals>\u001b[0m in \u001b[0;36mbincount\u001b[0;34m(*args, **kwargs)\u001b[0m\n",
      "\u001b[0;31mTypeError\u001b[0m: Cannot cast array data from dtype('<U21') to dtype('int64') according to the rule 'safe'"
     ]
    }
   ],
   "source": [
    "H(R_r)"
   ]
  },
  {
   "cell_type": "code",
   "execution_count": 231,
   "metadata": {},
   "outputs": [],
   "source": [
    "for t in list(thresholds):\n",
    "    \n",
    "    R_l = list(targets[list(np.where(features < t)[0])])\n",
    "    \n",
    "    R_r = list(targets[list(np.where(features > t)[0])])\n",
    "    \n",
    "    variety = H(list(targets)) - (len(R_l) / len(list(targets))) * H(R_l) - (len(R_r) / len(list(targets))) * H(R_r)\n",
    "    dict_var[variety] = t"
   ]
  },
  {
   "cell_type": "code",
   "execution_count": 232,
   "metadata": {},
   "outputs": [
    {
     "data": {
      "text/plain": [
       "{49.55555555555555: 'a',\n",
       " 25.6875: 8.0,\n",
       " 42.6875: 1.5,\n",
       " 53.666666666666664: 3.0,\n",
       " 78.0: 5.5,\n",
       " 0.0888888888888888: 1.5,\n",
       " 0.1444444444444444: 3.0,\n",
       " 0.14444444444444443: 5.5,\n",
       " 0.1333333333333333: 8.0}"
      ]
     },
     "execution_count": 232,
     "metadata": {},
     "output_type": "execute_result"
    }
   ],
   "source": [
    "dict_var"
   ]
  },
  {
   "cell_type": "code",
   "execution_count": 195,
   "metadata": {},
   "outputs": [
    {
     "ename": "TypeError",
     "evalue": "Cannot cast array data from dtype('<U21') to dtype('int64') according to the rule 'safe'",
     "output_type": "error",
     "traceback": [
      "\u001b[0;31m---------------------------------------------------------------------------\u001b[0m",
      "\u001b[0;31mTypeError\u001b[0m                                 Traceback (most recent call last)",
      "\u001b[0;32m/var/folders/g6/h54zm38s0yxgp8fzt3h3tqbc0000gn/T/ipykernel_12849/1158056255.py\u001b[0m in \u001b[0;36m<module>\u001b[0;34m\u001b[0m\n\u001b[0;32m----> 1\u001b[0;31m \u001b[0mnp\u001b[0m\u001b[0;34m.\u001b[0m\u001b[0mbincount\u001b[0m\u001b[0;34m(\u001b[0m\u001b[0mtargets\u001b[0m\u001b[0;34m)\u001b[0m\u001b[0;34m\u001b[0m\u001b[0;34m\u001b[0m\u001b[0m\n\u001b[0m",
      "\u001b[0;32m<__array_function__ internals>\u001b[0m in \u001b[0;36mbincount\u001b[0;34m(*args, **kwargs)\u001b[0m\n",
      "\u001b[0;31mTypeError\u001b[0m: Cannot cast array data from dtype('<U21') to dtype('int64') according to the rule 'safe'"
     ]
    }
   ],
   "source": [
    "np.bincount(targets)"
   ]
  },
  {
   "cell_type": "code",
   "execution_count": 223,
   "metadata": {},
   "outputs": [],
   "source": [
    "x = ['1', '3', '10', '2', '1', '2']"
   ]
  },
  {
   "cell_type": "code",
   "execution_count": 224,
   "metadata": {},
   "outputs": [
    {
     "data": {
      "text/plain": [
       "array([0.33333333, 0.33333333, 0.16666667, 0.16666667])"
      ]
     },
     "execution_count": 224,
     "metadata": {},
     "output_type": "execute_result"
    }
   ],
   "source": [
    "p = np.bincount(x) / 6\n",
    "p = p[p != 0]\n",
    "p"
   ]
  },
  {
   "cell_type": "code",
   "execution_count": 208,
   "metadata": {},
   "outputs": [
    {
     "data": {
      "text/plain": [
       "array([0.66666667, 0.66666667, 0.83333333, 0.83333333])"
      ]
     },
     "execution_count": 208,
     "metadata": {},
     "output_type": "execute_result"
    }
   ],
   "source": [
    "anti_p = 1 - p\n",
    "anti_p"
   ]
  },
  {
   "cell_type": "code",
   "execution_count": 210,
   "metadata": {},
   "outputs": [
    {
     "data": {
      "text/plain": [
       "0.7222222222222223"
      ]
     },
     "execution_count": 210,
     "metadata": {},
     "output_type": "execute_result"
    }
   ],
   "source": [
    "sum(p * anti_p)"
   ]
  },
  {
   "cell_type": "code",
   "execution_count": 199,
   "metadata": {},
   "outputs": [
    {
     "data": {
      "text/plain": [
       "6"
      ]
     },
     "execution_count": 199,
     "metadata": {},
     "output_type": "execute_result"
    }
   ],
   "source": [
    "sum(np.bincount(x))"
   ]
  },
  {
   "cell_type": "code",
   "execution_count": null,
   "metadata": {},
   "outputs": [],
   "source": [
    "np.argmax(np.bincount(c))"
   ]
  },
  {
   "cell_type": "code",
   "execution_count": 187,
   "metadata": {},
   "outputs": [
    {
     "data": {
      "text/plain": [
       "{49.55555555555555: 'a',\n",
       " 25.6875: 8.0,\n",
       " 42.6875: 1.5,\n",
       " 53.666666666666664: 3.0,\n",
       " 78.0: 5.5}"
      ]
     },
     "execution_count": 187,
     "metadata": {},
     "output_type": "execute_result"
    }
   ],
   "source": [
    "dict_var"
   ]
  },
  {
   "cell_type": "code",
   "execution_count": 179,
   "metadata": {},
   "outputs": [],
   "source": [
    "all_t = np.ones((len(targets), len(targets))) * targets\n",
    "up_tr = np.triu(all_t)[1:]\n",
    "low_tr = np.tril(all_t)[:-1]\n",
    "ginis_right = np.var(up_tr, axis = 1) \n",
    "ginis_left = np.var(low_tr, axis = 1) \n",
    "ginis = vars_right + vars_left\n",
    "comb = np.array([thresholds, ginis])\n",
    "comb_sort = comb[:, comb[1].argsort()]\n",
    "best_comb = comb_sort[:, 0]\n",
    "threshold_best = best_comb[0]\n",
    "gini_best = best_comb[1]"
   ]
  },
  {
   "cell_type": "code",
   "execution_count": 180,
   "metadata": {},
   "outputs": [
    {
     "data": {
      "text/plain": [
       "array([1.5, 3. , 5.5, 8. ])"
      ]
     },
     "execution_count": 180,
     "metadata": {},
     "output_type": "execute_result"
    }
   ],
   "source": [
    "thresholds"
   ]
  },
  {
   "cell_type": "code",
   "execution_count": null,
   "metadata": {},
   "outputs": [],
   "source": []
  },
  {
   "cell_type": "code",
   "execution_count": 170,
   "metadata": {},
   "outputs": [],
   "source": [
    "dict_var = {}\n",
    "feature_values = np.unique(a[0])\n",
    "targets = a[1].astype(int)\n",
    "for i in feature_values:\n",
    "    variety = np.var(targets[list(np.where(features == i)[0])]) + np.var(targets[list(np.where(features != i)[0])])\n",
    "    dict_var[variety] = i\n",
    "    \n",
    "\n",
    "gini_best = min(dict_var.keys())\n",
    "threshold_best = dict_var[gini_best]\n",
    "\n",
    "ginis = np.array(list(dict_var.keys()))\n",
    "thresholds = np.array(list(dict_var.values()))"
   ]
  },
  {
   "cell_type": "code",
   "execution_count": 171,
   "metadata": {},
   "outputs": [
    {
     "data": {
      "text/plain": [
       "array([49.55555556, 25.6875    , 42.6875    ])"
      ]
     },
     "execution_count": 171,
     "metadata": {},
     "output_type": "execute_result"
    }
   ],
   "source": [
    "ginis"
   ]
  },
  {
   "cell_type": "code",
   "execution_count": 172,
   "metadata": {},
   "outputs": [
    {
     "data": {
      "text/plain": [
       "25.6875"
      ]
     },
     "execution_count": 172,
     "metadata": {},
     "output_type": "execute_result"
    }
   ],
   "source": [
    "gini_best "
   ]
  },
  {
   "cell_type": "code",
   "execution_count": 173,
   "metadata": {},
   "outputs": [
    {
     "data": {
      "text/plain": [
       "'b'"
      ]
     },
     "execution_count": 173,
     "metadata": {},
     "output_type": "execute_result"
    }
   ],
   "source": [
    "threshold_best"
   ]
  },
  {
   "cell_type": "code",
   "execution_count": 174,
   "metadata": {},
   "outputs": [
    {
     "data": {
      "text/plain": [
       "array(['a', 'b', 'c'], dtype='<U1')"
      ]
     },
     "execution_count": 174,
     "metadata": {},
     "output_type": "execute_result"
    }
   ],
   "source": [
    "thresholds"
   ]
  },
  {
   "cell_type": "code",
   "execution_count": 175,
   "metadata": {},
   "outputs": [
    {
     "data": {
      "text/plain": [
       "{49.55555555555555: 'a', 25.6875: 'b', 42.6875: 'c'}"
      ]
     },
     "execution_count": 175,
     "metadata": {},
     "output_type": "execute_result"
    }
   ],
   "source": [
    "dict_var"
   ]
  },
  {
   "cell_type": "code",
   "execution_count": 78,
   "metadata": {},
   "outputs": [
    {
     "data": {
      "text/plain": [
       "array([['a', 'a', 'a', 'b', 'c'],\n",
       "       ['15', '6', '17', '1', '9']], dtype='<U21')"
      ]
     },
     "execution_count": 78,
     "metadata": {},
     "output_type": "execute_result"
    }
   ],
   "source": [
    "b = a[:, a[0].argsort()]\n",
    "b"
   ]
  },
  {
   "cell_type": "code",
   "execution_count": 147,
   "metadata": {},
   "outputs": [],
   "source": [
    "features = b[0]\n",
    "targets = b[1].astype(int)"
   ]
  },
  {
   "cell_type": "code",
   "execution_count": 148,
   "metadata": {},
   "outputs": [
    {
     "data": {
      "text/plain": [
       "array(['a', 'a', 'a', 'b', 'c'], dtype='<U21')"
      ]
     },
     "execution_count": 148,
     "metadata": {},
     "output_type": "execute_result"
    }
   ],
   "source": [
    "features"
   ]
  },
  {
   "cell_type": "code",
   "execution_count": 153,
   "metadata": {},
   "outputs": [
    {
     "data": {
      "text/plain": [
       "[3, 4]"
      ]
     },
     "execution_count": 153,
     "metadata": {},
     "output_type": "execute_result"
    }
   ],
   "source": [
    "list(np.where(features != 'a')[0])"
   ]
  },
  {
   "cell_type": "code",
   "execution_count": 155,
   "metadata": {},
   "outputs": [
    {
     "data": {
      "text/plain": [
       "38.888888888888886"
      ]
     },
     "execution_count": 155,
     "metadata": {},
     "output_type": "execute_result"
    }
   ],
   "source": [
    "np.var(targets[list(np.where(features == 'a')[0])]) + np.var(targets[list(np.where(features != 'a')[0])])"
   ]
  },
  {
   "cell_type": "code",
   "execution_count": 117,
   "metadata": {},
   "outputs": [
    {
     "data": {
      "text/plain": [
       "array([15,  6, 17,  1,  9])"
      ]
     },
     "execution_count": 117,
     "metadata": {},
     "output_type": "execute_result"
    }
   ],
   "source": [
    "targets"
   ]
  },
  {
   "cell_type": "code",
   "execution_count": 140,
   "metadata": {},
   "outputs": [],
   "source": [
    "i = np.where(features == 'a', b, 0)"
   ]
  },
  {
   "cell_type": "code",
   "execution_count": 141,
   "metadata": {},
   "outputs": [
    {
     "data": {
      "text/plain": [
       "array([['a', 'a', 'a', '0', '0'],\n",
       "       ['15', '6', '17', '0', '0']], dtype='<U21')"
      ]
     },
     "execution_count": 141,
     "metadata": {},
     "output_type": "execute_result"
    }
   ],
   "source": [
    "i"
   ]
  },
  {
   "cell_type": "code",
   "execution_count": 133,
   "metadata": {},
   "outputs": [
    {
     "data": {
      "text/plain": [
       "array([0, 1, 2])"
      ]
     },
     "execution_count": 133,
     "metadata": {},
     "output_type": "execute_result"
    }
   ],
   "source": [
    "j"
   ]
  },
  {
   "cell_type": "code",
   "execution_count": 119,
   "metadata": {},
   "outputs": [
    {
     "data": {
      "text/plain": [
       "2"
      ]
     },
     "execution_count": 119,
     "metadata": {},
     "output_type": "execute_result"
    }
   ],
   "source": [
    "reversed_list_index = features[::-1].index('a')\n",
    "\n",
    "last_index = len(features) - 1 - reversed_list_index\n",
    "last_index"
   ]
  },
  {
   "cell_type": "code",
   "execution_count": 127,
   "metadata": {},
   "outputs": [
    {
     "data": {
      "text/plain": [
       "array([['a', 'a', 'a'],\n",
       "       ['15', '6', '17']], dtype='<U21')"
      ]
     },
     "execution_count": 127,
     "metadata": {},
     "output_type": "execute_result"
    }
   ],
   "source": [
    "one_category = b[:,:last_index+1]\n",
    "one_category"
   ]
  },
  {
   "cell_type": "code",
   "execution_count": 126,
   "metadata": {},
   "outputs": [
    {
     "data": {
      "text/plain": [
       "array([['b', 'c'],\n",
       "       ['1', '9']], dtype='<U21')"
      ]
     },
     "execution_count": 126,
     "metadata": {},
     "output_type": "execute_result"
    }
   ],
   "source": [
    "other_categories = b[:,last_index+1:]\n",
    "other_categories"
   ]
  },
  {
   "cell_type": "code",
   "execution_count": 129,
   "metadata": {},
   "outputs": [
    {
     "data": {
      "text/plain": [
       "38.888888888888886"
      ]
     },
     "execution_count": 129,
     "metadata": {},
     "output_type": "execute_result"
    }
   ],
   "source": [
    "np.var(one_category[1].astype(int)) + np.var(other_categories[1].astype(int))"
   ]
  },
  {
   "cell_type": "code",
   "execution_count": null,
   "metadata": {},
   "outputs": [],
   "source": []
  },
  {
   "cell_type": "code",
   "execution_count": 112,
   "metadata": {},
   "outputs": [
    {
     "ename": "AttributeError",
     "evalue": "'numpy.ndarray' object has no attribute 'indexes'",
     "output_type": "error",
     "traceback": [
      "\u001b[0;31m---------------------------------------------------------------------------\u001b[0m",
      "\u001b[0;31mAttributeError\u001b[0m                            Traceback (most recent call last)",
      "\u001b[0;32m/var/folders/g6/h54zm38s0yxgp8fzt3h3tqbc0000gn/T/ipykernel_12849/2048906425.py\u001b[0m in \u001b[0;36m<module>\u001b[0;34m\u001b[0m\n\u001b[0;32m----> 1\u001b[0;31m \u001b[0mfeatures\u001b[0m\u001b[0;34m[\u001b[0m\u001b[0mfeatures\u001b[0m \u001b[0;34m==\u001b[0m \u001b[0;34m'a'\u001b[0m\u001b[0;34m]\u001b[0m\u001b[0;34m.\u001b[0m\u001b[0mindexes\u001b[0m\u001b[0;34m(\u001b[0m\u001b[0;34m)\u001b[0m\u001b[0;34m\u001b[0m\u001b[0;34m\u001b[0m\u001b[0m\n\u001b[0m",
      "\u001b[0;31mAttributeError\u001b[0m: 'numpy.ndarray' object has no attribute 'indexes'"
     ]
    }
   ],
   "source": [
    "features[features == 'a'].indexes()"
   ]
  },
  {
   "cell_type": "code",
   "execution_count": 105,
   "metadata": {},
   "outputs": [],
   "source": [
    "all_t = np.ones((len(targets), len(targets))) * targets"
   ]
  },
  {
   "cell_type": "code",
   "execution_count": 106,
   "metadata": {},
   "outputs": [
    {
     "data": {
      "text/plain": [
       "array([[15.,  6., 17.,  1.,  9.],\n",
       "       [15.,  6., 17.,  1.,  9.],\n",
       "       [15.,  6., 17.,  1.,  9.],\n",
       "       [15.,  6., 17.,  1.,  9.],\n",
       "       [15.,  6., 17.,  1.,  9.]])"
      ]
     },
     "execution_count": 106,
     "metadata": {},
     "output_type": "execute_result"
    }
   ],
   "source": [
    "all_t"
   ]
  },
  {
   "cell_type": "code",
   "execution_count": 107,
   "metadata": {},
   "outputs": [
    {
     "data": {
      "text/plain": [
       "array([[ 0.,  6., 17.,  1.,  9.],\n",
       "       [ 0.,  0., 17.,  1.,  9.],\n",
       "       [ 0.,  0.,  0.,  1.,  9.],\n",
       "       [ 0.,  0.,  0.,  0.,  9.]])"
      ]
     },
     "execution_count": 107,
     "metadata": {},
     "output_type": "execute_result"
    }
   ],
   "source": [
    "up_tr = np.triu(all_t)[1:]\n",
    "up_tr"
   ]
  },
  {
   "cell_type": "code",
   "execution_count": 108,
   "metadata": {},
   "outputs": [
    {
     "data": {
      "text/plain": [
       "array([[15.,  0.,  0.,  0.,  0.],\n",
       "       [15.,  6.,  0.,  0.,  0.],\n",
       "       [15.,  6., 17.,  0.,  0.],\n",
       "       [15.,  6., 17.,  1.,  0.]])"
      ]
     },
     "execution_count": 108,
     "metadata": {},
     "output_type": "execute_result"
    }
   ],
   "source": [
    "low_tr = np.tril(all_t)[:-1]\n",
    "low_tr"
   ]
  },
  {
   "cell_type": "code",
   "execution_count": 88,
   "metadata": {},
   "outputs": [],
   "source": [
    "uniqs, indexes = np.unique(b[0], return_inverse=True)"
   ]
  },
  {
   "cell_type": "code",
   "execution_count": 89,
   "metadata": {},
   "outputs": [
    {
     "data": {
      "text/plain": [
       "array(['a', 'b', 'c'], dtype='<U21')"
      ]
     },
     "execution_count": 89,
     "metadata": {},
     "output_type": "execute_result"
    }
   ],
   "source": [
    "uniqs"
   ]
  },
  {
   "cell_type": "code",
   "execution_count": 90,
   "metadata": {},
   "outputs": [
    {
     "data": {
      "text/plain": [
       "array([0, 0, 0, 1, 2])"
      ]
     },
     "execution_count": 90,
     "metadata": {},
     "output_type": "execute_result"
    }
   ],
   "source": [
    "indexes"
   ]
  },
  {
   "cell_type": "code",
   "execution_count": 91,
   "metadata": {},
   "outputs": [
    {
     "data": {
      "text/plain": [
       "array(['15', '15', '15', '6', '17'], dtype='<U21')"
      ]
     },
     "execution_count": 91,
     "metadata": {},
     "output_type": "execute_result"
    }
   ],
   "source": [
    "b[1][indexes]"
   ]
  },
  {
   "cell_type": "code",
   "execution_count": null,
   "metadata": {},
   "outputs": [],
   "source": [
    "feature_values = np.unique(R_m[feature])\n",
    "    \n",
    "    for t in feature_values:\n",
    "        Q_array.append(q_error(R_m, feature, t))\n",
    "        \n",
    "    opt_threshold = feature_values[np.argmin(Q_array)]\n",
    "    \n",
    "    return opt_threshold, Q_array"
   ]
  },
  {
   "cell_type": "code",
   "execution_count": null,
   "metadata": {},
   "outputs": [],
   "source": [
    "def split_node(R_m: np.array, feature: str, t: float) -> Iterable[np.array]:\n",
    "    \"\"\"\n",
    "    Split a fixed set of objects R_m given feature number and threshold t\n",
    "    \"\"\"\n",
    "    mask = R_m[feature] < t\n",
    "    return R_m[mask], R_m[~mask]\n",
    "\n",
    "\n",
    "def q_error(R_m: np.array, feature: str, t: float) -> float:\n",
    "    \"\"\"\n",
    "    Compute error criterion for given split parameters\n",
    "    \"\"\"\n",
    "    R_left, R_right = split_node(R_m, feature, t)\n",
    "    error = len(R_left) / len(R_m) * H(R_left) +  len(R_right)/ len(R_m) * H(R_right)\n",
    "    return error"
   ]
  },
  {
   "cell_type": "markdown",
   "metadata": {},
   "source": [
    "Эту функцию можно протестировать на датасете `Boston` из `sklearn`."
   ]
  },
  {
   "cell_type": "code",
   "execution_count": 317,
   "metadata": {
    "scrolled": true
   },
   "outputs": [
    {
     "name": "stdout",
     "output_type": "stream",
     "text": [
      ".. _boston_dataset:\n",
      "\n",
      "Boston house prices dataset\n",
      "---------------------------\n",
      "\n",
      "**Data Set Characteristics:**  \n",
      "\n",
      "    :Number of Instances: 506 \n",
      "\n",
      "    :Number of Attributes: 13 numeric/categorical predictive. Median Value (attribute 14) is usually the target.\n",
      "\n",
      "    :Attribute Information (in order):\n",
      "        - CRIM     per capita crime rate by town\n",
      "        - ZN       proportion of residential land zoned for lots over 25,000 sq.ft.\n",
      "        - INDUS    proportion of non-retail business acres per town\n",
      "        - CHAS     Charles River dummy variable (= 1 if tract bounds river; 0 otherwise)\n",
      "        - NOX      nitric oxides concentration (parts per 10 million)\n",
      "        - RM       average number of rooms per dwelling\n",
      "        - AGE      proportion of owner-occupied units built prior to 1940\n",
      "        - DIS      weighted distances to five Boston employment centres\n",
      "        - RAD      index of accessibility to radial highways\n",
      "        - TAX      full-value property-tax rate per $10,000\n",
      "        - PTRATIO  pupil-teacher ratio by town\n",
      "        - B        1000(Bk - 0.63)^2 where Bk is the proportion of black people by town\n",
      "        - LSTAT    % lower status of the population\n",
      "        - MEDV     Median value of owner-occupied homes in $1000's\n",
      "\n",
      "    :Missing Attribute Values: None\n",
      "\n",
      "    :Creator: Harrison, D. and Rubinfeld, D.L.\n",
      "\n",
      "This is a copy of UCI ML housing dataset.\n",
      "https://archive.ics.uci.edu/ml/machine-learning-databases/housing/\n",
      "\n",
      "\n",
      "This dataset was taken from the StatLib library which is maintained at Carnegie Mellon University.\n",
      "\n",
      "The Boston house-price data of Harrison, D. and Rubinfeld, D.L. 'Hedonic\n",
      "prices and the demand for clean air', J. Environ. Economics & Management,\n",
      "vol.5, 81-102, 1978.   Used in Belsley, Kuh & Welsch, 'Regression diagnostics\n",
      "...', Wiley, 1980.   N.B. Various transformations are used in the table on\n",
      "pages 244-261 of the latter.\n",
      "\n",
      "The Boston house-price data has been used in many machine learning papers that address regression\n",
      "problems.   \n",
      "     \n",
      ".. topic:: References\n",
      "\n",
      "   - Belsley, Kuh & Welsch, 'Regression diagnostics: Identifying Influential Data and Sources of Collinearity', Wiley, 1980. 244-261.\n",
      "   - Quinlan,R. (1993). Combining Instance-Based and Model-Based Learning. In Proceedings on the Tenth International Conference of Machine Learning, 236-243, University of Massachusetts, Amherst. Morgan Kaufmann.\n",
      "\n"
     ]
    }
   ],
   "source": [
    "from sklearn.datasets import load_boston\n",
    "\n",
    "boston = load_boston()\n",
    "X = pd.DataFrame(data=boston[\"data\"], columns=boston[\"feature_names\"])\n",
    "y = boston[\"target\"]\n",
    "X.head()\n",
    "\n",
    "print(boston[\"DESCR\"])"
   ]
  },
  {
   "cell_type": "markdown",
   "metadata": {},
   "source": [
    "Выведите график зависимости значения критерия ошибки от порогового значения при разбиении вершины по признаку `CRIM`."
   ]
  },
  {
   "cell_type": "code",
   "execution_count": null,
   "metadata": {},
   "outputs": [],
   "source": []
  },
  {
   "cell_type": "markdown",
   "metadata": {},
   "source": [
    "**Задание 2.2 (1 балл)** Разберитесь с написанным кодом решающего дерева, заполните пропуски в коде и реализуйте недостающий метод `_predict_node()`.\n",
    "\n",
    "Построение дерева осуществляется согласно базовому жадному алгоритму, предложенному в лекции в разделе «Построение дерева».\n",
    "- **Выбор лучшего разбиения** необходимо производить по критерию Джини.\n",
    "- **Критерий останова:** все объекты в листе относятся к одному классу или ни по одному признаку нельзя разбить выборку.\n",
    "- **Ответ в листе:** наиболее часто встречающийся класс в листе."
   ]
  },
  {
   "cell_type": "code",
   "execution_count": null,
   "metadata": {},
   "outputs": [],
   "source": [
    "class DecisionTree:\n",
    "    \n",
    "    def __init__(\n",
    "        self, \n",
    "        feature_types: Union[List[str], np.ndarray], \n",
    "        max_depth: int = None, \n",
    "        min_samples_split: int = None, \n",
    "        min_samples_leaf: int = None,\n",
    "        task: str = \"classification\"\n",
    "    ) -> None:\n",
    "        \n",
    "        if np.any(list(map(lambda x: x != \"real\" and x != \"categorical\", feature_types))):\n",
    "            raise ValueError(\"There is unknown feature type\")\n",
    "\n",
    "        # В этой переменной будем хранить узлы решающего дерева. Каждая вершина хранит в себе идентификатор того,\n",
    "        # является ли она листовой. Листовые вершины хранят значение класса для предсказания, нелистовые - правого и\n",
    "        # левого детей (поддеревья для продолжения процедуры предсказания)\n",
    "        self._tree = {}\n",
    "        \n",
    "        # типы признаков (категориальные или числовые)\n",
    "        self._feature_types = feature_types\n",
    "        \n",
    "        # гиперпараметры дерева\n",
    "        self._max_depth = max_depth\n",
    "        self._min_samples_split = min_samples_split\n",
    "        self._min_samples_leaf = min_samples_leaf\n",
    "        self.task = task\n",
    "\n",
    "    def _fit_node(\n",
    "        self, \n",
    "        sub_X: np.ndarray, \n",
    "        sub_y: np.ndarray, \n",
    "        node: dict\n",
    "    ) -> None:\n",
    "        \n",
    "        # критерий останова\n",
    "        if np.all(sub_y == sub_y[0]):\n",
    "            node[\"type\"] = \"terminal\"\n",
    "            node[\"class\"] = sub_y[0]\n",
    "            return\n",
    "\n",
    "        feature_best, threshold_best, gini_best, split = None, None, None, None\n",
    "        for feature in range(sub_X.shape[1]):\n",
    "            feature_type = self._feature_types[feature]\n",
    "            categories_map = {}\n",
    "\n",
    "            # подготавливаем признак для поиска оптимального порога\n",
    "            if feature_type == \"real\":\n",
    "                feature_vector = sub_X[:, feature]\n",
    "            elif feature_type == \"categorical\":\n",
    "                # здесь могла быть реализация более сложного подхода к обработке категориального признака\n",
    "                feature_vector = sub_X[:, feature]\n",
    "\n",
    "            # ищем оптимальный порог\n",
    "            _, _, threshold, gini = find_best_split(feature_vector, sub_y, self.task, feature_type)\n",
    "            \n",
    "            if gini_best is None or gini > gini_best:\n",
    "                feature_best = feature\n",
    "                gini_best = gini\n",
    "\n",
    "                # split - маска на объекты, которые должны попасть в левое поддерево\n",
    "                if feature_type == \"real\":\n",
    "                    threshold_best = threshold\n",
    "                    split = # ᕕ(╭ರ╭ ͟ʖ╮•́)⊃¤=(————-\n",
    "                elif feature_type == \"categorical\":\n",
    "                    # в данной реализации это просто значение категории\n",
    "                    threshold_best = threshold\n",
    "                    split = # ᕕ(╭ರ╭ ͟ʖ╮•́)⊃¤=(————-\n",
    "                else:\n",
    "                    raise ValueError\n",
    "\n",
    "        # записываем полученные сплиты в атрибуты класса\n",
    "        if feature_best is None:\n",
    "            node[\"type\"] = \"terminal\"\n",
    "            node[\"class\"] = Counter(sub_y).most_common(1)[0][0]\n",
    "            return\n",
    "\n",
    "        node[\"type\"] = \"nonterminal\"\n",
    "\n",
    "        node[\"feature_split\"] = feature_best\n",
    "        if self._feature_types[feature_best] == \"real\":\n",
    "            node[\"threshold\"] = threshold_best\n",
    "        elif self._feature_types[feature_best] == \"categorical\":\n",
    "            node[\"category_split\"] = threshold_best\n",
    "        else:\n",
    "            raise ValueError\n",
    "            \n",
    "        node[\"left_child\"], node[\"right_child\"] = {}, {}\n",
    "        self._fit_node(sub_X[split], sub_y[split], node[\"left_child\"])\n",
    "        self._fit_node(sub_X[np.logical_not(split)], sub_y[np.logical_not(split)], node[\"right_child\"])\n",
    "\n",
    "    def _predict_node(self, x: np.ndarray, node: dict) -> int:\n",
    "        \"\"\"\n",
    "        Предсказание начинается с корневой вершины дерева и рекурсивно идёт в левое или правое поддерево в зависимости от значения\n",
    "        предиката на объекте. Листовая вершина возвращает предсказание.\n",
    "        :param x: np.array, элемент выборки\n",
    "        :param node: dict, вершина дерева\n",
    "        \"\"\"\n",
    "        # ᕕ(╭ರ╭ ͟ʖ╮•́)⊃¤=(————-\n",
    "        pass\n",
    "\n",
    "    def fit(self, X: np.ndarray, y: np.ndarray) -> None:\n",
    "        self._fit_node(X, y, self._tree)\n",
    "\n",
    "    def predict(self, X: np.ndarray) -> np.ndarray:\n",
    "        predicted = []\n",
    "        for x in X:\n",
    "            predicted.append(self._predict_node(x, self._tree))\n",
    "            \n",
    "        return np.array(predicted)"
   ]
  },
  {
   "cell_type": "markdown",
   "metadata": {},
   "source": [
    "**Задание 2.3 (1 балл)** Загрузите таблицу [students.csv](https://drive.google.com/file/d/0B2zoFVYw1rN3a0d0Zm43TzQ4aUU/view?usp=sharing) (это немного преобразованный датасет [User Knowledge](https://archive.ics.uci.edu/ml/datasets/User+Knowledge+Modeling)). В ней признаки объекта записаны в первых пяти столбцах, а в последнем записана целевая переменная (класс: 0 или 1). Постройте на одном изображении пять кривых \"порог — значение критерия Джини\" для всех пяти признаков. Отдельно визуализируйте диаграммы рассеяния \"значение признака — класс\" для всех пяти признаков."
   ]
  },
  {
   "cell_type": "code",
   "execution_count": null,
   "metadata": {},
   "outputs": [],
   "source": []
  },
  {
   "cell_type": "markdown",
   "metadata": {},
   "source": [
    "Исходя из кривых значений критерия Джини, по какому признаку нужно производить деление выборки на два поддерева? Согласуется ли этот результат с визуальной оценкой диаграмм рассеяиния? Как бы охарактеризовали вид кривой для \"хороших\" признаков, по которым выборка делится почти идеально? Чем отличаются кривые для признаков, по которым деление практически невозможно?"
   ]
  },
  {
   "cell_type": "code",
   "execution_count": null,
   "metadata": {},
   "outputs": [],
   "source": []
  },
  {
   "cell_type": "markdown",
   "metadata": {},
   "source": [
    "**Задание 2.4 (1 балл)** Протестируйте свое решающее дерево на датасете [mushrooms](https://archive.ics.uci.edu/ml/datasets/Mushroom). \n",
    "\n",
    "1. Скачайте таблицу `agaricus-lepiota.data` (из [Data Folder](https://archive.ics.uci.edu/ml/machine-learning-databases/mushroom/)), \n",
    "2. Считайте таблицу при помощи `pandas`,\n",
    "3. Примените к каждому столбцу `LabelEncoder` (из `sklearn`), чтобы преобразовать строковые имена категорий в натуральные числа. \n",
    "\n",
    "Первый столбец — это целевая переменная (e — edible, p — poisonous) Мы будем измерять качество с помощью accuracy, так что нам не очень важно, что будет классом 1, а что — классом 0. Обучите решающее дерево на половине случайно выбранных объектов (признаки в датасете категориальные) и сделайте предсказания для оставшейся половины. Вычислите accuracy."
   ]
  },
  {
   "cell_type": "code",
   "execution_count": null,
   "metadata": {},
   "outputs": [],
   "source": []
  },
  {
   "cell_type": "markdown",
   "metadata": {},
   "source": [
    "## Часть 3: Бэггинг и случайный лес (4 балла)"
   ]
  },
  {
   "cell_type": "markdown",
   "metadata": {},
   "source": [
    "В данной части мы будем работать [с задачей предсказания диабета у пациента](https://www.kaggle.com/uciml/pima-indians-diabetes-database/data). Посмотрим на работу бэггинга над решающими деревьями и случайного леса, сравним их работу."
   ]
  },
  {
   "cell_type": "code",
   "execution_count": null,
   "metadata": {},
   "outputs": [],
   "source": [
    "from sklearn.ensemble import BaggingClassifier, RandomForestClassifier\n",
    "from sklearn.metrics import accuracy_score, precision_score, recall_score, roc_auc_score\n",
    "from sklearn.model_selection import train_test_split\n",
    "from sklearn.tree import DecisionTreeClassifier"
   ]
  },
  {
   "cell_type": "code",
   "execution_count": null,
   "metadata": {
    "scrolled": true
   },
   "outputs": [],
   "source": [
    "data = pd.read_csv('diabetes.csv')\n",
    "print(f\"Dataset shape: {data.shape}\")\n",
    "data.head()"
   ]
  },
  {
   "cell_type": "markdown",
   "metadata": {},
   "source": [
    "Посмотрим на распределение целевой переменной"
   ]
  },
  {
   "cell_type": "code",
   "execution_count": null,
   "metadata": {},
   "outputs": [],
   "source": [
    "data['Outcome'].hist()\n",
    "plt.show()"
   ]
  },
  {
   "cell_type": "markdown",
   "metadata": {},
   "source": [
    "**Задание 3.1 (0.5 балла)** Разделите данные на признаки и целевую переменную. Разбейте датасет на обучающую и тестовую части в отношении 7:3. Затем разделите обучающую выборку на обучающую-обучающую и обучающую-валидационную в соотношении 7:3 (то есть в итоге должно получиться три выборки: обучающая-обучающая (0.49 от исходного датасета), обучающая-валидационная (0.21 от исходного датасета) и тестовая (0.3 от исходного датасета)."
   ]
  },
  {
   "cell_type": "code",
   "execution_count": null,
   "metadata": {},
   "outputs": [],
   "source": []
  },
  {
   "cell_type": "markdown",
   "metadata": {},
   "source": [
    "**Задание 3.2 (1 балл)** На обучающей-валидационной выборке подберите оптимальные значения гиперпараметров `max_depth` и `min_samples_leaf` для `DecisionTreeClassifier`. Для этого:\n",
    "1. Создайте списки с возможными значениями для перебора.\n",
    "2. Для каждой пары значений обучите дерево на обучающей-обучающей выборке и определите качество на обучающей-валидационной выборке. В качестве критерия будем использовать `f1-меру`.\n",
    "3. Выберите ту пару значений, которая даёт наилучшее качество на обучающей-валидационной выборке. \n",
    "\n",
    "\n",
    "Обучите решающее дерево с подобранными гиперпараметрами на **полной обучающей** выборке. Оцените качество классификации на тестовой выборке по метрикам `accuracy`, `precision` и `recall`, `auc_roc`."
   ]
  },
  {
   "cell_type": "code",
   "execution_count": null,
   "metadata": {},
   "outputs": [],
   "source": []
  },
  {
   "cell_type": "markdown",
   "metadata": {},
   "source": [
    "**Задание 3.3 (0.5 балла)** Обучите [`BaggingClassifier`](https://scikit-learn.org/stable/modules/generated/sklearn.ensemble.BaggingClassifier.html) на 50 деревьях на **полной обучающей** выборке. Оцените качество классификации на тестовой выборке по тем же метрикам."
   ]
  },
  {
   "cell_type": "code",
   "execution_count": null,
   "metadata": {},
   "outputs": [],
   "source": []
  },
  {
   "cell_type": "markdown",
   "metadata": {},
   "source": [
    "**Задание 3.4 (1 балл)** Выполните кросс-валидацию на полной обучающей выборке и подберите оптимальные значения гиперпараметров `max_depth` и `min_samples_split` для `Random Forest` с 50 деревьями. Для этого:\n",
    "\n",
    "1. Создайте списки с возможными значениями для перебора.\n",
    "2. Для каждой пары значений проведите кросс-валидацию на полной обучающей выборке. Количество разбиений выберите на ваш вкус. В качестве критерия будем использовать `f1-меру`. Усредните значение критерия по всем прогонам кросс-валидации. \n",
    "3. Выберите ту пару значений, которая даёт наилучшее среднее качество. \n",
    "\n",
    "Обучите случайный лес с подобранными гиперпараметрами на **полной обучающей** выборке. Оцените качество классификации по тем же метрикам. Какая из трёх построенных моделей показала себя лучше?"
   ]
  },
  {
   "cell_type": "code",
   "execution_count": null,
   "metadata": {},
   "outputs": [],
   "source": []
  },
  {
   "cell_type": "markdown",
   "metadata": {},
   "source": [
    "**Задание 3.5 (0.5 балла)** Постройте график зависимости AUC ROC на тестовой выборке от числа деревьев (`n_estimators`) для случайного леса, обучаемого на **полной обучающей** выборке. Какие выводы можно сделать?"
   ]
  },
  {
   "cell_type": "code",
   "execution_count": null,
   "metadata": {},
   "outputs": [],
   "source": []
  },
  {
   "cell_type": "markdown",
   "metadata": {},
   "source": [
    "**Задание 3.6 (0.5 балла)** Для лучшей модели случайного леса из **Задания 3.4** посчитайте важность признаков и постройте bar plot. Какой признак оказался самым важным для определения диабета?"
   ]
  },
  {
   "cell_type": "code",
   "execution_count": null,
   "metadata": {},
   "outputs": [],
   "source": []
  }
 ],
 "metadata": {
  "kernelspec": {
   "display_name": "Python 3 (ipykernel)",
   "language": "python",
   "name": "python3"
  },
  "language_info": {
   "codemirror_mode": {
    "name": "ipython",
    "version": 3
   },
   "file_extension": ".py",
   "mimetype": "text/x-python",
   "name": "python",
   "nbconvert_exporter": "python",
   "pygments_lexer": "ipython3",
   "version": "3.9.7"
  }
 },
 "nbformat": 4,
 "nbformat_minor": 4
}
