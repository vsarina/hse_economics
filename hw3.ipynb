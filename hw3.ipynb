{
 "cells": [
  {
   "cell_type": "markdown",
   "metadata": {
    "id": "vKdcvMtSMpSg"
   },
   "source": [
    "#Майнор ИАД. Домашнее задание 3. YOLO.\n",
    "\n",
    "В этом задании вы напишете и обучите свой собственный YOLO детектор. Нужно будет разобраться со статьей: понять какого формата должна быть обучающая пара (x, y), как перевести лосс из математической формулы в питоновский код - ну и конечно понять и реализовать саму архитектуру модели.\n",
    "\n",
    "Выборка на котрой мы будем обучать модель состоит из разнообразных фотографий яблок, бананов и апельсинов. Данные скачиваем [отсюда](https://drive.google.com/file/d/1d8GSfZoWbraWCSUhX78yl4CnMFYE-5n3/view?usp=sharing).\n",
    "\n",
    "Баллы за ДЗ распределены следующим образом: \n",
    "- Выборка для YoloV1 - 2 балла\n",
    "- YOLO модель - 2 балла\n",
    "- YOLO Loss - 3 балла\n",
    "- Вспомогательные функции - 2 балла\n",
    "- Обучение и расчет метрик - 2 балла\n",
    "\n",
    "Для построения и обучения можно использовать как pytorch, так и pytorch-lightning.\n",
    "\n",
    "Да-да, баллов в сумме получается 11"
   ]
  },
  {
   "cell_type": "code",
   "execution_count": null,
   "metadata": {
    "colab": {
     "base_uri": "https://localhost:8080/"
    },
    "id": "TY4niK1xMpSg",
    "outputId": "1810d5cf-5d4d-4b5b-db31-5a220ee2b74d"
   },
   "outputs": [
    {
     "name": "stdout",
     "output_type": "stream",
     "text": [
      "Looking in indexes: https://pypi.org/simple, https://us-python.pkg.dev/colab-wheels/public/simple/\n",
      "Collecting xmltodict\n",
      "  Downloading xmltodict-0.13.0-py2.py3-none-any.whl (10.0 kB)\n",
      "Installing collected packages: xmltodict\n",
      "Successfully installed xmltodict-0.13.0\n"
     ]
    }
   ],
   "source": [
    "# Данная библиотека понадобится нам, чтобы обработать разметку\n",
    "! pip install xmltodict pytorch-lightning"
   ]
  },
  {
   "cell_type": "markdown",
   "metadata": {
    "id": "hNSQ7FNss30F"
   },
   "source": [
    "Скачаем данные"
   ]
  },
  {
   "cell_type": "code",
   "execution_count": 2,
   "metadata": {
    "colab": {
     "base_uri": "https://localhost:8080/"
    },
    "id": "lN1dE6eY7PjV",
    "outputId": "beb005ec-2b9b-42ab-c294-127ee4ec4b39"
   },
   "outputs": [
    {
     "name": "stdout",
     "output_type": "stream",
     "text": [
      "total 4\n",
      "drwx------ 4 root root 4096 Nov 26 08:32 data\n"
     ]
    }
   ],
   "source": [
    "!wget --quiet --load-cookies /tmp/cookies.txt \"https://docs.google.com/uc?export=download&confirm=$(wget --quiet --save-cookies /tmp/cookies.txt --keep-session-cookies --no-check-certificate 'https://drive.google.com/uc?export=download&id=1d8GSfZoWbraWCSUhX78yl4CnMFYE-5n3' -O- | sed -rn 's/.*confirm=([0-9A-Za-z_]+).*/\\1\\n/p')&id=1d8GSfZoWbraWCSUhX78yl4CnMFYE-5n3\" -O data.zip && rm -rf /tmp/cookies.txt\n",
    "!unzip -q data.zip\n",
    "!rm data.zip\n",
    "!ls -l"
   ]
  },
  {
   "cell_type": "markdown",
   "metadata": {
    "id": "Ep38vdW_s-Rz"
   },
   "source": [
    "Посмотрим как выглядит один из файлов разметки"
   ]
  },
  {
   "cell_type": "code",
   "execution_count": 3,
   "metadata": {
    "colab": {
     "base_uri": "https://localhost:8080/"
    },
    "id": "OqwaHl3ntBaN",
    "outputId": "77ce5c63-e716-4a57-90a9-2179534fa789"
   },
   "outputs": [
    {
     "name": "stdout",
     "output_type": "stream",
     "text": [
      "<annotation>\n",
      "\t<folder>train</folder>\n",
      "\t<filename>apple_3.jpg</filename>\n",
      "\t<path>C:\\tensorflow1\\models\\research\\object_detection\\images\\train\\apple_3.jpg</path>\n",
      "\t<source>\n",
      "\t\t<database>Unknown</database>\n",
      "\t</source>\n",
      "\t<size>\n",
      "\t\t<width>1000</width>\n",
      "\t\t<height>708</height>\n",
      "\t\t<depth>3</depth>\n",
      "\t</size>\n",
      "\t<segmented>0</segmented>\n",
      "\t<object>\n",
      "\t\t<name>apple</name>\n",
      "\t\t<pose>Unspecified</pose>\n",
      "\t\t<truncated>1</truncated>\n",
      "\t\t<difficult>0</difficult>\n",
      "\t\t<bndbox>\n",
      "\t\t\t<xmin>584</xmin>\n",
      "\t\t\t<ymin>438</ymin>\n",
      "\t\t\t<xmax>867</xmax>\n",
      "\t\t\t<ymax>708</ymax>\n",
      "\t\t</bndbox>\n",
      "\t</object>\n",
      "\t<object>\n",
      "\t\t<name>apple</name>\n",
      "\t\t<pose>Unspecified</pose>\n",
      "\t\t<truncated>0</truncated>\n",
      "\t\t<difficult>0</difficult>\n",
      "\t\t<bndbox>\n",
      "\t\t\t<xmin>492</xmin>\n",
      "\t\t\t<ymin>141</ymin>\n",
      "\t\t\t<xmax>740</xmax>\n",
      "\t\t\t<ymax>394</ymax>\n",
      "\t\t</bndbox>\n",
      "\t</object>\n",
      "\t<object>\n",
      "\t\t<name>apple</name>\n",
      "\t\t<pose>Unspecified</pose>\n",
      "\t\t<truncated>0</truncated>\n",
      "\t\t<difficult>0</difficult>\n",
      "\t\t<bndbox>\n",
      "\t\t\t<xmin>176</xmin>\n",
      "\t\t\t<ymin>199</ymin>\n",
      "\t\t\t<xmax>490</xmax>\n",
      "\t\t\t<ymax>466</ymax>\n",
      "\t\t</bndbox>\n",
      "\t</object>\n",
      "\t<object>\n",
      "\t\t<name>apple</name>\n",
      "\t\t<pose>Unspecified</pose>\n",
      "\t\t<truncated>0</truncated>\n",
      "\t\t<difficult>0</difficult>\n",
      "\t\t<bndbox>\n",
      "\t\t\t<xmin>367</xmin>\n",
      "\t\t\t<ymin>17</ymin>\n",
      "\t\t\t<xmax>619</xmax>\n",
      "\t\t\t<ymax>240</ymax>\n",
      "\t\t</bndbox>\n",
      "\t</object>\n",
      "\t<object>\n",
      "\t\t<name>apple</name>\n",
      "\t\t<pose>Unspecified</pose>\n",
      "\t\t<truncated>0</truncated>\n",
      "\t\t<difficult>0</difficult>\n",
      "\t\t<bndbox>\n",
      "\t\t\t<xmin>642</xmin>\n",
      "\t\t\t<ymin>35</ymin>\n",
      "\t\t\t<xmax>907</xmax>\n",
      "\t\t\t<ymax>269</ymax>\n",
      "\t\t</bndbox>\n",
      "\t</object>\n",
      "</annotation>\n"
     ]
    }
   ],
   "source": [
    "!cat data/train/apple_3.xml"
   ]
  },
  {
   "cell_type": "markdown",
   "metadata": {
    "id": "QdQxrA5_MpSg"
   },
   "source": [
    "## Релизуйте выборку для YoloV1 - 2 балла"
   ]
  },
  {
   "cell_type": "code",
   "execution_count": null,
   "metadata": {
    "id": "QXG9reop-BkS"
   },
   "outputs": [],
   "source": [
    "import os\n",
    "import cv2\n",
    "import json\n",
    "import glob\n",
    "import tqdm\n",
    "import xmltodict\n",
    "\n",
    "from IPython.core.display import struct\n",
    "\n",
    "from typing import List\n",
    "\n",
    "import pandas as pd\n",
    "import numpy as np\n",
    "\n",
    "import torch\n",
    "import torchvision\n",
    "from torch import nn\n",
    "from torch.nn import functional as F\n",
    "from torch.utils.data import Dataset, DataLoader\n",
    "\n",
    "import pytorch_lightning as pl\n",
    "\n",
    "import albumentations as A\n",
    "import albumentations.pytorch\n",
    "\n",
    "from PIL import Image\n",
    "\n",
    "import matplotlib.pyplot as plt\n",
    "\n",
    "from sklearn.metrics import auc\n",
    "# Добавьте необходимые вам библиотеки, если их не окажется в списке выше"
   ]
  },
  {
   "cell_type": "markdown",
   "metadata": {
    "id": "2gL8_CyyTYJ-"
   },
   "source": [
    "Так как в этом домашнем задании использовать аугментации для обучения __обязательно__ - советуем воспользоваться библиотекой albumentations.\n",
    "\n",
    "Она  особенно удобна, поскольку умеет сама вычислять новые координаты bounding box'ов после трансформаций картинки. Для знакомства с этим механизмом советуем следующий [гайд](https://albumentations.ai/docs/getting_started/bounding_boxes_augmentation/). \n",
    "\n",
    "Вы все еще можете избрать путь torchvision.transforms, вам потребуется знакомый нам метод `__getitem__`, однако вычислять новые координаты bounding box'ов после трансформаций вам придётся вручную\n",
    "\n",
    "__Обратите внимание__ на то, что в статье коробки предсказаний параметризуются через: _(x_center, y_center, width, height)_ (причем эти значения _относительные_), а в наших файлах - это _(x_min, y_min, x_max, y_max)_\n",
    "\n",
    "Также, помните что модель должна предсказывать как прямоугольник с обьектом, так и вероятности каждого класса!"
   ]
  },
  {
   "cell_type": "code",
   "execution_count": null,
   "metadata": {
    "id": "tjZkU0vzMpSh"
   },
   "outputs": [],
   "source": [
    "class2tag = {\"apple\": 1, \"orange\": 2, \"banana\": 3}\n",
    "\n",
    "class FruitDataset(Dataset):\n",
    "    def __init__(self, data_dir, transforms=None):\n",
    "        self.image_paths = ...  ## YOUR CODE\n",
    "        self.box_paths = ... ## YOUR CODE\n",
    "\n",
    "        assert len(self.image_paths) == len(self.box_paths)\n",
    "\n",
    "        self.transforms = transforms\n",
    "\n",
    "    # Координаты прямоугольников советуем вернуть именно в формате (x_center, y_center, width, height)\n",
    "    def __getitem__(self, idx):\n",
    "        image = np.array(Image.open(self.image_paths[idx]).convert(\"RGB\"))\n",
    "        boxes, class_labels = self.__get_boxes_from_xml(self.box_paths[idx])\n",
    "\n",
    "        if self.transforms:\n",
    "        ## YOUR CODE\n",
    "\n",
    "        return image, (boxes, class_labels)\n",
    "\n",
    "    def __len__(self):\n",
    "        return len(self.image_paths)\n",
    "\n",
    "    def __get_boxes_from_xml(self, xml_filename: str):\n",
    "      \"\"\"\n",
    "      Метод, который считает и распарсит (с помощью xmltodict) переданный xml\n",
    "      файл и вернет координаты прямоугольников обьектов на соответсвующей фотографии\n",
    "      и название класса обьекта в каждом прямоугольнике\n",
    "\n",
    "      Обратите внимание, что обьектов может быть как несколько, так и один единственный\n",
    "      \"\"\"\n",
    "        boxes = []\n",
    "        class_labels = []\n",
    "\n",
    "        ## YOUR CODE\n",
    "        ...\n",
    "        ## YOUR CODE\n",
    "\n",
    "        return boxes, class_labels\n",
    "\n",
    "    def __convert_to_yolo_box_params(self, box_coordinates: List[int], im_w, im_h):\n",
    "      \"\"\"\n",
    "      Перейти от [xmin, ymin, xmax, ymax] к [x_center, y_center, width, height].\n",
    "      \n",
    "      Обратите внимание, что параметры [x_center, y_center, width, height] - это\n",
    "      относительные значение в отрезке [0, 1]\n",
    "\n",
    "      :param: box_coordinates - координаты коробки в формате [xmin, ymin, xmax, ymax]\n",
    "      :param: im_w - ширина исходного изображения\n",
    "      :param: im_h - высота исходного изображения\n",
    "\n",
    "      :return: координаты коробки в формате [x_center, y_center, width, height]\n",
    "      \"\"\"\n",
    "        ans = []\n",
    "\n",
    "        ans.append((box_coordinates[0] + box_coordinates[2]) / 2 / im_w)  # x_center\n",
    "        ans.append((box_coordinates[1] + box_coordinates[3]) / 2 / im_h)  # y_center\n",
    "      \n",
    "        ans.append((box_coordinates[2] - box_coordinates[0]) / im_w)  # width\n",
    "        ans.append((box_coordinates[3] - box_coordinates[1]) / im_h)  # height\n",
    "        return ans"
   ]
  },
  {
   "cell_type": "code",
   "execution_count": null,
   "metadata": {
    "id": "OwXeSiAjdGeq"
   },
   "outputs": [],
   "source": [
    "WIDTH, HEIGHT = 448\n",
    "\n",
    "train_transform = A.Compose([...], ## YOUR CODE\n",
    "                             bbox_params=A.BboxParams(format='yolo',\n",
    "                                                      label_fields=['class_labels']))\n",
    "test_transform = A.Compose([...], ## YOUR CODE\n",
    "                            bbox_params=A.BboxParams(format='yolo',\n",
    "                                                     label_fields=['class_labels']))"
   ]
  },
  {
   "cell_type": "code",
   "execution_count": null,
   "metadata": {
    "colab": {
     "base_uri": "https://localhost:8080/"
    },
    "id": "ayPwbRKocdCE",
    "outputId": "c7ec7134-c763-435c-a575-de2e16122a82"
   },
   "outputs": [
    {
     "name": "stdout",
     "output_type": "stream",
     "text": [
      "Тесты успешно пройдены\n"
     ]
    }
   ],
   "source": [
    "train_dataset = FruitDataset(\n",
    "    transforms=train_transform,\n",
    "    data_dir=\"./data/train\"\n",
    "    )\n",
    "\n",
    "val_dataset = FruitDataset(\n",
    "    transforms=test_transform, \n",
    "    data_dir=\"./data/test\"\n",
    "    )\n",
    "\n",
    "# Немного проверок, чтобы убедиться в правильности направления решения\n",
    "assert isinstance(train_dataset[0], tuple)\n",
    "assert len(train_dataset[0]) == 2\n",
    "assert isinstance(train_dataset[0][0], torch.Tensor)\n",
    "assert isinstance(train_dataset[0][1], tuple)\n",
    "assert len(train_dataset[0][1]) == 2\n",
    "print(\"Тесты успешно пройдены\")"
   ]
  },
  {
   "cell_type": "code",
   "execution_count": null,
   "metadata": {
    "id": "9V1Tl_GAdeIv"
   },
   "outputs": [],
   "source": [
    "train_dataloader = DataLoader(\n",
    "    dataset=train_dataset,\n",
    "    batch_size= 4,\n",
    "    shuffle=True)\n",
    "\n",
    "val_dataloader = DataLoader(\n",
    "    dataset=val_dataset,\n",
    "    batch_size=4, \n",
    "    shuffle=False\n",
    "    )"
   ]
  },
  {
   "cell_type": "markdown",
   "metadata": {
    "id": "0fRR9ns6MpSh"
   },
   "source": [
    "Теперь определим функцию для рассчета Intersection Over Union по 4 углам двух прямоугольников"
   ]
  },
  {
   "cell_type": "code",
   "execution_count": null,
   "metadata": {
    "id": "Rd88hnZiMpSh"
   },
   "outputs": [],
   "source": [
    "def intersection_over_union(predicted_bbox, gt_bbox) -> float:\n",
    "    \"\"\"\n",
    "    Intersection Over Union для двух прямоугольников\n",
    "\n",
    "    :param: dt_bbox - [x_max, y_max, x_min, y_min]\n",
    "    :param: gt_bbox - [x_max, y_max, x_min, y_min]\n",
    "    \n",
    "    :return: Intersection Over Union\n",
    "    \"\"\"\n",
    "\n",
    "    intersection_bbox = np.array(\n",
    "        [\n",
    "            max(predicted_bbox[0], gt_bbox[0]),\n",
    "            max(predicted_bbox[1], gt_bbox[1]),\n",
    "            min(predicted_bbox[2], gt_bbox[2]),\n",
    "            min(predicted_bbox[3], gt_bbox[3]),\n",
    "        ]\n",
    "    )\n",
    "\n",
    "    intersection_area = max(intersection_bbox[2] - intersection_bbox[0], 0) * max(\n",
    "        intersection_bbox[3] - intersection_bbox[1], 0\n",
    "    )\n",
    "    area_dt = (predicted_bbox[2] - predicted_bbox[0]) * (predicted_bbox[3] - predicted_bbox[1])\n",
    "    area_gt = (gt_bbox[2] - gt_bbox[0]) * (gt_bbox[3] - gt_bbox[1])\n",
    "\n",
    "    union_area = area_dt + area_gt - intersection_area\n",
    "\n",
    "    iou = intersection_area / union_area\n",
    "    return iou"
   ]
  },
  {
   "cell_type": "markdown",
   "metadata": {
    "id": "dVJWo3xbMpSh"
   },
   "source": [
    "Теперь начинается основная часть домашнего задания: обучите модель YOLO для object detection на __обучающем__ датасете. \n",
    "\n",
    " - Создайте модель и функцию ошибки YoloV1 прочитав [оригинальную статью](https://paperswithcode.com/paper/you-only-look-once-unified-real-time-object)\n",
    " - Напишите функцию обучения модели\n",
    " - Используйте аугментации"
   ]
  },
  {
   "cell_type": "markdown",
   "metadata": {
    "id": "RxfMVwzHW2MJ"
   },
   "source": [
    "## Реализуйте Модель - 2 балла\n",
    "\n",
    "Копировать точное количество слоев и параметры сверток необязательно. Главное - чтобы модель работала по принципу, описанному в статье и делала предсказание в представленном формате.\n",
    "\n",
    "\n",
    "В качестве подсказки напомним, что выходом модели __для каждого обьекта__ должен быть тензор размера\n",
    "__S * S * B * (5 + С)__, где все параметры имеют такое же значение, как и в статье: \n",
    "\n",
    "- S - количество ячеек на которое разбивается изображение по вертикали/горизонтали\n",
    "- В - количество предсказываемых прямоугольников в каждой ячейке\n",
    "- 5 - количество параметров для определения каждого прямоугольника (x_center, y_center, width, height, confidence)\n",
    "- С - количество классов (apple, banana, orange)"
   ]
  },
  {
   "cell_type": "code",
   "execution_count": null,
   "metadata": {
    "id": "3PJwrvcWW1n7"
   },
   "outputs": [],
   "source": [
    "class CNNBlock(nn.Module):  # можно поменять на Lightning\n",
    "    def __init__(self, in_channels, out_channels, is_max_pool:bool=False, **kwargs):\n",
    "        \n",
    "        super(self).__init__()\n",
    "\n",
    "        self.conv = nn.Conv2d(in_channels, out_channels, **kwargs)\n",
    "        self.batchnorm = nn.BatchNorm2d(out_channels)  # в статье еще не знали про батчнорм, но мы то из будущего ...\n",
    "        self.leakyrelu = nn.LeakyReLU(0.1)\n",
    "\n",
    "        self.is_maxpool = is_max_pool  # не после каждой свертки нужно делать maxpool\n",
    "        self.maxpool = nn.MaxPool2d(2)\n",
    "        \n",
    "    def forward(self, x):\n",
    "        x = self.leakyrelu(self.batchnorm(self.conv(x)))\n",
    "\n",
    "        if self.is_maxpool:\n",
    "            x = self.maxpool(x)\n",
    "\n",
    "        return x\n",
    "    \n",
    "class YOLO(nn.Module):\n",
    "    def __init__(self, S=7, B=2, C=3):\n",
    "        \"\"\"\n",
    "        :param: S * S - количество ячеек на которые разбивается изображение\n",
    "        :param: B - количество предсказанных прямоугольников в каждой ячейке\n",
    "        :param: C - количество классов\n",
    "        \"\"\"\n",
    "        \n",
    "        super(YOLO, self).__init__()\n",
    "\n",
    "        self.S = S\n",
    "        self.B = B\n",
    "        self.C = C\n",
    "\n",
    "        ## YOUR CODE\n",
    "        \n",
    "        ## YOUR CODE\n",
    "\n",
    "    def forward(self, predictions, target):\n",
    "        \n",
    "        ## YOUR CODE\n",
    "        \n",
    "        pass\n",
    "\n",
    "\n",
    "temp_model = YOLO()\n",
    "expected_output_shape = temp_model.S * temp_model.S * temp_model.B * (5 + temp_model.C)\n",
    "\n",
    "assert temp_model(train_dataset[0][0]).reshape(-1).shape[0] == expected_output_shape"
   ]
  },
  {
   "cell_type": "markdown",
   "metadata": {
    "id": "OJIjWKbcYUYe"
   },
   "source": [
    "## Реализуйте YoloLoss - 3 балла"
   ]
  },
  {
   "cell_type": "code",
   "execution_count": null,
   "metadata": {
    "id": "TwJZ7o0BYTbB"
   },
   "outputs": [],
   "source": [
    "class YoloLoss(nn.Module):\n",
    "    def __init__(self, S=7, B=2, C=3):\n",
    "        \"\"\"\n",
    "        :param: S * S - количество ячеек на которые разбивается изображение\n",
    "        :param: B - количество предсказанных прямоугольников в каждой ячейке\n",
    "        :param: C - количество классов\n",
    "        \"\"\"\n",
    "        \n",
    "        super(self).__init__()\n",
    "        self.mse = nn.MSELoss(reduction=\"sum\")\n",
    "\n",
    "        self.S = S\n",
    "        self.B = B\n",
    "        self.C = C\n",
    "\n",
    "        self.lambda_noobj = 0.5\n",
    "        self.lambda_coord = 5\n",
    "\n",
    "    def forward(self, predictions, target):\n",
    "        ## YOUR CODE\n",
    "        pass"
   ]
  },
  {
   "cell_type": "markdown",
   "metadata": {
    "id": "aZ1eev1EeNk7"
   },
   "source": [
    "## Реализуйте дополнительные функции из статьи - 2 балла"
   ]
  },
  {
   "cell_type": "code",
   "execution_count": null,
   "metadata": {
    "id": "OMF8e6yXU6QV"
   },
   "outputs": [],
   "source": [
    "def non_max_suppression(bboxes, iou_threshold, threshold):\n",
    "    ## YOUR CODE\n",
    "    pass\n",
    "\n",
    "def mean_average_precision(pred_boxes, true_boxes, iou_threshold=0.5):\n",
    "    ## YOUR CODE\n",
    "    pass\n",
    "\n",
    "def get_bound_boxes(loader, model, iou_threshold=.5, threshold=.4):\n",
    "    ## YOUR CODE\n",
    "    return all_pred_boxes, all_true_boxes"
   ]
  },
  {
   "cell_type": "markdown",
   "metadata": {
    "id": "z38hYLM6haDk"
   },
   "source": [
    "## Обучите модель и посчитайте метрики для задачи детекции - 2 балла \n",
    "\n",
    "Несмотря на то, что в этом блоке ничего сильно нового для вас не ожидается и за него формально дается лишь два балла - провести обучение очень важно для понимания того, насколько правильно реализована ваша модель и лосс.\n",
    "\n",
    "В процессе обучения будет видно все ли размерности совпадают, падает ли лосс и растут ли метрики целевой задачи, поэтому на практике этот пункт гораздо оказывается гораздо важнее."
   ]
  },
  {
   "cell_type": "code",
   "execution_count": null,
   "metadata": {
    "id": "6BTNHNqtMpSi"
   },
   "outputs": [],
   "source": [
    "class YOLOLearner(pl.LightningModule):\n",
    "    def __init__(self) -> None:\n",
    "        super().__init__()\n",
    "\n",
    "        self.model = YOLO()\n",
    "        self.loss = YoloLoss()\n",
    "        self.optimizer = torch.optim.Adam(self.model.parameters(), lr=1e-3)\n",
    "\n",
    "    def forward(self, x) -> torch.Tensor:\n",
    "        return self.model(x)\n",
    "\n",
    "    def configure_optimizers(self):\n",
    "        return self.optimizer\n",
    "\n",
    "    def training_step(self, train_batch, batch_idx) -> torch.Tensor:\n",
    "        ## YOUR CODE\n",
    "        pass\n",
    "\n",
    "    def validation_step(self, val_batch, batch_idx) -> None:\n",
    "        ## YOUR CODE\n",
    "        pass"
   ]
  },
  {
   "cell_type": "code",
   "execution_count": null,
   "metadata": {
    "id": "sRl42I2xMpSi"
   },
   "outputs": [],
   "source": [
    "model = # YOUR CODE\n",
    "n_epochs = # YOUR CODE\n",
    "\n",
    "yolo_learner = YOLOLearner(...)  ## YOUR CODE\n",
    "\n",
    "device = \"gpu\" if torch.cuda.is_available() else \"cpu\"\n",
    "trainer = pl.Trainer(accelerator=device, max_epochs=n_epochs)\n",
    "\n",
    "trainer.fit(yolo_learner, train_dataloader, val_dataloader)"
   ]
  },
  {
   "cell_type": "markdown",
   "metadata": {
    "id": "eb7ioohR96vu"
   },
   "source": [
    "## Посчитайте метрики задачи детекции на валидационной выборке\n",
    "\n",
    "Попробуйте понять насколько хороши ваши показатели. Если числа кажутся подозрительно низкими - возможно вам стоит перепроверить ваше решение. "
   ]
  },
  {
   "cell_type": "code",
   "execution_count": null,
   "metadata": {
    "id": "WUnlNeot98un"
   },
   "outputs": [],
   "source": [
    "## YOUR CODE"
   ]
  },
  {
   "cell_type": "markdown",
   "metadata": {
    "id": "o_YG71pYMpSi"
   },
   "source": [
    "## Визуализируйте предсказанные bounding box'ы для любых пяти картинок из __валидационного__ датасета."
   ]
  },
  {
   "cell_type": "code",
   "execution_count": null,
   "metadata": {
    "id": "WgVdVzvMMpSi"
   },
   "outputs": [],
   "source": [
    "image, targets = next(iter(val_dataset))\n",
    "preds = ## YOUR CODE"
   ]
  },
  {
   "cell_type": "code",
   "execution_count": null,
   "metadata": {
    "id": "tpp4jHs0MpSi"
   },
   "outputs": [],
   "source": [
    "from PIL import ImageDraw\n",
    "\n",
    "image = torchvision.transform.ToPILImage()(image)\n",
    "draw = ImageDraw.Draw(image)\n",
    "\n",
    "for box in targets[0]:\n",
    "    ## YOUR CODE\n",
    "    draw.rectangle([(box[0], box[1]), (box[2], box[3])])\n",
    "\n",
    "for box in preds[0]:\n",
    "    ## YOUR CODE\n",
    "    draw.rectangle([(box[0], box[1]), (box[2], box[3])], outline='red')\n",
    "image"
   ]
  }
 ],
 "metadata": {
  "colab": {
   "provenance": []
  },
  "kernelspec": {
   "display_name": "Python 3 (ipykernel)",
   "language": "python",
   "name": "python3"
  },
  "language_info": {
   "codemirror_mode": {
    "name": "ipython",
    "version": 3
   },
   "file_extension": ".py",
   "mimetype": "text/x-python",
   "name": "python",
   "nbconvert_exporter": "python",
   "pygments_lexer": "ipython3",
   "version": "3.8.8"
  }
 },
 "nbformat": 4,
 "nbformat_minor": 1
}
